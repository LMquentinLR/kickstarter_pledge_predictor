{
 "cells": [
  {
   "cell_type": "markdown",
   "metadata": {},
   "source": [
    "# Spark Pipeline on Kickstarter Pledge Dataset\n",
    "\n",
    "## 1. Overview\n",
    "\n",
    "### 1.1. Instructions\n",
    "\n",
    "- **Choosing any sufficiently large open dataset** (less than 100000 lines are not allowed)\n",
    "\n",
    "\n",
    "- **Choosing one variable to predict**\n",
    "\n",
    "\n",
    "- **Implementing at least two supervised learning models**: classification, regression, recommender system, etc. Unsupervised tasks (e.g. clusterisation, associative rules, etc.) are not allowed\n",
    "\n",
    "\n",
    "- **Mandatory use of Apache Spark** (e.g. on Google Cloud as we did during our lab sessions)\n",
    "\n",
    "\n",
    "- A **full machine learning pipeline must be implemented**, which include:\n",
    "    - Reading the data\n",
    "    - Transforming data (extracting features, dealing with missing values if any, etc.)\n",
    "    - Building models (build at least two models to compare)\n",
    "    - Evaluating quality (use cross-validation or train/test split)\n",
    "\n",
    "### 1.2. Dataset\n",
    "\n",
    "We will be using the [Kickstarter Projects](https://www.kaggle.com/kemical/kickstarter-projects) Kaggle dataset. It contains two .csv files dated December 2016 and January 2018 which contains lists of kickstarter campaigns, explicited with the following data fields:\n",
    "\n",
    "- ID\n",
    "- name\n",
    "- category\n",
    "- main_category\n",
    "- currency\n",
    "- deadline\n",
    "- goal\n",
    "- launched\n",
    "- pledged\n",
    "- state\n",
    "- backers\n",
    "- country\n",
    "- usd_pledged: conversion in US dollars of the pledged column \n",
    "- usd_pledged_real: conversion in US dollars of the pledged column\n",
    "- usd_goal_real: conversion in US dollars of the goal column\n",
    "\n",
    "\n",
    "### 1.3. Goal\n",
    "\n",
    "Our goal will be to predict the **state** value of campaigns based on any number other columns (our features), excluding *usd_pledged* and *usd_pledged_real*.\n",
    "\n",
    "The notebook was also ran locally using the installation steps for Spark described [here](https://sparkbyexamples.com/spark/spark-installation-on-linux-ubuntu/).\n",
    "\n",
    "## 2. Environment Set-Up\n",
    "\n",
    "We need the following libraries installed to set up the environment:\n",
    "\n",
    "- kaggle (see documentation [here](https://github.com/Kaggle/kaggle-api#datasets))\n",
    "- pyspark (see documentation [here](https://spark.apache.org/docs/latest/api/python/index.html))"
   ]
  },
  {
   "cell_type": "code",
   "execution_count": 1,
   "metadata": {},
   "outputs": [
    {
     "name": "stdout",
     "output_type": "stream",
     "text": [
      "Requirement already satisfied: kaggle in /home/qlr/anaconda3/lib/python3.8/site-packages (1.5.10)\n",
      "Requirement already satisfied: requests in /home/qlr/anaconda3/lib/python3.8/site-packages (from kaggle) (2.24.0)\n",
      "Requirement already satisfied: python-dateutil in /home/qlr/anaconda3/lib/python3.8/site-packages (from kaggle) (2.8.1)\n",
      "Requirement already satisfied: tqdm in /home/qlr/anaconda3/lib/python3.8/site-packages (from kaggle) (4.50.2)\n",
      "Requirement already satisfied: python-slugify in /home/qlr/anaconda3/lib/python3.8/site-packages (from kaggle) (4.0.1)\n",
      "Requirement already satisfied: six>=1.10 in /home/qlr/anaconda3/lib/python3.8/site-packages (from kaggle) (1.15.0)\n",
      "Requirement already satisfied: certifi in /home/qlr/anaconda3/lib/python3.8/site-packages (from kaggle) (2020.6.20)\n",
      "Requirement already satisfied: urllib3 in /home/qlr/anaconda3/lib/python3.8/site-packages (from kaggle) (1.25.11)\n",
      "Requirement already satisfied: chardet<4,>=3.0.2 in /home/qlr/anaconda3/lib/python3.8/site-packages (from requests->kaggle) (3.0.4)\n",
      "Requirement already satisfied: idna<3,>=2.5 in /home/qlr/anaconda3/lib/python3.8/site-packages (from requests->kaggle) (2.10)\n",
      "Requirement already satisfied: text-unidecode>=1.3 in /home/qlr/anaconda3/lib/python3.8/site-packages (from python-slugify->kaggle) (1.3)\n",
      "Requirement already satisfied: pyspark in /home/qlr/anaconda3/lib/python3.8/site-packages (3.0.1)\n",
      "Requirement already satisfied: py4j==0.10.9 in /home/qlr/anaconda3/lib/python3.8/site-packages (from pyspark) (0.10.9)\n"
     ]
    }
   ],
   "source": [
    "# Installs the kaggle and pyspark module on the machine\n",
    "!pip install kaggle\n",
    "!pip install pyspark"
   ]
  },
  {
   "cell_type": "markdown",
   "metadata": {},
   "source": [
    "## 3. Dataset Download"
   ]
  },
  {
   "cell_type": "code",
   "execution_count": 2,
   "metadata": {},
   "outputs": [],
   "source": [
    "# Removes previously existing files\n",
    "!rm -f kickstarter-projects.zip\n",
    "!rm -f ks-projects-201612.csv ks-projects-201801.csv"
   ]
  },
  {
   "cell_type": "markdown",
   "metadata": {},
   "source": [
    "### 3.1. Setting up Kaggle environment variables with the kaggle.json file\n",
    "\n",
    "#### 3.1.2. On Google Cloud\n",
    "\n",
    "<span style=\"color:red\">To download the kaggle dataset, we must first upload our account's **kaggle.json file** in the **/root/.kaggle/ folder**.</span>\n",
    "    \n",
    "<span style=\"color:red\">The kaggle.json file can be downloaded here:</span>\n",
    "\n",
    "> ``https://www.kaggle.com/<username>/account``\n",
    "    \n",
    "<span style=\"color:red\">It is assumed we created a **/home/\\<user\\>/ folder** where this Jupyter Notebook and the kaggle.json file have been uploaded</span>."
   ]
  },
  {
   "cell_type": "raw",
   "metadata": {},
   "source": [
    "############## WARNING ###########\n",
    "# RUN ONLY WHEN USING GOOGLE CLOUD\n",
    "##################################\n",
    "\n",
    "# Given this notebook and the kaggle.json file are set in the folder /home/<user>/\n",
    "# Moves the kaggle.json file from the user folder to the root folder\n",
    "!mkdir /root/.kaggle/\n",
    "!mv /home/qlr/kaggle.json /root/.kaggle/kaggle.json"
   ]
  },
  {
   "cell_type": "markdown",
   "metadata": {},
   "source": [
    "#### 3.1.2. On a local machine\n",
    "    \n",
    "<span style=\"color:red\">Download and move the kaggle.json file to the local /root/.kaggle/ folder.</span>\n",
    "\n",
    "### 3.2. Downloading the dataset\n",
    "\n",
    "We only keep 'ks-projects-201801.csv', the most recent dataset available."
   ]
  },
  {
   "cell_type": "code",
   "execution_count": 3,
   "metadata": {},
   "outputs": [
    {
     "name": "stdout",
     "output_type": "stream",
     "text": [
      "Warning: Your Kaggle API key is readable by other users on this system! To fix this, you can run 'chmod 600 /home/qlr/.kaggle/kaggle.json'\n",
      "Downloading kickstarter-projects.zip to /home/qlr/Programming/kickstarter_pledge_prediction\n",
      "100%|██████████████████████████████████████| 36.8M/36.8M [00:05<00:00, 6.00MB/s]\n",
      "100%|██████████████████████████████████████| 36.8M/36.8M [00:05<00:00, 6.62MB/s]\n"
     ]
    }
   ],
   "source": [
    "# Dowloads the raw dataset from the kaggle source\n",
    "!kaggle datasets download -d kemical/kickstarter-projects"
   ]
  },
  {
   "cell_type": "code",
   "execution_count": 4,
   "metadata": {},
   "outputs": [
    {
     "name": "stdout",
     "output_type": "stream",
     "text": [
      "Archive:  kickstarter-projects.zip\n",
      "  inflating: ks-projects-201612.csv  \n",
      "  inflating: ks-projects-201801.csv  \n"
     ]
    }
   ],
   "source": [
    "# Unzips the raw dataset and keeps only the most recent instance\n",
    "!unzip kickstarter-projects.zip\n",
    "!rm -f ks-projects-201612.csv kickstarter-projects.zip"
   ]
  },
  {
   "cell_type": "raw",
   "metadata": {},
   "source": [
    "# Zips the raw dataset once instantiated in memory\n",
    "# Useful for git push as Github gives a warning when pushing a file > 50Mb\n",
    "!zip ks-projects-201801.zip ks-projects-201801.csv\n",
    "!rm -f ks-projects-201801.csv\n",
    "!ls"
   ]
  },
  {
   "cell_type": "markdown",
   "metadata": {},
   "source": [
    "### 3.3. Uploading to HDFS when using Google Cloud"
   ]
  },
  {
   "cell_type": "raw",
   "metadata": {},
   "source": [
    "############## WARNING ###########\n",
    "# RUN ONLY WHEN USING GOOGLE CLOUD\n",
    "##################################\n",
    "\n",
    "# Uploads the dataset to HDFS when on Google Cloud\n",
    "!hdfs dfs -mkdir /user/qlr\n",
    "!hdfs dfs -rm /user/qlr/ks-projects-201801.csv\n",
    "!hdfs dfs -put ks-projects-201801.csv /user/qlr\n",
    "!hdfs dfs -ls /user/qlr"
   ]
  },
  {
   "cell_type": "markdown",
   "metadata": {},
   "source": [
    "## 4. Library Imports & Setting Spark/Global Environment Variables"
   ]
  },
  {
   "cell_type": "code",
   "execution_count": 5,
   "metadata": {},
   "outputs": [],
   "source": [
    "# Loads the needed modules\n",
    "from pyspark.context import SparkContext\n",
    "\n",
    "from pyspark.ml import Pipeline\n",
    "from pyspark.ml.evaluation import BinaryClassificationEvaluator\n",
    "from pyspark.ml.feature import StringIndexer, OneHotEncoder, VectorAssembler, StandardScaler \n",
    "from pyspark.ml.feature import Word2Vec, Tokenizer, HashingTF\n",
    "from pyspark.ml.classification import DecisionTreeClassifier\n",
    "from pyspark.ml.classification import NaiveBayes\n",
    "from pyspark.ml.classification import RandomForestClassifier\n",
    "from pyspark.ml.classification import LogisticRegression\n",
    "from pyspark.ml.tuning import CrossValidator, ParamGridBuilder\n",
    "\n",
    "from pyspark.sql import Row\n",
    "from pyspark.sql.functions import unix_timestamp, ceil, isnan, when, count, col\n",
    "from pyspark.sql.session import SparkSession\n",
    "from pyspark.sql.types import DoubleType"
   ]
  },
  {
   "cell_type": "code",
   "execution_count": 6,
   "metadata": {},
   "outputs": [],
   "source": [
    "############## WARNING ###########\n",
    "# RUN ONLY WHEN ON A LOCAL MACHINE\n",
    "##################################\n",
    "\n",
    "dataset_path = \"ks-projects-201801.csv\"\n",
    "dataset_format = \"csv\"\n",
    "context = \"local\"\n",
    "\n",
    "# Instantiates a local Spark Session\n",
    "spark = SparkSession.builder \\\n",
    "    .master(\"local[*]\") \\\n",
    "    .config(\"spark.driver.memory\", \"12g\") \\\n",
    "    .appName(\"distributed-database-assignment\") \\\n",
    "    .getOrCreate()"
   ]
  },
  {
   "cell_type": "raw",
   "metadata": {},
   "source": [
    "############## WARNING ###########\n",
    "# RUN ONLY WHEN USING GOOGLE CLOUD\n",
    "##################################\n",
    "\n",
    "dataset_path = \"/user/qlr/ks-projects-201801.csv\"\n",
    "dataset_format = \"csv\"\n",
    "context = \"cloud\""
   ]
  },
  {
   "cell_type": "markdown",
   "metadata": {},
   "source": [
    "## 5. Loading the Kickstarter Dataset"
   ]
  },
  {
   "cell_type": "markdown",
   "metadata": {},
   "source": [
    "<span style=\"color:red\">Comment out the following cell when when running the notebook Google Cloud as a spark session is automatically instantiated.</span>"
   ]
  },
  {
   "cell_type": "code",
   "execution_count": 7,
   "metadata": {
    "scrolled": true
   },
   "outputs": [
    {
     "data": {
      "text/html": [
       "\n",
       "            <div>\n",
       "                <p><b>SparkSession - in-memory</b></p>\n",
       "                \n",
       "        <div>\n",
       "            <p><b>SparkContext</b></p>\n",
       "\n",
       "            <p><a href=\"http://desktop-lkaf740-2.home:4040\">Spark UI</a></p>\n",
       "\n",
       "            <dl>\n",
       "              <dt>Version</dt>\n",
       "                <dd><code>v3.0.1</code></dd>\n",
       "              <dt>Master</dt>\n",
       "                <dd><code>local[*]</code></dd>\n",
       "              <dt>AppName</dt>\n",
       "                <dd><code>distributed-database-assignment</code></dd>\n",
       "            </dl>\n",
       "        </div>\n",
       "        \n",
       "            </div>\n",
       "        "
      ],
      "text/plain": [
       "<pyspark.sql.session.SparkSession at 0x7f3888068dc0>"
      ]
     },
     "execution_count": 7,
     "metadata": {},
     "output_type": "execute_result"
    }
   ],
   "source": [
    "#Spark UI on Google Cloud should return:\n",
    "#   v2.3.4 (version)\n",
    "#   yarn (Master)\n",
    "#   PySparkShell (AppName)\n",
    "\n",
    "spark"
   ]
  },
  {
   "cell_type": "code",
   "execution_count": 8,
   "metadata": {},
   "outputs": [],
   "source": [
    "# Loads the dataset\n",
    "campaigns = (spark\n",
    "             .read\n",
    "             .format(dataset_format)\n",
    "             .options(header=True)\n",
    "             .load(dataset_path))"
   ]
  },
  {
   "cell_type": "markdown",
   "metadata": {},
   "source": [
    "## 6. Dataset Pre-Processing"
   ]
  },
  {
   "cell_type": "code",
   "execution_count": 9,
   "metadata": {},
   "outputs": [],
   "source": [
    "# Declares variables for pre-processing the dataset\n",
    "kept_raw_columns = [\n",
    "    \"ID\",\"name\",\"category\",\"deadline\",\"launched\",\"country\",\"usd_goal_real\", #features\n",
    "    \"state\" # target\n",
    "]\n",
    "\n",
    "remove_date_columns = [\n",
    "    \"ID\",\"name\",\"category\",\"total_duration\",\"country\",\"usd_goal_real\", #features\n",
    "    \"state\" # target\n",
    "]\n",
    "\n",
    "kept_columns_for_modelization = [\n",
    "    \"total_duration\",\"usd_goal_real\",\"name\",\"category\",\"country\", #features\n",
    "    \"state\" # target\n",
    "]\n",
    "\n",
    "deadline_format = \"yyyy-MM-dd\"\n",
    "launched_format = \"yyyy-MM-dd HH:mm:ss\"\n",
    "\n",
    "final_columns = [\"scaled_features\", \"label\"]"
   ]
  },
  {
   "cell_type": "code",
   "execution_count": 10,
   "metadata": {},
   "outputs": [],
   "source": [
    "# Declares useful functions\n",
    "def dataset_check(db):\n",
    "    print(\"The dataset contains \" + str(db.count()) + \" rows.\")\n",
    "    db.show(n=5)"
   ]
  },
  {
   "cell_type": "code",
   "execution_count": 11,
   "metadata": {},
   "outputs": [
    {
     "name": "stdout",
     "output_type": "stream",
     "text": [
      "root\n",
      " |-- ID: string (nullable = true)\n",
      " |-- name: string (nullable = true)\n",
      " |-- category: string (nullable = true)\n",
      " |-- main_category: string (nullable = true)\n",
      " |-- currency: string (nullable = true)\n",
      " |-- deadline: string (nullable = true)\n",
      " |-- goal: string (nullable = true)\n",
      " |-- launched: string (nullable = true)\n",
      " |-- pledged: string (nullable = true)\n",
      " |-- state: string (nullable = true)\n",
      " |-- backers: string (nullable = true)\n",
      " |-- country: string (nullable = true)\n",
      " |-- usd pledged: string (nullable = true)\n",
      " |-- usd_pledged_real: string (nullable = true)\n",
      " |-- usd_goal_real: string (nullable = true)\n",
      "\n"
     ]
    }
   ],
   "source": [
    "# Checks the type of the dataset columns\n",
    "campaigns.printSchema()"
   ]
  },
  {
   "cell_type": "code",
   "execution_count": 12,
   "metadata": {
    "scrolled": false
   },
   "outputs": [],
   "source": [
    "# Drops NAs, Nulls, and Duplicates \n",
    "campaigns = campaigns.dropna()\n",
    "campaigns = campaigns.dropDuplicates()\n",
    "for column in campaigns.columns:\n",
    "    campaigns = campaigns.where(col(column).isNotNull())"
   ]
  },
  {
   "cell_type": "code",
   "execution_count": 13,
   "metadata": {},
   "outputs": [],
   "source": [
    "# Prunes the non-relevant columns\n",
    "campaigns = campaigns.select(kept_raw_columns)"
   ]
  },
  {
   "cell_type": "code",
   "execution_count": 14,
   "metadata": {
    "scrolled": false
   },
   "outputs": [],
   "source": [
    "# Computes a duration time (in day) between the launch and deadline features\n",
    "launch_times = unix_timestamp(\"launched\", format = launched_format)\n",
    "deadline_times = unix_timestamp(\"deadline\", format = deadline_format)\n",
    "time_difference = deadline_times - launch_times\n",
    "campaigns = campaigns.withColumn(\"total_duration\",ceil(time_difference/(3600*24)))\n",
    "\n",
    "# Removes the launch and deadline feature columns\n",
    "campaigns = campaigns.select(remove_date_columns)"
   ]
  },
  {
   "cell_type": "code",
   "execution_count": 15,
   "metadata": {},
   "outputs": [],
   "source": [
    "# Cleans the target labels:\n",
    "#   - 'undefined', 'live' -> dropped\n",
    "for condition in ['state!=\"undefined\"', 'state!=\"live\"']:\n",
    "    campaigns = campaigns.where(condition)\n",
    "\n",
    "#   - 'suspended', 'cancelled' -> renamed to 'failed' \n",
    "campaigns = campaigns.\\\n",
    "    withColumn(\"state\",when(col(\"state\") == \"canceled\", \"failed\").\\\n",
    "    when(col(\"state\") == \"suspended\", \"failed\").\\\n",
    "    when(col(\"state\") == \"failed\", \"failed\").\\\n",
    "    otherwise(\"successful\"))"
   ]
  },
  {
   "cell_type": "code",
   "execution_count": 16,
   "metadata": {},
   "outputs": [],
   "source": [
    "# Casts the relevant column(s) to their end types\n",
    "for column in [\"total_duration\", \"usd_goal_real\"]:\n",
    "    campaigns = campaigns.withColumn(column,col(column).cast(DoubleType()))"
   ]
  },
  {
   "cell_type": "code",
   "execution_count": 17,
   "metadata": {
    "scrolled": true
   },
   "outputs": [],
   "source": [
    "# finishes clean-up\n",
    "processed_campaigns = campaigns.select(kept_columns_for_modelization)"
   ]
  },
  {
   "cell_type": "markdown",
   "metadata": {},
   "source": [
    "With the preprocessed campaigns, we can both explore the data better and build our Spark pipelines."
   ]
  },
  {
   "cell_type": "markdown",
   "metadata": {},
   "source": [
    "### 6.1. Exploring the pre-processed campaigns"
   ]
  },
  {
   "cell_type": "code",
   "execution_count": 18,
   "metadata": {},
   "outputs": [],
   "source": [
    "def count_unique_instances(df, column_name):\n",
    "    \"\"\"\n",
    "    Prints the count of each unique instance in a column in descending order\n",
    "    \"\"\"\n",
    "    df.select(column_name).groupBy(column_name).count().orderBy(col(\"count\").desc()).show()"
   ]
  },
  {
   "cell_type": "code",
   "execution_count": 19,
   "metadata": {},
   "outputs": [
    {
     "name": "stdout",
     "output_type": "stream",
     "text": [
      "The dataset contains 372060 rows.\n",
      "+--------------+-------------+--------------------+--------------+-------+----------+\n",
      "|total_duration|usd_goal_real|                name|      category|country|     state|\n",
      "+--------------+-------------+--------------------+--------------+-------+----------+\n",
      "|          43.0|      4926.39|             Borders|         Drama|     GB|    failed|\n",
      "|          21.0|      2240.39|Spiele für iOS un...|  Mobile Games|     DE|    failed|\n",
      "|          30.0|        700.0|Odyssey Skateboar...|Graphic Design|     US|    failed|\n",
      "|          30.0|       5500.0|Debut EP Album Pr...|           R&B|     US|    failed|\n",
      "|          16.0|       1200.0|GBS Detroit Prese...|    Indie Rock|     US|successful|\n",
      "+--------------+-------------+--------------------+--------------+-------+----------+\n",
      "only showing top 5 rows\n",
      "\n"
     ]
    }
   ],
   "source": [
    "# Checks dataset structure\n",
    "dataset_check(processed_campaigns)"
   ]
  },
  {
   "cell_type": "code",
   "execution_count": 20,
   "metadata": {},
   "outputs": [
    {
     "data": {
      "text/plain": [
       "[('total_duration', 'double'),\n",
       " ('usd_goal_real', 'double'),\n",
       " ('name', 'string'),\n",
       " ('category', 'string'),\n",
       " ('country', 'string'),\n",
       " ('state', 'string')]"
      ]
     },
     "execution_count": 20,
     "metadata": {},
     "output_type": "execute_result"
    }
   ],
   "source": [
    "processed_campaigns.dtypes"
   ]
  },
  {
   "cell_type": "code",
   "execution_count": 21,
   "metadata": {
    "scrolled": true
   },
   "outputs": [
    {
     "name": "stdout",
     "output_type": "stream",
     "text": [
      "+--------------+-------------+----+--------+-------+-----+\n",
      "|total_duration|usd_goal_real|name|category|country|state|\n",
      "+--------------+-------------+----+--------+-------+-----+\n",
      "|             0|            0|   0|       0|      0|    0|\n",
      "+--------------+-------------+----+--------+-------+-----+\n",
      "\n"
     ]
    }
   ],
   "source": [
    "# Checks for N/A\n",
    "processed_campaigns.select([count(when(isnan(c), c)).alias(c) for c in processed_campaigns.columns]).show()"
   ]
  },
  {
   "cell_type": "code",
   "execution_count": 22,
   "metadata": {
    "scrolled": true
   },
   "outputs": [
    {
     "name": "stdout",
     "output_type": "stream",
     "text": [
      "+----------+------+\n",
      "|     state| count|\n",
      "+----------+------+\n",
      "|    failed|237451|\n",
      "|successful|134609|\n",
      "+----------+------+\n",
      "\n"
     ]
    }
   ],
   "source": [
    "#Checks state column's content\n",
    "count_unique_instances(processed_campaigns, \"state\")"
   ]
  },
  {
   "cell_type": "code",
   "execution_count": 23,
   "metadata": {},
   "outputs": [
    {
     "name": "stdout",
     "output_type": "stream",
     "text": [
      "+----------------+-----+\n",
      "|        category|count|\n",
      "+----------------+-----+\n",
      "|  Product Design|22037|\n",
      "|     Documentary|16015|\n",
      "|  Tabletop Games|14058|\n",
      "|           Music|13195|\n",
      "|          Shorts|12234|\n",
      "|     Video Games|11733|\n",
      "|            Food|11436|\n",
      "|    Film & Video| 9132|\n",
      "|         Fiction| 9050|\n",
      "|         Fashion| 8503|\n",
      "|      Nonfiction| 8215|\n",
      "|             Art| 8170|\n",
      "|         Apparel| 7047|\n",
      "|         Theater| 6969|\n",
      "|      Technology| 6841|\n",
      "|            Rock| 6682|\n",
      "|Children's Books| 6656|\n",
      "|            Apps| 6259|\n",
      "|     Photography| 5726|\n",
      "|       Webseries| 5723|\n",
      "+----------------+-----+\n",
      "only showing top 20 rows\n",
      "\n"
     ]
    }
   ],
   "source": [
    "count_unique_instances(processed_campaigns, \"category\")"
   ]
  },
  {
   "cell_type": "code",
   "execution_count": 24,
   "metadata": {},
   "outputs": [
    {
     "name": "stdout",
     "output_type": "stream",
     "text": [
      "+-------+------+\n",
      "|country| count|\n",
      "+-------+------+\n",
      "|     US|289717|\n",
      "|     GB| 33350|\n",
      "|     CA| 14603|\n",
      "|     AU|  7754|\n",
      "|     DE|  4091|\n",
      "|     FR|  2879|\n",
      "|     NL|  2830|\n",
      "|     IT|  2794|\n",
      "|     ES|  2221|\n",
      "|     SE|  1736|\n",
      "|     MX|  1639|\n",
      "|     NZ|  1434|\n",
      "|     DK|  1096|\n",
      "|     IE|   799|\n",
      "|     CH|   745|\n",
      "|     NO|   699|\n",
      "|     BE|   605|\n",
      "|     HK|   583|\n",
      "|     AT|   582|\n",
      "|     SG|   526|\n",
      "+-------+------+\n",
      "only showing top 20 rows\n",
      "\n"
     ]
    }
   ],
   "source": [
    "count_unique_instances(processed_campaigns, \"country\")"
   ]
  },
  {
   "cell_type": "code",
   "execution_count": 25,
   "metadata": {},
   "outputs": [
    {
     "name": "stdout",
     "output_type": "stream",
     "text": [
      "+--------------+------+\n",
      "|total_duration| count|\n",
      "+--------------+------+\n",
      "|          30.0|165615|\n",
      "|          60.0| 32147|\n",
      "|          45.0| 17293|\n",
      "|          31.0| 13083|\n",
      "|          35.0|  9868|\n",
      "|          40.0|  9734|\n",
      "|          32.0|  7141|\n",
      "|          20.0|  6701|\n",
      "|          21.0|  6597|\n",
      "|          29.0|  6248|\n",
      "|          25.0|  6037|\n",
      "|          33.0|  5660|\n",
      "|          28.0|  5348|\n",
      "|          15.0|  5287|\n",
      "|          14.0|  4080|\n",
      "|          34.0|  3562|\n",
      "|          36.0|  3362|\n",
      "|          27.0|  2869|\n",
      "|          22.0|  2658|\n",
      "|          26.0|  2589|\n",
      "+--------------+------+\n",
      "only showing top 20 rows\n",
      "\n"
     ]
    }
   ],
   "source": [
    "count_unique_instances(processed_campaigns, \"total_duration\")"
   ]
  },
  {
   "cell_type": "markdown",
   "metadata": {},
   "source": [
    "### 6.2. Creating the dataset for Logistic Regression, Decision Tree, and Random Forest\n",
    "\n",
    "Our first three models will be:\n",
    "- Logistic Regression\n",
    "- Decision Tree\n",
    "- Random Forest\n",
    "\n",
    "To create our data pipeline, we will rely on indexing and assembling our data using the following stages:\n",
    "- **StringIndexer** for all categorical columns\n",
    "- **OneHotEncoder** for all categorical index columns\n",
    "- **Tokenizer** and **Word2Vec** for the \\<name\\> column\n",
    "- **VectorAssembler** for all feature columns to be assembled into one vector column"
   ]
  },
  {
   "cell_type": "code",
   "execution_count": 26,
   "metadata": {},
   "outputs": [],
   "source": [
    "# String-indexes the categorical feature columns\n",
    "categorical_feature_columns = processed_campaigns.columns[3:5]\n",
    "string_indexing_feature_columns = [\n",
    "    StringIndexer(inputCol=column, outputCol=\"strindexed_\" + column, handleInvalid=\"skip\")\n",
    "    for column in categorical_feature_columns\n",
    "]\n",
    "\n",
    "# String-indexes the label column\n",
    "string_indexing_label_column = [\n",
    "    StringIndexer(inputCol=\"state\", outputCol=\"label\", handleInvalid=\"skip\")\n",
    "]"
   ]
  },
  {
   "cell_type": "markdown",
   "metadata": {},
   "source": [
    "<span style=\"color:red\">**Note on pyspark 2.3 used on Google Cloud**:  OneHotEncoder and VectorAssembler do not have the \\<handleInvalid\\> attribute. The resulting effect is that pyspark can raise a null error during .fit() procedures despite no na exists in the dataset (see cell in previous part). A solution will be to pass dataset column as dataset.na.drop() later on.</span>"
   ]
  },
  {
   "cell_type": "code",
   "execution_count": 27,
   "metadata": {},
   "outputs": [],
   "source": [
    "# Creates pipeline stages to one-hot encode each categorical feature column\n",
    "if context == \"local\":\n",
    "    onehot_encoding_feature_columns = [\n",
    "        OneHotEncoder(inputCol = \"strindexed_\" + column, \n",
    "                      outputCol = \"onehot_\" + column,\n",
    "                      handleInvalid = \"keep\")\n",
    "        for column in categorical_feature_columns\n",
    "    ]\n",
    "else:\n",
    "    onehot_encoding_feature_columns = [\n",
    "        OneHotEncoder(inputCol = \"strindexed_\" + column, \n",
    "                      outputCol = \"onehot_\" + column) \n",
    "        for column in categorical_feature_columns\n",
    "    ]"
   ]
  },
  {
   "cell_type": "raw",
   "metadata": {},
   "source": [
    "scaler_duration = StandardScaler(inputCol=\"total_duration\", outputCol=\"scaled_duration\")\n",
    "scaler_pledge = StandardScaler(inputCol=\"usd_goal_real\", outputCol=\"scaled_pledge\")"
   ]
  },
  {
   "cell_type": "code",
   "execution_count": 28,
   "metadata": {},
   "outputs": [],
   "source": [
    "# Creates pipeline stages to vector assemble each categorical feature column\n",
    "processed_feature_columns = list(map(lambda col_name: \"onehot_\" + col_name, categorical_feature_columns))\n",
    "processed_feature_columns += [\"total_duration\", \"usd_goal_real\"]\n",
    "\n",
    "if context == \"local\":\n",
    "    vectorassembler_stage = VectorAssembler(inputCols=processed_feature_columns, \n",
    "                                            outputCol=\"features_1\",\n",
    "                                            handleInvalid=\"skip\")\n",
    "else:\n",
    "    vectorassembler_stage = VectorAssembler(inputCols=processed_feature_columns, \n",
    "                                            outputCol=\"features_1\")"
   ]
  },
  {
   "cell_type": "code",
   "execution_count": 29,
   "metadata": {},
   "outputs": [],
   "source": [
    "# Creates pipeline stages to vectorize the <name> column\n",
    "tokenizer = Tokenizer(inputCol=\"name\", outputCol=\"words\")\n",
    "word2Vec = Word2Vec(vectorSize=20, inputCol=tokenizer.getOutputCol(), outputCol=\"features_2\")"
   ]
  },
  {
   "cell_type": "code",
   "execution_count": 30,
   "metadata": {},
   "outputs": [],
   "source": [
    "# Merges the vectors resulting from the categorical feature pipeline and word2vec pipeline\n",
    "merge_features = VectorAssembler(inputCols=[\"features_1\", \"features_2\"], outputCol=\"features\")"
   ]
  },
  {
   "cell_type": "code",
   "execution_count": 31,
   "metadata": {
    "scrolled": true
   },
   "outputs": [],
   "source": [
    "scaler = StandardScaler(inputCol=\"features\", outputCol=\"scaled_features\")"
   ]
  },
  {
   "cell_type": "code",
   "execution_count": 32,
   "metadata": {},
   "outputs": [],
   "source": [
    "# Assembles the data processing pipeline\n",
    "data_processing_pipeline = Pipeline(\n",
    "    stages = string_indexing_feature_columns +\n",
    "    string_indexing_label_column + \n",
    "    onehot_encoding_feature_columns + \n",
    "#     [scaler_duration] +\n",
    "#     [scaler_pledge] +\n",
    "    [vectorassembler_stage] + \n",
    "    [tokenizer] + \n",
    "    [word2Vec] +\n",
    "    [merge_features] +\n",
    "    [scaler]\n",
    ")"
   ]
  },
  {
   "cell_type": "code",
   "execution_count": 33,
   "metadata": {},
   "outputs": [],
   "source": [
    "# Fits the data processing pipeline\n",
    "first_pipeline = data_processing_pipeline.fit(processed_campaigns.na.drop())\n",
    "first_processed_dataset = first_pipeline.transform(processed_campaigns)"
   ]
  },
  {
   "cell_type": "code",
   "execution_count": 34,
   "metadata": {},
   "outputs": [],
   "source": [
    "# Caches 20% of the dataset for the session for better time performance\n",
    "first_processed_dataset = first_processed_dataset.select(final_columns).sample(0.2).cache()"
   ]
  },
  {
   "cell_type": "code",
   "execution_count": 35,
   "metadata": {},
   "outputs": [
    {
     "name": "stdout",
     "output_type": "stream",
     "text": [
      "The dataset contains 73977 rows.\n",
      "+--------------------+-----+\n",
      "|     scaled_features|label|\n",
      "+--------------------+-----+\n",
      "|(203,[52,159,181,...|  0.0|\n",
      "|(203,[8,159,181,1...|  0.0|\n",
      "|(203,[13,159,181,...|  0.0|\n",
      "|(203,[14,159,181,...|  1.0|\n",
      "|(203,[3,159,181,1...|  0.0|\n",
      "+--------------------+-----+\n",
      "only showing top 5 rows\n",
      "\n"
     ]
    }
   ],
   "source": [
    "dataset_check(first_processed_dataset)"
   ]
  },
  {
   "cell_type": "markdown",
   "metadata": {},
   "source": [
    "### 6.2. Creating the dataset for Naive Bayes\n",
    "\n",
    "Our second batch of models will be:\n",
    "- Naive Bayes\n",
    "\n",
    "To create our data pipeline, we will rely on indexing and assembling our data using the following stages:\n",
    "- **StringIndexer** for all categorical columns\n",
    "- **OneHotEncoder** for all categorical index columns\n",
    "- **Tokenizer** and **HashingTF** for the \\<name\\> column\n",
    "- **VectorAssembler** for all feature columns to be assembled into one vector column\n",
    "\n",
    "We use HashingTF for our pipeline because Naive Bayes can only accept positive float values when Word2Vec can output vectors with negative elements."
   ]
  },
  {
   "cell_type": "code",
   "execution_count": 36,
   "metadata": {},
   "outputs": [],
   "source": [
    "# Creates pipeline stages to vectorize the <name> column\n",
    "tokenizer = Tokenizer(inputCol=\"name\", outputCol=\"words\")\n",
    "HashingTF = HashingTF(numFeatures=20, inputCol=tokenizer.getOutputCol(), outputCol=\"features_2\")"
   ]
  },
  {
   "cell_type": "code",
   "execution_count": 37,
   "metadata": {},
   "outputs": [],
   "source": [
    "# Assembles the data processing pipeline\n",
    "data_processing_pipeline = Pipeline(\n",
    "    stages = string_indexing_feature_columns +\n",
    "    string_indexing_label_column + \n",
    "    onehot_encoding_feature_columns + \n",
    "    [vectorassembler_stage] + \n",
    "    [tokenizer] + \n",
    "    [HashingTF] +\n",
    "    [merge_features] +\n",
    "    [scaler]\n",
    ")"
   ]
  },
  {
   "cell_type": "code",
   "execution_count": 38,
   "metadata": {},
   "outputs": [],
   "source": [
    "# Fits the data processing pipeline\n",
    "pipeline_naive_bayes = data_processing_pipeline.fit(processed_campaigns.na.drop())\n",
    "second_processed_dataset = pipeline_naive_bayes.transform(processed_campaigns)"
   ]
  },
  {
   "cell_type": "code",
   "execution_count": 39,
   "metadata": {
    "scrolled": false
   },
   "outputs": [],
   "source": [
    "# Caches 20% of the dataset for the session for better time performance\n",
    "second_processed_dataset = second_processed_dataset.select(final_columns).sample(0.2).cache()"
   ]
  },
  {
   "cell_type": "code",
   "execution_count": 40,
   "metadata": {
    "scrolled": true
   },
   "outputs": [
    {
     "name": "stdout",
     "output_type": "stream",
     "text": [
      "The dataset contains 74023 rows.\n",
      "+--------------------+-----+\n",
      "|     scaled_features|label|\n",
      "+--------------------+-----+\n",
      "|(203,[52,159,181,...|  0.0|\n",
      "|(203,[8,159,181,1...|  0.0|\n",
      "|(203,[13,159,181,...|  0.0|\n",
      "|(203,[11,162,181,...|  1.0|\n",
      "|(203,[59,159,181,...|  0.0|\n",
      "+--------------------+-----+\n",
      "only showing top 5 rows\n",
      "\n"
     ]
    }
   ],
   "source": [
    "dataset_check(second_processed_dataset)"
   ]
  },
  {
   "cell_type": "markdown",
   "metadata": {},
   "source": [
    "### 6.3. Creating the dataset for Deep Learning (discontinued)\n",
    "\n",
    "Our third batch of models will be:\n",
    "- Deep Learning\n",
    "\n",
    "Our data pipeline will be identical to that of the first three models. As such we will be reusing \\<first_processed_dataset\\>."
   ]
  },
  {
   "cell_type": "markdown",
   "metadata": {},
   "source": [
    "## 7. Running a Logistic Regression Pipeline\n",
    "\n",
    "### 7.1. Declaring model hyper-parameters"
   ]
  },
  {
   "cell_type": "code",
   "execution_count": 41,
   "metadata": {},
   "outputs": [],
   "source": [
    "# Declares hyperparameters\n",
    "training_size = 0.7\n",
    "test_size = 0.3\n",
    "reg_parameters = [0., 0.5, 1., 2.] # must be float values\n",
    "elastic_net_parameters = [0., 0.5, 1.] # must be float values"
   ]
  },
  {
   "cell_type": "code",
   "execution_count": 42,
   "metadata": {},
   "outputs": [],
   "source": [
    "# Declares useful functions\n",
    "def process_confusion_matrix(matrix):\n",
    "    \"\"\"\n",
    "    Produces the confusion matrix of a model based on its\n",
    "    binary classification output.\n",
    "    \"\"\"\n",
    "    items = []\n",
    "    for item in matrix: \n",
    "        items.append(item)\n",
    "        print(item, matrix[item])\n",
    "    if Row(label=0.0, prediction=0.0) in items: \n",
    "        true_negatives = float(matrix[Row(label=0.0, prediction=0.0)])\n",
    "    else: \n",
    "        true_negatives = 0.\n",
    "    if Row(label=1.0, prediction=0.0) in items: \n",
    "        false_negatives = float(matrix[Row(label=1.0, prediction=0.0)])\n",
    "    else: \n",
    "        false_negatives = 0.\n",
    "    if Row(label=0.0, prediction=1.0) in items: \n",
    "        false_positives = float(matrix[Row(label=0.0, prediction=1.0)])\n",
    "    else: \n",
    "        false_positives = 0.\n",
    "    if Row(label=1.0, prediction=1.0) in items: \n",
    "        true_positives = float(matrix[Row(label=1.0, prediction=1.0)])\n",
    "    else: \n",
    "        true_positives = 0.\n",
    "    precision = true_positives/(true_positives+false_positives)\n",
    "    recall = true_positives/(true_positives+false_negatives)\n",
    "    print(\"\\nPrecision score:\", precision)\n",
    "    print(\"Recall score:\", recall)\n",
    "    if precision+recall != 0.: \n",
    "        print(\"F1 score:\", 2*(precision*recall)/(precision+recall))\n",
    "        return precision, recall, 2*(precision*recall)/(precision+recall)\n",
    "    return precision, recall"
   ]
  },
  {
   "cell_type": "markdown",
   "metadata": {},
   "source": [
    "### 7.2. Creating a model pipeline using Cross-Validation\n",
    "\n",
    "#### 7.2.1. Building and fitting the model"
   ]
  },
  {
   "cell_type": "code",
   "execution_count": 43,
   "metadata": {
    "scrolled": false
   },
   "outputs": [],
   "source": [
    "lr = LogisticRegression(featuresCol=\"scaled_features\", labelCol=\"label\")"
   ]
  },
  {
   "cell_type": "code",
   "execution_count": 44,
   "metadata": {},
   "outputs": [],
   "source": [
    "# Builds a parameter grid\n",
    "lr_param_grid = ParamGridBuilder().\\\n",
    "    addGrid(lr.regParam, reg_parameters).\\\n",
    "    addGrid(lr.elasticNetParam, elastic_net_parameters).\\\n",
    "    build()"
   ]
  },
  {
   "cell_type": "code",
   "execution_count": 45,
   "metadata": {},
   "outputs": [],
   "source": [
    "# Builds the evaluator\n",
    "lr_evaluator = BinaryClassificationEvaluator(rawPredictionCol=\"rawPrediction\")"
   ]
  },
  {
   "cell_type": "code",
   "execution_count": 46,
   "metadata": {},
   "outputs": [],
   "source": [
    "# Builds the cross-validation model\n",
    "lr_cv = CrossValidator(estimator=lr, \n",
    "                       estimatorParamMaps=lr_param_grid, \n",
    "                       evaluator=lr_evaluator, \n",
    "                       numFolds=4)"
   ]
  },
  {
   "cell_type": "code",
   "execution_count": 47,
   "metadata": {},
   "outputs": [],
   "source": [
    "# Fits the cross-validation model\n",
    "lr_cv_model = lr_cv.fit(first_processed_dataset.na.drop())"
   ]
  },
  {
   "cell_type": "code",
   "execution_count": 48,
   "metadata": {
    "scrolled": false
   },
   "outputs": [
    {
     "name": "stdout",
     "output_type": "stream",
     "text": [
      "The model was fit using parameters: \n",
      "\n",
      "{Param(parent='CrossValidatorModel_d4db7d74d94b', name='seed', doc='random seed.'): -6379514451232738449, Param(parent='CrossValidatorModel_d4db7d74d94b', name='numFolds', doc='number of folds for cross validation'): 4, Param(parent='CrossValidatorModel_d4db7d74d94b', name='estimator', doc='estimator to be cross-validated'): LogisticRegression_179b1dbcdc58, Param(parent='CrossValidatorModel_d4db7d74d94b', name='estimatorParamMaps', doc='estimator param maps'): [{Param(parent='LogisticRegression_179b1dbcdc58', name='regParam', doc='regularization parameter (>= 0).'): 0.0, Param(parent='LogisticRegression_179b1dbcdc58', name='elasticNetParam', doc='the ElasticNet mixing parameter, in range [0, 1]. For alpha = 0, the penalty is an L2 penalty. For alpha = 1, it is an L1 penalty.'): 0.0}, {Param(parent='LogisticRegression_179b1dbcdc58', name='regParam', doc='regularization parameter (>= 0).'): 0.0, Param(parent='LogisticRegression_179b1dbcdc58', name='elasticNetParam', doc='the ElasticNet mixing parameter, in range [0, 1]. For alpha = 0, the penalty is an L2 penalty. For alpha = 1, it is an L1 penalty.'): 0.5}, {Param(parent='LogisticRegression_179b1dbcdc58', name='regParam', doc='regularization parameter (>= 0).'): 0.0, Param(parent='LogisticRegression_179b1dbcdc58', name='elasticNetParam', doc='the ElasticNet mixing parameter, in range [0, 1]. For alpha = 0, the penalty is an L2 penalty. For alpha = 1, it is an L1 penalty.'): 1.0}, {Param(parent='LogisticRegression_179b1dbcdc58', name='regParam', doc='regularization parameter (>= 0).'): 0.5, Param(parent='LogisticRegression_179b1dbcdc58', name='elasticNetParam', doc='the ElasticNet mixing parameter, in range [0, 1]. For alpha = 0, the penalty is an L2 penalty. For alpha = 1, it is an L1 penalty.'): 0.0}, {Param(parent='LogisticRegression_179b1dbcdc58', name='regParam', doc='regularization parameter (>= 0).'): 0.5, Param(parent='LogisticRegression_179b1dbcdc58', name='elasticNetParam', doc='the ElasticNet mixing parameter, in range [0, 1]. For alpha = 0, the penalty is an L2 penalty. For alpha = 1, it is an L1 penalty.'): 0.5}, {Param(parent='LogisticRegression_179b1dbcdc58', name='regParam', doc='regularization parameter (>= 0).'): 0.5, Param(parent='LogisticRegression_179b1dbcdc58', name='elasticNetParam', doc='the ElasticNet mixing parameter, in range [0, 1]. For alpha = 0, the penalty is an L2 penalty. For alpha = 1, it is an L1 penalty.'): 1.0}, {Param(parent='LogisticRegression_179b1dbcdc58', name='regParam', doc='regularization parameter (>= 0).'): 1.0, Param(parent='LogisticRegression_179b1dbcdc58', name='elasticNetParam', doc='the ElasticNet mixing parameter, in range [0, 1]. For alpha = 0, the penalty is an L2 penalty. For alpha = 1, it is an L1 penalty.'): 0.0}, {Param(parent='LogisticRegression_179b1dbcdc58', name='regParam', doc='regularization parameter (>= 0).'): 1.0, Param(parent='LogisticRegression_179b1dbcdc58', name='elasticNetParam', doc='the ElasticNet mixing parameter, in range [0, 1]. For alpha = 0, the penalty is an L2 penalty. For alpha = 1, it is an L1 penalty.'): 0.5}, {Param(parent='LogisticRegression_179b1dbcdc58', name='regParam', doc='regularization parameter (>= 0).'): 1.0, Param(parent='LogisticRegression_179b1dbcdc58', name='elasticNetParam', doc='the ElasticNet mixing parameter, in range [0, 1]. For alpha = 0, the penalty is an L2 penalty. For alpha = 1, it is an L1 penalty.'): 1.0}, {Param(parent='LogisticRegression_179b1dbcdc58', name='regParam', doc='regularization parameter (>= 0).'): 2.0, Param(parent='LogisticRegression_179b1dbcdc58', name='elasticNetParam', doc='the ElasticNet mixing parameter, in range [0, 1]. For alpha = 0, the penalty is an L2 penalty. For alpha = 1, it is an L1 penalty.'): 0.0}, {Param(parent='LogisticRegression_179b1dbcdc58', name='regParam', doc='regularization parameter (>= 0).'): 2.0, Param(parent='LogisticRegression_179b1dbcdc58', name='elasticNetParam', doc='the ElasticNet mixing parameter, in range [0, 1]. For alpha = 0, the penalty is an L2 penalty. For alpha = 1, it is an L1 penalty.'): 0.5}, {Param(parent='LogisticRegression_179b1dbcdc58', name='regParam', doc='regularization parameter (>= 0).'): 2.0, Param(parent='LogisticRegression_179b1dbcdc58', name='elasticNetParam', doc='the ElasticNet mixing parameter, in range [0, 1]. For alpha = 0, the penalty is an L2 penalty. For alpha = 1, it is an L1 penalty.'): 1.0}], Param(parent='CrossValidatorModel_d4db7d74d94b', name='evaluator', doc='evaluator used to select hyper-parameters that maximize the validator metric'): BinaryClassificationEvaluator_49e00c8cd17a}\n"
     ]
    }
   ],
   "source": [
    "print(\"The model was fit using parameters: \\n\")\n",
    "print(lr_cv_model.extractParamMap())"
   ]
  },
  {
   "cell_type": "markdown",
   "metadata": {},
   "source": [
    "#### 7.2.2. Evaluating the model"
   ]
  },
  {
   "cell_type": "code",
   "execution_count": 49,
   "metadata": {},
   "outputs": [
    {
     "name": "stdout",
     "output_type": "stream",
     "text": [
      "Row(label=0.0, prediction=0.0) 40871\n",
      "Row(label=0.0, prediction=1.0) 6468\n",
      "Row(label=1.0, prediction=0.0) 16011\n",
      "Row(label=1.0, prediction=1.0) 10627\n",
      "\n",
      "Precision score: 0.6216437554840597\n",
      "Recall score: 0.3989413619641114\n",
      "F1 score: 0.4859945578853498\n"
     ]
    }
   ],
   "source": [
    "# Provides a confusion matrix\n",
    "lr_label_and_pred = lr_cv_model.transform(first_processed_dataset).select(\"label\", \"prediction\")\n",
    "lr_confusion_matrix = lr_label_and_pred.rdd.zipWithIndex().countByKey()\n",
    "lr_results = process_confusion_matrix(lr_confusion_matrix)"
   ]
  },
  {
   "cell_type": "code",
   "execution_count": 50,
   "metadata": {},
   "outputs": [
    {
     "name": "stdout",
     "output_type": "stream",
     "text": [
      "Intercept: -0.4462938388665104\n",
      "coefficients: [0.07273901777839925,0.07379217071760263,0.22766775857906646,0.09638058820989352,0.11139344460980802,-0.052533825222145676,-0.013262806360820065,0.03807587284202353,-0.0818539791616256,-0.06832789149700738,-0.024710940001442014,0.043067661446718045,-0.09507718948136887,0.17064745836384285,-0.029324116686027687,0.07627676097638407,-0.0008199908706439377,-0.1949052969305538,-0.003652391245151869,-0.008850166036710436,0.12106538684965264,-0.008133399649886878,0.04726128624607313,-0.15950473709466126,0.07194413426724891,-0.05488188104572664,0.10933591768824179,0.020497914374097082,-0.13376409043616527,0.046979334728390935,0.04600271282247463,0.006846056499586945,-0.01048663388822494,0.06485740937631246,-0.010614012046573942,0.061529984178629524,-0.0667309325573299,0.017101562632996198,-0.02830295783522218,0.004335426548870672,0.07421994621178082,0.06695980189906267,0.10235757536314453,0.0076243603123736705,0.020196533982223593,-0.026917808357704937,0.1084152637323221,0.01906063273979585,-0.014716703041269999,0.010160103194469937,0.024446732359291352,0.02842153147936425,0.010984467872901445,0.0646581947376717,0.06557555722058936,0.012489109722535726,-0.008892544784024676,-0.06504366278016911,-0.0027910457296303724,-0.0864673755082002,0.023106460645338344,0.07437407396127711,0.0008859111535695531,-0.028847348716151185,0.0023765090339287072,0.02188564758810035,-0.023894484802136424,0.020471680861728674,-0.018647292350016085,-0.06505499000759501,-0.027445753196115058,-0.03729294178737547,0.01117813985144495,-0.027600440998811832,0.0013031028385222312,-0.020563480186403235,0.054431431333728054,0.0070544785102980324,0.028132773022022033,0.007852701247129926,-0.01725359920402247,0.054001755918097395,0.03509500677964548,-0.029125608085501697,0.03123152451703583,0.027619643095129206,-0.03786125682057543,-0.020268888279959922,0.06038843541286224,0.0008583090607738558,0.011756294950726059,0.010707072045778365,-0.050219836208366224,-0.025488134504405107,-0.047855254660753056,-0.008569811689027635,0.0061459905736877644,0.0012435038802556314,0.017790402096413378,0.03881803617831964,0.044875491987669415,0.002210487813389278,-0.04986739354423541,0.04172961150851301,-0.00868008044071317,-0.025536742801902757,0.023349292464756893,-0.022514007034936043,-0.05831766586998103,0.0005656745253244178,-0.04061201036352642,-0.006516382356406275,-0.01711238114028343,0.030444823881494387,-0.002912297543391847,-0.007512942803047219,0.020385912971488247,0.013519940563632553,-0.007559071106044697,0.015458197112454176,0.0012944645401004487,0.021774924767109127,-0.00936751405994574,0.014026219966223724,-0.018593024289139934,0.022522549913696246,0.01072313058181201,0.008261452540989417,-0.013596887966974405,-0.012876896183449294,0.004700772379769935,-0.0031350684906594323,-0.0014502385218030484,0.015701978562698532,-0.01725287389138831,0.022715970349803744,0.005977114357247386,-0.021819704759727457,-0.00812140883538293,-0.042007985279751754,-0.014751788316572744,0.001617857620556423,0.008293153107420691,-0.006093066532137269,-0.007631497563030645,-0.005439890894245381,-0.006286082751478166,-0.009042193249851099,0.0008406789791333958,-0.015302958464034245,0.01885119296870231,0.0060426903316564895,-0.004144962345405035,-0.023632900578746507,0.025500310519387476,0.011701864818577686,0.026630600605196373,0.011372244672572918,0.003760210396882942,0.19950447293820087,0.12741064798180352,0.03468591401195902,0.008983248143409608,-0.008363408766060686,0.03910263926910684,-0.011113967960552279,-0.048397247371307045,-0.0016908978182127883,0.005578499109866909,-0.024303379052750925,0.02097729583020878,0.03851210069184408,0.00615333354399074,0.013254343484406211,-0.022029638419553386,0.005097425673573472,0.03711458766744513,-0.0063589839122477005,0.012012963413522312,0.003301658657479445,0.0070218326872301656,-1.2115354089101038,-18.672183971076475,-0.11648503157900358,-0.07916990043478013,-0.0982622383756295,-0.03530251264769034,-0.0027424026927469485,-0.004550290907786398,-0.03669229315176741,-0.18877244431986415,-0.014789651542676828,-0.009424555500397188,0.01763573864977712,-0.010745208659186437,-0.009531185632692547,-0.009570991719722387,-0.027444389483671346,0.021134903971542756,0.018413834093197426,-0.16387839213365255,0.0009869827429425026,0.011897918409852838]\n"
     ]
    }
   ],
   "source": [
    "# Intercept and Coefficients of the regresison model\n",
    "print(\"Intercept: \" + str(lr_cv_model.bestModel.intercept) + \"\\n\"\n",
    "      \"coefficients: \" + str(lr_cv_model.bestModel.coefficients))"
   ]
  },
  {
   "cell_type": "code",
   "execution_count": 51,
   "metadata": {},
   "outputs": [
    {
     "name": "stdout",
     "output_type": "stream",
     "text": [
      "The best RegParam is:  0.0 The best ElasticNetParam is: 0.5\n"
     ]
    }
   ],
   "source": [
    "# Parameters of the best model\n",
    "print(\"The best RegParam is: \", lr_cv_model.bestModel._java_obj.getRegParam(),\n",
    "     \"The best ElasticNetParam is:\", lr_cv_model.bestModel._java_obj.getElasticNetParam())"
   ]
  },
  {
   "cell_type": "markdown",
   "metadata": {},
   "source": [
    "## 8. Running a DecisionTreeClassifier Pipeline\n",
    "\n",
    "### 8.1. Declaring model hyper-parameters"
   ]
  },
  {
   "cell_type": "code",
   "execution_count": 52,
   "metadata": {},
   "outputs": [],
   "source": [
    "# Declares hyperparameters\n",
    "max_depth_grid = list(range(2,10))"
   ]
  },
  {
   "cell_type": "markdown",
   "metadata": {},
   "source": [
    "### 8.2. Creating a model pipeline using Cross-Validation\n",
    "\n",
    "#### 8.2.1. Building and fitting the model"
   ]
  },
  {
   "cell_type": "code",
   "execution_count": 53,
   "metadata": {},
   "outputs": [],
   "source": [
    "# Builds the estimator\n",
    "dt = DecisionTreeClassifier(featuresCol=\"scaled_features\", labelCol=\"label\")"
   ]
  },
  {
   "cell_type": "code",
   "execution_count": 54,
   "metadata": {},
   "outputs": [],
   "source": [
    "# Builds a parameter grid\n",
    "dt_param_grid = ParamGridBuilder().\\\n",
    "    addGrid(dt.maxDepth, max_depth_grid).\\\n",
    "    build()"
   ]
  },
  {
   "cell_type": "code",
   "execution_count": 55,
   "metadata": {},
   "outputs": [],
   "source": [
    "# Builds the evaluator\n",
    "dt_evaluator = BinaryClassificationEvaluator(rawPredictionCol=\"rawPrediction\", \n",
    "                                             metricName=\"areaUnderROC\")"
   ]
  },
  {
   "cell_type": "code",
   "execution_count": 56,
   "metadata": {},
   "outputs": [],
   "source": [
    "# Builds the cross-validation model\n",
    "dt_cv = CrossValidator(estimator=dt, \n",
    "                       estimatorParamMaps=dt_param_grid, \n",
    "                       evaluator=dt_evaluator, \n",
    "                       numFolds=4)"
   ]
  },
  {
   "cell_type": "code",
   "execution_count": 57,
   "metadata": {
    "scrolled": false
   },
   "outputs": [],
   "source": [
    "# Fits the cross-validation model\n",
    "dt_cv_model = dt_cv.fit(first_processed_dataset.na.drop())"
   ]
  },
  {
   "cell_type": "markdown",
   "metadata": {},
   "source": [
    "#### 8.2.2. Evaluating the model"
   ]
  },
  {
   "cell_type": "code",
   "execution_count": 58,
   "metadata": {},
   "outputs": [
    {
     "name": "stdout",
     "output_type": "stream",
     "text": [
      "Row(label=0.0, prediction=0.0) 42204\n",
      "Row(label=0.0, prediction=1.0) 5135\n",
      "Row(label=1.0, prediction=0.0) 19487\n",
      "Row(label=1.0, prediction=1.0) 7151\n",
      "\n",
      "Precision score: 0.5820446036138694\n",
      "Recall score: 0.268451084916285\n",
      "F1 score: 0.3674339738978522\n"
     ]
    }
   ],
   "source": [
    "# Provides a confusion matrix\n",
    "dt_cv_label_and_pred = dt_cv_model.transform(first_processed_dataset).select(\"label\", \"prediction\")\n",
    "dt_cv_confusion_matrix = dt_cv_label_and_pred.rdd.zipWithIndex().countByKey()\n",
    "dt_cv_results = process_confusion_matrix(dt_cv_confusion_matrix)"
   ]
  },
  {
   "cell_type": "code",
   "execution_count": 59,
   "metadata": {
    "scrolled": true
   },
   "outputs": [
    {
     "name": "stdout",
     "output_type": "stream",
     "text": [
      "The best MaxDepth is: 6\n"
     ]
    }
   ],
   "source": [
    "print(\"The best MaxDepth is:\", dt_cv_model.bestModel._java_obj.getMaxDepth())"
   ]
  },
  {
   "cell_type": "code",
   "execution_count": 60,
   "metadata": {},
   "outputs": [
    {
     "name": "stdout",
     "output_type": "stream",
     "text": [
      "DecisionTreeClassificationModel: uid=DecisionTreeClassifier_a02f7075fde5, depth=6, numNodes=63, numClasses=2, numFeatures=203\n"
     ]
    }
   ],
   "source": [
    "print(dt_cv_model.bestModel)"
   ]
  },
  {
   "cell_type": "markdown",
   "metadata": {},
   "source": [
    "### 8.3. Creating a model pipeline using Train-Test split\n",
    "\n",
    "#### 8.3.1. Building and fitting the model"
   ]
  },
  {
   "cell_type": "code",
   "execution_count": 61,
   "metadata": {},
   "outputs": [],
   "source": [
    "# Splits the dataset between training and validation sets\n",
    "training, test = first_processed_dataset.randomSplit([training_size, test_size], seed=0)"
   ]
  },
  {
   "cell_type": "code",
   "execution_count": 62,
   "metadata": {},
   "outputs": [],
   "source": [
    "# Builds the estimator\n",
    "dt = DecisionTreeClassifier(featuresCol=\"scaled_features\", labelCol=\"label\")"
   ]
  },
  {
   "cell_type": "code",
   "execution_count": 63,
   "metadata": {},
   "outputs": [],
   "source": [
    "# Builds the evaluator\n",
    "dt_tt_evaluator = BinaryClassificationEvaluator(rawPredictionCol=\"rawPrediction\", metricName=\"areaUnderROC\")"
   ]
  },
  {
   "cell_type": "code",
   "execution_count": 64,
   "metadata": {
    "scrolled": false
   },
   "outputs": [],
   "source": [
    "# Fits the cross-validation model\n",
    "dt_tt_model = dt.fit(training.na.drop())"
   ]
  },
  {
   "cell_type": "markdown",
   "metadata": {},
   "source": [
    "#### 8.3.2. Evaluating the model"
   ]
  },
  {
   "cell_type": "code",
   "execution_count": 65,
   "metadata": {
    "scrolled": false
   },
   "outputs": [
    {
     "name": "stdout",
     "output_type": "stream",
     "text": [
      "Row(label=1.0, prediction=0.0) 6049\n",
      "Row(label=0.0, prediction=0.0) 12622\n",
      "Row(label=1.0, prediction=1.0) 1917\n",
      "Row(label=0.0, prediction=1.0) 1623\n",
      "\n",
      "Precision score: 0.5415254237288135\n",
      "Recall score: 0.24064775295003765\n",
      "F1 score: 0.3332174517642969\n"
     ]
    }
   ],
   "source": [
    "# Predicts on training data\n",
    "pred_test = dt_tt_model.transform(test)\n",
    "\n",
    "# Provides a confusion matrix\n",
    "dt_tt_label_and_pred = pred_test.select(\"label\", \"prediction\")\n",
    "dt_tt_confusion_matrix = dt_tt_label_and_pred.rdd.zipWithIndex().countByKey()\n",
    "dt_tt_results = process_confusion_matrix(dt_tt_confusion_matrix)"
   ]
  },
  {
   "cell_type": "code",
   "execution_count": 66,
   "metadata": {},
   "outputs": [
    {
     "name": "stdout",
     "output_type": "stream",
     "text": [
      "The test error is 0.4283651640920034\n"
     ]
    }
   ],
   "source": [
    "accuracy = dt_tt_evaluator.evaluate(pred_test)\n",
    "print(\"The test error is\", 1.0 - accuracy)"
   ]
  },
  {
   "cell_type": "code",
   "execution_count": 67,
   "metadata": {},
   "outputs": [
    {
     "name": "stdout",
     "output_type": "stream",
     "text": [
      "DecisionTreeClassificationModel: uid=DecisionTreeClassifier_78b164dabb19, depth=5, numNodes=47, numClasses=2, numFeatures=203\n"
     ]
    }
   ],
   "source": [
    "print(dt_tt_model)"
   ]
  },
  {
   "cell_type": "markdown",
   "metadata": {},
   "source": [
    "## 9. Running a Random Forest Pipeline\n",
    "\n",
    "### 9.1. Declaring model hyper-parameters"
   ]
  },
  {
   "cell_type": "code",
   "execution_count": 68,
   "metadata": {},
   "outputs": [],
   "source": [
    "# Declares hyperparameters\n",
    "max_depth_grid = map(float,list(range(2,10))) # must be float values\n",
    "minimum_info_grain = [0.0, 0.1, 0.2, 0.3, 0.4, 0.5] # must be float values"
   ]
  },
  {
   "cell_type": "markdown",
   "metadata": {},
   "source": [
    "### 9.2. Creating a model pipeline using cross-validation\n",
    "\n",
    "#### 9.2.1. Building and fitting the model"
   ]
  },
  {
   "cell_type": "code",
   "execution_count": 69,
   "metadata": {},
   "outputs": [],
   "source": [
    "# Builds the estimator\n",
    "rf = RandomForestClassifier(featuresCol=\"scaled_features\", labelCol=\"label\")"
   ]
  },
  {
   "cell_type": "code",
   "execution_count": 70,
   "metadata": {},
   "outputs": [],
   "source": [
    "# Builds a parameter grid\n",
    "rf_param_grid = ParamGridBuilder().\\\n",
    "    addGrid(rf.maxDepth, max_depth_grid).\\\n",
    "    addGrid(rf.minInfoGain, minimum_info_grain).\\\n",
    "    build()"
   ]
  },
  {
   "cell_type": "code",
   "execution_count": 71,
   "metadata": {},
   "outputs": [],
   "source": [
    "# Builds the evaluator\n",
    "rf_evaluator = BinaryClassificationEvaluator()"
   ]
  },
  {
   "cell_type": "code",
   "execution_count": 72,
   "metadata": {},
   "outputs": [],
   "source": [
    "# Builds the cross-validation model\n",
    "rf_cv = CrossValidator(estimator=rf, \n",
    "                       estimatorParamMaps=rf_param_grid, \n",
    "                       evaluator=rf_evaluator)"
   ]
  },
  {
   "cell_type": "code",
   "execution_count": 73,
   "metadata": {
    "scrolled": false
   },
   "outputs": [],
   "source": [
    "# Fits the cross-validation model\n",
    "rf_cv_model = rf_cv.fit(first_processed_dataset.na.drop())"
   ]
  },
  {
   "cell_type": "markdown",
   "metadata": {},
   "source": [
    "#### 9.2.2. Evaluating the model"
   ]
  },
  {
   "cell_type": "code",
   "execution_count": 74,
   "metadata": {},
   "outputs": [
    {
     "name": "stdout",
     "output_type": "stream",
     "text": [
      "Row(label=0.0, prediction=0.0) 46382\n",
      "Row(label=1.0, prediction=0.0) 23741\n",
      "Row(label=0.0, prediction=1.0) 957\n",
      "Row(label=1.0, prediction=1.0) 2897\n",
      "\n",
      "Precision score: 0.7516865594187857\n",
      "Recall score: 0.10875441099181621\n",
      "F1 score: 0.19001705365341728\n"
     ]
    }
   ],
   "source": [
    "# Provides a confusion matrix\n",
    "rf_label_and_pred = rf_cv_model.transform(first_processed_dataset).select(\"label\", \"prediction\")\n",
    "rf_confusion_matrix = rf_label_and_pred.rdd.zipWithIndex().countByKey()\n",
    "rf_results = process_confusion_matrix(rf_confusion_matrix)"
   ]
  },
  {
   "cell_type": "code",
   "execution_count": 75,
   "metadata": {},
   "outputs": [
    {
     "name": "stdout",
     "output_type": "stream",
     "text": [
      "RandomForestClassificationModel: uid=RandomForestClassifier_749366d49408, numTrees=20, numClasses=2, numFeatures=203\n"
     ]
    }
   ],
   "source": [
    "print(rf_cv_model.bestModel)"
   ]
  },
  {
   "cell_type": "markdown",
   "metadata": {},
   "source": [
    "## 10. Running a Naive Bayes Pipeline\n",
    "\n",
    "### 10.1.  Declaring model hyper-parameters"
   ]
  },
  {
   "cell_type": "code",
   "execution_count": 76,
   "metadata": {},
   "outputs": [],
   "source": [
    "# Declares hyperparameters\n",
    "smoothing = map(float, list(range(0,10))) # must be float values"
   ]
  },
  {
   "cell_type": "markdown",
   "metadata": {},
   "source": [
    "### 10.2. Creating a model pipeline using cross-validation\n",
    "\n",
    "#### 10.2.1. Building and fitting the model"
   ]
  },
  {
   "cell_type": "code",
   "execution_count": 77,
   "metadata": {},
   "outputs": [],
   "source": [
    "# Builds the estimator\n",
    "nb = NaiveBayes(featuresCol=\"scaled_features\", labelCol=\"label\")"
   ]
  },
  {
   "cell_type": "code",
   "execution_count": 78,
   "metadata": {},
   "outputs": [],
   "source": [
    "# Builds a parameter grid\n",
    "nb_param_grid = ParamGridBuilder().\\\n",
    "    addGrid(nb.smoothing, smoothing).\\\n",
    "    build()"
   ]
  },
  {
   "cell_type": "code",
   "execution_count": 79,
   "metadata": {},
   "outputs": [],
   "source": [
    "# Builds the evaluator\n",
    "nb_evaluator = BinaryClassificationEvaluator(rawPredictionCol=\"rawPrediction\", metricName=\"areaUnderROC\")"
   ]
  },
  {
   "cell_type": "code",
   "execution_count": 80,
   "metadata": {},
   "outputs": [],
   "source": [
    "# Builds the cross-validation model\n",
    "nb_cv = CrossValidator(estimator = nb, \n",
    "                       estimatorParamMaps = nb_param_grid, \n",
    "                       evaluator = nb_evaluator)"
   ]
  },
  {
   "cell_type": "code",
   "execution_count": 81,
   "metadata": {
    "scrolled": false
   },
   "outputs": [],
   "source": [
    "# Fits the cross-validation model\n",
    "nb_cv_model = nb_cv.fit(second_processed_dataset.na.drop())"
   ]
  },
  {
   "cell_type": "markdown",
   "metadata": {},
   "source": [
    "#### 10.2.2. Evaluating the model"
   ]
  },
  {
   "cell_type": "code",
   "execution_count": 82,
   "metadata": {},
   "outputs": [
    {
     "name": "stdout",
     "output_type": "stream",
     "text": [
      "Row(label=0.0, prediction=1.0) 17223\n",
      "Row(label=0.0, prediction=0.0) 30113\n",
      "Row(label=1.0, prediction=0.0) 9774\n",
      "Row(label=1.0, prediction=1.0) 16913\n",
      "\n",
      "Precision score: 0.4954593391141317\n",
      "Recall score: 0.6337542623749391\n",
      "F1 score: 0.5561383029446098\n"
     ]
    }
   ],
   "source": [
    "# Provides a confusion matrix\n",
    "nb_label_and_pred = nb_cv_model.transform(second_processed_dataset).select(\"label\", \"prediction\")\n",
    "nb_confusion_matrix = nb_label_and_pred.rdd.zipWithIndex().countByKey()\n",
    "nb_results = process_confusion_matrix(nb_confusion_matrix)"
   ]
  },
  {
   "cell_type": "code",
   "execution_count": 83,
   "metadata": {
    "scrolled": true
   },
   "outputs": [
    {
     "name": "stdout",
     "output_type": "stream",
     "text": [
      "The parameter smoothing has best value: 0.0\n"
     ]
    }
   ],
   "source": [
    "print(\"The parameter smoothing has best value:\", nb_cv_model.bestModel._java_obj.getSmoothing())"
   ]
  },
  {
   "cell_type": "code",
   "execution_count": 84,
   "metadata": {
    "scrolled": true
   },
   "outputs": [
    {
     "name": "stdout",
     "output_type": "stream",
     "text": [
      "NaiveBayesModel: uid=NaiveBayes_6216bbca5aec, modelType=multinomial, numClasses=2, numFeatures=203\n"
     ]
    }
   ],
   "source": [
    "print(nb_cv_model.bestModel)"
   ]
  },
  {
   "cell_type": "markdown",
   "metadata": {},
   "source": [
    "## 11. Summarizing Results"
   ]
  },
  {
   "cell_type": "code",
   "execution_count": 85,
   "metadata": {},
   "outputs": [
    {
     "name": "stdout",
     "output_type": "stream",
     "text": [
      "(0.6216437554840597, 0.3989413619641114, 0.4859945578853498)\n",
      "(0.5820446036138694, 0.268451084916285, 0.3674339738978522)\n",
      "(0.5415254237288135, 0.24064775295003765, 0.3332174517642969)\n",
      "(0.7516865594187857, 0.10875441099181621, 0.19001705365341728)\n",
      "(0.4954593391141317, 0.6337542623749391, 0.5561383029446098)\n"
     ]
    }
   ],
   "source": [
    "print(lr_results, dt_cv_results, dt_tt_results, rf_results, nb_results, sep=\"\\n\")"
   ]
  },
  {
   "cell_type": "code",
   "execution_count": 86,
   "metadata": {},
   "outputs": [
    {
     "data": {
      "image/png": "[encoded data removed]",
      "text/plain": [
       "<Figure size 1440x720 with 1 Axes>"
      ]
     },
     "metadata": {
      "needs_background": "light"
     },
     "output_type": "display_data"
    }
   ],
   "source": [
    "import numpy as np\n",
    "import matplotlib.pyplot as plt\n",
    "\n",
    "# data to plot\n",
    "n_groups = 3\n",
    "\n",
    "# create plot\n",
    "fig, ax = plt.subplots(figsize=(20,10))\n",
    "index = np.arange(n_groups)\n",
    "bar_width = 0.15\n",
    "opacity = 0.8\n",
    "\n",
    "logreg = plt.bar(index - bar_width, lr_results, bar_width,\n",
    "alpha=opacity,\n",
    "color='r',\n",
    "label='Logistic Regression w/ CV')\n",
    "\n",
    "crosvaldt = plt.bar(index, dt_cv_results, bar_width,\n",
    "alpha=opacity,\n",
    "color='g',\n",
    "label='Decision Tree w/ CV')\n",
    "\n",
    "traintestdt = plt.bar(index + bar_width, dt_tt_results, bar_width,\n",
    "alpha=opacity,\n",
    "color='b',\n",
    "label='Decision Tree w/ train-test sets')\n",
    "\n",
    "randomfor = plt.bar(index + bar_width*2, rf_results, bar_width,\n",
    "alpha=opacity,\n",
    "color='pink',\n",
    "label='Random Forest w/ CV')\n",
    "\n",
    "naivebay = plt.bar(index + bar_width*3, nb_results, bar_width,\n",
    "alpha=opacity,\n",
    "color='purple',\n",
    "label='Naive Bayes w/ CV')\n",
    "\n",
    "plt.xlabel('Scores', fontsize=30)\n",
    "plt.ylabel('Value', fontsize=30)\n",
    "plt.title('Scores by Models', fontsize=35)\n",
    "plt.xticks(index + bar_width, ('Precision', 'Recall', 'F1'), fontsize=25)\n",
    "plt.yticks(fontsize=25)\n",
    "plt.legend(fontsize=25)\n",
    "plt.tight_layout()\n",
    "plt.show()"
   ]
  },
  {
   "cell_type": "markdown",
   "metadata": {},
   "source": [
    "## Annex. Running a Deep Learning Model\n",
    "\n",
    "<span style=\"color:red\">/!\\ Does not run on Google Cloud as the available tensorflow versions are below the required 2.2 one.</span>\n",
    "\n",
    "### Annex.1.  Transforming the dataset & declaring model hyper-parameters\n",
    "\n",
    "We will be reusing the first dataset we processed."
   ]
  },
  {
   "cell_type": "raw",
   "metadata": {},
   "source": [
    "first_processed_dataset.limit(5).toPandas()"
   ]
  },
  {
   "cell_type": "raw",
   "metadata": {},
   "source": [
    "# Splits the dataset between training and validation sets\n",
    "training, test = first_processed_dataset.randomSplit([training_size, test_size], seed=0)"
   ]
  },
  {
   "cell_type": "raw",
   "metadata": {},
   "source": [
    "# Counts the number of classes\n",
    "nb_classes = first_processed_dataset.select(\"label\").distinct().count()"
   ]
  },
  {
   "cell_type": "raw",
   "metadata": {},
   "source": [
    "# Counts the input dimension size\n",
    "input_dimension = len(first_processed_dataset.select(\"scaled_features\").first()[0])"
   ]
  },
  {
   "cell_type": "raw",
   "metadata": {},
   "source": [
    "# Declares hyperparameters\n",
    "dense_layer_neurons = 256\n",
    "dropout_rate = 0.3\n",
    "regularizer_rate = 0.01"
   ]
  },
  {
   "cell_type": "markdown",
   "metadata": {},
   "source": [
    "### Annex.2. Creating a model pipeline using Train-Test split\n",
    "\n",
    "#### Annex.2.1. Building the model"
   ]
  },
  {
   "cell_type": "raw",
   "metadata": {},
   "source": [
    "from tensorflow.keras import optimizers, regularizers\n",
    "from keras.layers.core import Dense, Dropout, Activation\n",
    "from keras.models import Sequential\n",
    "from keras.optimizers import Adam\n",
    "\n",
    "from elephas.ml_model import ElephasEstimator\n",
    "\n",
    "from pyspark.mllib.evaluation import MulticlassMetrics"
   ]
  },
  {
   "cell_type": "raw",
   "metadata": {},
   "source": [
    "# Builds a Deep Learning model\n",
    "model = Sequential()\n",
    "model.add(Dense(dense_layer_neurons, \n",
    "                input_shape=(input_dimension,), \n",
    "                activity_regularizer=regularizers.l2(regularizer_rate)))\n",
    "model.add(Activation(\"relu\"))\n",
    "model.add(Dropout(rate=dropout_rate))\n",
    "model.add(Dense(dense_layer_neurons, \n",
    "                activity_regularizer=regularizers.l2(regularizer_rate)))\n",
    "model.add(Activation(\"relu\"))\n",
    "model.add(Dropout(rate=dropout_rate))\n",
    "model.add(Dense(nb_classes))\n",
    "model.add(Activation(\"sigmoid\"))\n",
    "model.compile(loss=\"binary_crossentropy\", optimizer=\"Adam\")\n",
    "\n",
    "model.summary()"
   ]
  },
  {
   "cell_type": "raw",
   "metadata": {},
   "source": [
    "# Builds a distributed deep learning pipeline for our model\n",
    "\n",
    "# Sets and serializes the optimizer\n",
    "optimizer_configuration = optimizers.Adam(lr=0.01)\n",
    "opt_conf = optimizers.serialize(optimizer_configuration)\n",
    "\n",
    "# Initializes the sparkML estimator\n",
    "estimator = ElephasEstimator(labelCol='label', featuresCol='scaled_features')\n",
    "estimator.set_keras_model_config(model.to_yaml())\n",
    "estimator.set_categorical_labels(True)\n",
    "estimator.set_nb_classes(nb_classes)\n",
    "estimator.set_num_workers(1)\n",
    "estimator.set_epochs(25)\n",
    "estimator.set_batch_size(64)\n",
    "estimator.set_verbosity(1)\n",
    "estimator.set_validation_split(0.10)\n",
    "estimator.set_optimizer_config(opt_conf)\n",
    "estimator.set_mode(\"synchronous\")\n",
    "estimator.set_loss(\"binary_crossentropy\")\n",
    "estimator.set_metrics([\"acc\"])"
   ]
  },
  {
   "cell_type": "raw",
   "metadata": {},
   "source": [
    "# Sets the pipeline\n",
    "\n",
    "dl_pipeline = Pipeline(stages=[estimator])"
   ]
  },
  {
   "cell_type": "markdown",
   "metadata": {},
   "source": [
    "#### Annex.2.2. Fitting and Evaluating the model"
   ]
  },
  {
   "cell_type": "raw",
   "metadata": {},
   "source": [
    "# Fits and predicts\n",
    "fit_dl_pipeline = dl_pipeline.fit(training)\n",
    "pred_training = fit_dl_pipeline.transform(training)\n",
    "pred_test = fit_dl_pipeline.transform(test)"
   ]
  },
  {
   "cell_type": "raw",
   "metadata": {},
   "source": [
    "# Retrieves results\n",
    "results_training = pred_train.select(\"label\", \"prediction\")\n",
    "results_test = pred_test.select(\"label\", \"prediction\")"
   ]
  },
  {
   "cell_type": "raw",
   "metadata": {},
   "source": [
    "# Builds the metrics\n",
    "pred_and_label_training = results_training.rdd.map(lambda row: (row[\"label\"], row[\"prediction\"]))\n",
    "pred_and_label_test = results_test.rdd.map(lambda row: (row[\"label\"], row[\"prediction\"]))\n",
    "\n",
    "metrics_training = MulticlassMetrics(pred_and_label_training)\n",
    "metrics_test = MulticlassMetrics(pred_and_label_test)"
   ]
  },
  {
   "cell_type": "raw",
   "metadata": {},
   "source": [
    "# Prints the results\n",
    "print(\"Training Data Accuracy {}\".format(round(metrics_training.precision(),4)))\n",
    "print(\"Training Data Confusion Matrix\")\n",
    "print(results_training.crosstab(\"label\", \"prediction\").toPandas())\n",
    "\n",
    "print(\"\\nTest Data Accuracy {}\".format(round(metrics_test.precision(),4)))\n",
    "print(\"Test Data Confusion Matrix\")\n",
    "print(results_test.crosstab(\"label\", \"prediction\").toPandas())"
   ]
  }
 ],
 "metadata": {
  "kernelspec": {
   "display_name": "Python 3",
   "language": "python",
   "name": "python3"
  },
  "language_info": {
   "codemirror_mode": {
    "name": "ipython",
    "version": 3
   },
   "file_extension": ".py",
   "mimetype": "text/x-python",
   "name": "python",
   "nbconvert_exporter": "python",
   "pygments_lexer": "ipython3",
   "version": "3.8.5"
  }
 },
 "nbformat": 4,
 "nbformat_minor": 4
}
