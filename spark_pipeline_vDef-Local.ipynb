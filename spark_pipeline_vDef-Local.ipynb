{
 "cells": [
  {
   "cell_type": "markdown",
   "metadata": {},
   "source": [
    "# Spark Pipeline on Kickstarter Pledge Dataset\n",
    "\n",
    "## 1. Overview\n",
    "\n",
    "### 1.1. Instructions\n",
    "\n",
    "- **Choosing any sufficiently large open dataset** (less than 100000 lines are not allowed)\n",
    "\n",
    "\n",
    "- **Choosing one variable to predict**\n",
    "\n",
    "\n",
    "- **Implementing at least two supervised learning models**: classification, regression, recommender system, etc. Unsupervised tasks (e.g. clusterisation, associative rules, etc.) are not allowed\n",
    "\n",
    "\n",
    "- **Mandatory use of Apache Spark** (e.g. on Google Cloud as we did during our lab sessions)\n",
    "\n",
    "\n",
    "- A **full machine learning pipeline must be implemented**, which include:\n",
    "    - Reading the data\n",
    "    - Transforming data (extracting features, dealing with missing values if any, etc.)\n",
    "    - Building models (build at least two models to compare)\n",
    "    - Evaluating quality (use cross-validation or train/test split)\n",
    "\n",
    "### 1.2. Dataset\n",
    "\n",
    "We will be using the [Kickstarter Projects](https://www.kaggle.com/kemical/kickstarter-projects) Kaggle dataset. It contains two .csv files dated December 2016 and January 2018 which contains lists of kickstarter campaigns, explicited with the following data fields:\n",
    "\n",
    "- ID\n",
    "- name\n",
    "- category\n",
    "- main_category\n",
    "- currency\n",
    "- deadline\n",
    "- goal\n",
    "- launched\n",
    "- pledged\n",
    "- state\n",
    "- backers\n",
    "- country\n",
    "- usd_pledged: conversion in US dollars of the pledged column \n",
    "- usd_pledged_real: conversion in US dollars of the pledged column\n",
    "- usd_goal_real: conversion in US dollars of the goal column\n",
    "\n",
    "\n",
    "### 1.3. Goal\n",
    "\n",
    "Kickstarter is a crowdfunding platform where people, companies, etc. can set a campaign where people can pledge money in exchange for a future product (those people are called backers). Being able to predict the success of a campaign has important application in marketing, as such:\n",
    "\n",
    "> Our goal will be to predict the **state** value of campaigns based on any number other columns (our features), excluding *usd_pledged* and *usd_pledged_real*.\n",
    "\n",
    "The notebook was also ran locally using the installation steps for Spark described [here](https://sparkbyexamples.com/spark/spark-installation-on-linux-ubuntu/).\n",
    "\n",
    "## 2. Environment Set-Up\n",
    "\n",
    "We need the following libraries installed to set up the environment:\n",
    "\n",
    "- kaggle (see documentation [here](https://github.com/Kaggle/kaggle-api#datasets))\n",
    "- pyspark (see documentation [here](https://spark.apache.org/docs/latest/api/python/index.html))"
   ]
  },
  {
   "cell_type": "code",
   "execution_count": 1,
   "metadata": {
    "scrolled": false
   },
   "outputs": [
    {
     "name": "stdout",
     "output_type": "stream",
     "text": [
      "Requirement already satisfied: kaggle in /home/qlr/anaconda3/lib/python3.8/site-packages (1.5.10)\n",
      "Requirement already satisfied: python-dateutil in /home/qlr/anaconda3/lib/python3.8/site-packages (from kaggle) (2.8.1)\n",
      "Requirement already satisfied: urllib3 in /home/qlr/anaconda3/lib/python3.8/site-packages (from kaggle) (1.25.11)\n",
      "Requirement already satisfied: six>=1.10 in /home/qlr/anaconda3/lib/python3.8/site-packages (from kaggle) (1.15.0)\n",
      "Requirement already satisfied: requests in /home/qlr/anaconda3/lib/python3.8/site-packages (from kaggle) (2.24.0)\n",
      "Requirement already satisfied: certifi in /home/qlr/anaconda3/lib/python3.8/site-packages (from kaggle) (2020.6.20)\n",
      "Requirement already satisfied: python-slugify in /home/qlr/anaconda3/lib/python3.8/site-packages (from kaggle) (4.0.1)\n",
      "Requirement already satisfied: tqdm in /home/qlr/anaconda3/lib/python3.8/site-packages (from kaggle) (4.50.2)\n",
      "Requirement already satisfied: text-unidecode>=1.3 in /home/qlr/anaconda3/lib/python3.8/site-packages (from python-slugify->kaggle) (1.3)\n",
      "Requirement already satisfied: chardet<4,>=3.0.2 in /home/qlr/anaconda3/lib/python3.8/site-packages (from requests->kaggle) (3.0.4)\n",
      "Requirement already satisfied: idna<3,>=2.5 in /home/qlr/anaconda3/lib/python3.8/site-packages (from requests->kaggle) (2.10)\n",
      "Requirement already satisfied: pyspark in /home/qlr/anaconda3/lib/python3.8/site-packages (3.0.1)\n",
      "Requirement already satisfied: py4j==0.10.9 in /home/qlr/anaconda3/lib/python3.8/site-packages (from pyspark) (0.10.9)\n"
     ]
    }
   ],
   "source": [
    "# Installs the kaggle and pyspark module on the machine\n",
    "!pip install kaggle\n",
    "# !pip uninstall pyspark -y\n",
    "!pip install pyspark\n",
    "# !pip install bigdl==0.12.1 # requires Python 3.6 or 3.7"
   ]
  },
  {
   "cell_type": "markdown",
   "metadata": {},
   "source": [
    "## 3. Dataset Download"
   ]
  },
  {
   "cell_type": "code",
   "execution_count": 2,
   "metadata": {},
   "outputs": [],
   "source": [
    "# Removes previously existing files\n",
    "!rm -f kickstarter-projects.zip\n",
    "!rm -f ks-projects-201612.csv ks-projects-201801.csv"
   ]
  },
  {
   "cell_type": "markdown",
   "metadata": {},
   "source": [
    "### 3.1. Setting up Kaggle environment variables with the kaggle.json file\n",
    "\n",
    "#### 3.1.2. On Google Cloud\n",
    "\n",
    "<span style=\"color:red\">To download the kaggle dataset, we must first upload our account's **kaggle.json file** in the **/root/.kaggle/ folder**.</span>\n",
    "    \n",
    "<span style=\"color:red\">The kaggle.json file can be downloaded here:</span>\n",
    "\n",
    "> ``https://www.kaggle.com/<username>/account``\n",
    "    \n",
    "<span style=\"color:red\">It is assumed we created a **/home/\\<user\\>/ folder** where this Jupyter Notebook and the kaggle.json file have been uploaded</span>."
   ]
  },
  {
   "cell_type": "raw",
   "metadata": {},
   "source": [
    "############## WARNING ###########\n",
    "# RUN ONLY WHEN USING GOOGLE CLOUD\n",
    "##################################\n",
    "\n",
    "# Given this notebook and the kaggle.json file are set in the folder /home/<user>/\n",
    "# Moves the kaggle.json file from the user folder to the root folder\n",
    "!mkdir /root/.kaggle/\n",
    "!mv /home/qlr/kaggle.json /root/.kaggle/kaggle.json"
   ]
  },
  {
   "cell_type": "markdown",
   "metadata": {},
   "source": [
    "#### 3.1.2. On a local machine\n",
    "    \n",
    "<span style=\"color:red\">Download and move the kaggle.json file to the local /root/.kaggle/ folder.</span>\n",
    "\n",
    "### 3.2. Downloading the dataset\n",
    "\n",
    "We only keep 'ks-projects-201801.csv', the most recent dataset available."
   ]
  },
  {
   "cell_type": "code",
   "execution_count": 3,
   "metadata": {},
   "outputs": [
    {
     "name": "stdout",
     "output_type": "stream",
     "text": [
      "Warning: Your Kaggle API key is readable by other users on this system! To fix this, you can run 'chmod 600 /home/qlr/.kaggle/kaggle.json'\n",
      "Downloading kickstarter-projects.zip to /home/qlr/Programming/kickstarter_pledge_prediction\n",
      "100%|██████████████████████████████████████| 36.8M/36.8M [00:07<00:00, 6.07MB/s]\n",
      "100%|██████████████████████████████████████| 36.8M/36.8M [00:07<00:00, 5.17MB/s]\n"
     ]
    }
   ],
   "source": [
    "# Dowloads the raw dataset from the kaggle source\n",
    "!kaggle datasets download -d kemical/kickstarter-projects"
   ]
  },
  {
   "cell_type": "code",
   "execution_count": 4,
   "metadata": {},
   "outputs": [
    {
     "name": "stdout",
     "output_type": "stream",
     "text": [
      "Archive:  kickstarter-projects.zip\n",
      "  inflating: ks-projects-201612.csv  \n",
      "  inflating: ks-projects-201801.csv  \n"
     ]
    }
   ],
   "source": [
    "# Unzips the raw dataset and keeps only the most recent instance\n",
    "!unzip kickstarter-projects.zip\n",
    "!rm -f ks-projects-201612.csv kickstarter-projects.zip"
   ]
  },
  {
   "cell_type": "raw",
   "metadata": {},
   "source": [
    "# Zips the raw dataset once instantiated in memory\n",
    "# Useful for git push as Github gives a warning when pushing a file > 50Mb\n",
    "!zip ks-projects-201801.zip ks-projects-201801.csv\n",
    "!rm -f ks-projects-201801.csv\n",
    "!ls"
   ]
  },
  {
   "cell_type": "markdown",
   "metadata": {},
   "source": [
    "### 3.3. Uploading to HDFS when using Google Cloud"
   ]
  },
  {
   "cell_type": "raw",
   "metadata": {},
   "source": [
    "############## WARNING ###########\n",
    "# RUN ONLY WHEN USING GOOGLE CLOUD\n",
    "##################################\n",
    "\n",
    "# Uploads the dataset to HDFS when on Google Cloud\n",
    "!hdfs dfs -mkdir /user/qlr\n",
    "!hdfs dfs -rm /user/qlr/ks-projects-201801.csv\n",
    "!hdfs dfs -put ks-projects-201801.csv /user/qlr\n",
    "!hdfs dfs -ls /user/qlr"
   ]
  },
  {
   "cell_type": "markdown",
   "metadata": {},
   "source": [
    "## 4. Library Imports & Setting Spark/Global Environment Variables"
   ]
  },
  {
   "cell_type": "code",
   "execution_count": 5,
   "metadata": {},
   "outputs": [],
   "source": [
    "# Loads the needed modules\n",
    "from pyspark.context import SparkContext\n",
    "\n",
    "from pyspark.ml import Pipeline\n",
    "from pyspark.ml.evaluation import BinaryClassificationEvaluator\n",
    "from pyspark.ml.feature import StringIndexer, OneHotEncoder, VectorAssembler, StandardScaler \n",
    "from pyspark.ml.feature import Word2Vec, Tokenizer, HashingTF\n",
    "from pyspark.ml.classification import DecisionTreeClassifier\n",
    "from pyspark.ml.classification import NaiveBayes\n",
    "from pyspark.ml.classification import RandomForestClassifier\n",
    "from pyspark.ml.classification import LogisticRegression\n",
    "from pyspark.ml.tuning import CrossValidator, ParamGridBuilder\n",
    "\n",
    "from pyspark.sql import Row\n",
    "from pyspark.sql.functions import unix_timestamp, ceil, isnan, when, count, col\n",
    "from pyspark.sql.session import SparkSession\n",
    "from pyspark.sql.types import DoubleType"
   ]
  },
  {
   "cell_type": "code",
   "execution_count": 6,
   "metadata": {},
   "outputs": [],
   "source": [
    "############## WARNING ###########\n",
    "# RUN ONLY WHEN ON A LOCAL MACHINE\n",
    "##################################\n",
    "\n",
    "dataset_path = \"ks-projects-201801.csv\"\n",
    "dataset_format = \"csv\"\n",
    "context = \"local\"\n",
    "\n",
    "# Instantiates a local Spark Session\n",
    "spark = SparkSession.builder \\\n",
    "    .master(\"local[*]\") \\\n",
    "    .config(\"spark.driver.memory\", \"12g\") \\\n",
    "    .appName(\"distributed-database-assignment\") \\\n",
    "    .getOrCreate()"
   ]
  },
  {
   "cell_type": "raw",
   "metadata": {},
   "source": [
    "############## WARNING ###########\n",
    "# RUN ONLY WHEN USING GOOGLE CLOUD\n",
    "##################################\n",
    "\n",
    "dataset_path = \"/user/qlr/ks-projects-201801.csv\"\n",
    "dataset_format = \"csv\"\n",
    "context = \"cloud\""
   ]
  },
  {
   "cell_type": "markdown",
   "metadata": {},
   "source": [
    "## 5. Loading the Kickstarter Dataset"
   ]
  },
  {
   "cell_type": "markdown",
   "metadata": {},
   "source": [
    "<span style=\"color:red\">Comment out the following cell when when running the notebook Google Cloud as a spark session is automatically instantiated.</span>"
   ]
  },
  {
   "cell_type": "code",
   "execution_count": 7,
   "metadata": {
    "scrolled": true
   },
   "outputs": [
    {
     "data": {
      "text/html": [
       "\n",
       "            <div>\n",
       "                <p><b>SparkSession - in-memory</b></p>\n",
       "                \n",
       "        <div>\n",
       "            <p><b>SparkContext</b></p>\n",
       "\n",
       "            <p><a href=\"http://desktop-lkaf740-2.home:4040\">Spark UI</a></p>\n",
       "\n",
       "            <dl>\n",
       "              <dt>Version</dt>\n",
       "                <dd><code>v3.0.1</code></dd>\n",
       "              <dt>Master</dt>\n",
       "                <dd><code>local[*]</code></dd>\n",
       "              <dt>AppName</dt>\n",
       "                <dd><code>distributed-database-assignment</code></dd>\n",
       "            </dl>\n",
       "        </div>\n",
       "        \n",
       "            </div>\n",
       "        "
      ],
      "text/plain": [
       "<pyspark.sql.session.SparkSession at 0x7f3fd4aacac0>"
      ]
     },
     "execution_count": 7,
     "metadata": {},
     "output_type": "execute_result"
    }
   ],
   "source": [
    "#Spark UI on Google Cloud should return:\n",
    "#   v2.3.4 (version)\n",
    "#   yarn (Master)\n",
    "#   PySparkShell (AppName)\n",
    "\n",
    "spark"
   ]
  },
  {
   "cell_type": "code",
   "execution_count": 8,
   "metadata": {},
   "outputs": [],
   "source": [
    "# Loads the dataset\n",
    "campaigns = (spark\n",
    "             .read\n",
    "             .format(dataset_format)\n",
    "             .options(header=True)\n",
    "             .load(dataset_path))"
   ]
  },
  {
   "cell_type": "markdown",
   "metadata": {},
   "source": [
    "## 6. Dataset Pre-Processing"
   ]
  },
  {
   "cell_type": "code",
   "execution_count": 9,
   "metadata": {},
   "outputs": [],
   "source": [
    "# Declares variables for pre-processing the dataset\n",
    "kept_raw_columns = [\n",
    "    \"ID\",\"name\",\"category\",\"deadline\",\"launched\",\"country\",\"usd_goal_real\", #features\n",
    "    \"state\" # target\n",
    "]\n",
    "\n",
    "remove_date_columns = [\n",
    "    \"ID\",\"name\",\"category\",\"total_duration\",\"country\",\"usd_goal_real\", #features\n",
    "    \"state\" # target\n",
    "]\n",
    "\n",
    "kept_columns_for_modelization = [\n",
    "    \"total_duration\",\"usd_goal_real\",\"name\",\"category\",\"country\", #features\n",
    "    \"state\" # target\n",
    "]\n",
    "\n",
    "deadline_format = \"yyyy-MM-dd\"\n",
    "launched_format = \"yyyy-MM-dd HH:mm:ss\"\n",
    "\n",
    "final_columns = [\"scaled_features\", \"label\"]"
   ]
  },
  {
   "cell_type": "code",
   "execution_count": 10,
   "metadata": {},
   "outputs": [],
   "source": [
    "# Declares useful functions\n",
    "def dataset_check(db):\n",
    "    print(\"The dataset contains \" + str(db.count()) + \" rows.\")\n",
    "    db.show(n=5)"
   ]
  },
  {
   "cell_type": "code",
   "execution_count": 11,
   "metadata": {},
   "outputs": [
    {
     "name": "stdout",
     "output_type": "stream",
     "text": [
      "root\n",
      " |-- ID: string (nullable = true)\n",
      " |-- name: string (nullable = true)\n",
      " |-- category: string (nullable = true)\n",
      " |-- main_category: string (nullable = true)\n",
      " |-- currency: string (nullable = true)\n",
      " |-- deadline: string (nullable = true)\n",
      " |-- goal: string (nullable = true)\n",
      " |-- launched: string (nullable = true)\n",
      " |-- pledged: string (nullable = true)\n",
      " |-- state: string (nullable = true)\n",
      " |-- backers: string (nullable = true)\n",
      " |-- country: string (nullable = true)\n",
      " |-- usd pledged: string (nullable = true)\n",
      " |-- usd_pledged_real: string (nullable = true)\n",
      " |-- usd_goal_real: string (nullable = true)\n",
      "\n"
     ]
    }
   ],
   "source": [
    "# Checks the type of the dataset columns\n",
    "campaigns.printSchema()"
   ]
  },
  {
   "cell_type": "code",
   "execution_count": 12,
   "metadata": {
    "scrolled": false
   },
   "outputs": [],
   "source": [
    "# Drops NAs, Nulls, and Duplicates \n",
    "campaigns = campaigns.dropna()\n",
    "campaigns = campaigns.dropDuplicates()\n",
    "for column in campaigns.columns:\n",
    "    campaigns = campaigns.where(col(column).isNotNull())"
   ]
  },
  {
   "cell_type": "code",
   "execution_count": 13,
   "metadata": {},
   "outputs": [],
   "source": [
    "# Prunes the non-relevant columns\n",
    "campaigns = campaigns.select(kept_raw_columns)"
   ]
  },
  {
   "cell_type": "code",
   "execution_count": 14,
   "metadata": {
    "scrolled": false
   },
   "outputs": [],
   "source": [
    "# Computes a duration time (in day) between the launch and deadline features\n",
    "launch_times = unix_timestamp(\"launched\", format = launched_format)\n",
    "deadline_times = unix_timestamp(\"deadline\", format = deadline_format)\n",
    "time_difference = deadline_times - launch_times\n",
    "campaigns = campaigns.withColumn(\"total_duration\",ceil(time_difference/(3600*24)))\n",
    "\n",
    "# Removes the launch and deadline feature columns\n",
    "campaigns = campaigns.select(remove_date_columns)"
   ]
  },
  {
   "cell_type": "code",
   "execution_count": 15,
   "metadata": {},
   "outputs": [],
   "source": [
    "# Cleans the target labels:\n",
    "#   - 'undefined', 'live' -> dropped\n",
    "for condition in ['state!=\"undefined\"', 'state!=\"live\"']:\n",
    "    campaigns = campaigns.where(condition)\n",
    "\n",
    "#   - 'suspended', 'cancelled' -> renamed to 'failed' \n",
    "campaigns = campaigns.\\\n",
    "    withColumn(\"state\",when(col(\"state\") == \"canceled\", \"failed\").\\\n",
    "    when(col(\"state\") == \"suspended\", \"failed\").\\\n",
    "    when(col(\"state\") == \"failed\", \"failed\").\\\n",
    "    otherwise(\"successful\"))"
   ]
  },
  {
   "cell_type": "code",
   "execution_count": 16,
   "metadata": {},
   "outputs": [],
   "source": [
    "# Casts the relevant column(s) to their end types\n",
    "for column in [\"total_duration\", \"usd_goal_real\"]:\n",
    "    campaigns = campaigns.withColumn(column,col(column).cast(DoubleType()))"
   ]
  },
  {
   "cell_type": "code",
   "execution_count": 17,
   "metadata": {
    "scrolled": true
   },
   "outputs": [],
   "source": [
    "# finishes clean-up\n",
    "processed_campaigns = campaigns.select(kept_columns_for_modelization)"
   ]
  },
  {
   "cell_type": "markdown",
   "metadata": {},
   "source": [
    "With the preprocessed campaigns, we can both explore the data better and build our Spark pipelines."
   ]
  },
  {
   "cell_type": "markdown",
   "metadata": {},
   "source": [
    "### 6.1. Exploring the pre-processed campaigns"
   ]
  },
  {
   "cell_type": "code",
   "execution_count": 18,
   "metadata": {},
   "outputs": [],
   "source": [
    "def count_unique_instances(df, column_name):\n",
    "    \"\"\"\n",
    "    Prints the count of each unique instance in a column in descending order\n",
    "    \"\"\"\n",
    "    df.select(column_name).groupBy(column_name).count().orderBy(col(\"count\").desc()).show()"
   ]
  },
  {
   "cell_type": "code",
   "execution_count": 19,
   "metadata": {},
   "outputs": [
    {
     "name": "stdout",
     "output_type": "stream",
     "text": [
      "The dataset contains 372060 rows.\n",
      "+--------------+-------------+--------------------+--------------+-------+----------+\n",
      "|total_duration|usd_goal_real|                name|      category|country|     state|\n",
      "+--------------+-------------+--------------------+--------------+-------+----------+\n",
      "|          43.0|      4926.39|             Borders|         Drama|     GB|    failed|\n",
      "|          21.0|      2240.39|Spiele für iOS un...|  Mobile Games|     DE|    failed|\n",
      "|          30.0|        700.0|Odyssey Skateboar...|Graphic Design|     US|    failed|\n",
      "|          30.0|       5500.0|Debut EP Album Pr...|           R&B|     US|    failed|\n",
      "|          16.0|       1200.0|GBS Detroit Prese...|    Indie Rock|     US|successful|\n",
      "+--------------+-------------+--------------------+--------------+-------+----------+\n",
      "only showing top 5 rows\n",
      "\n"
     ]
    }
   ],
   "source": [
    "# Checks dataset structure\n",
    "dataset_check(processed_campaigns)"
   ]
  },
  {
   "cell_type": "code",
   "execution_count": 20,
   "metadata": {},
   "outputs": [
    {
     "data": {
      "text/plain": [
       "[('total_duration', 'double'),\n",
       " ('usd_goal_real', 'double'),\n",
       " ('name', 'string'),\n",
       " ('category', 'string'),\n",
       " ('country', 'string'),\n",
       " ('state', 'string')]"
      ]
     },
     "execution_count": 20,
     "metadata": {},
     "output_type": "execute_result"
    }
   ],
   "source": [
    "processed_campaigns.dtypes"
   ]
  },
  {
   "cell_type": "code",
   "execution_count": 21,
   "metadata": {
    "scrolled": true
   },
   "outputs": [
    {
     "name": "stdout",
     "output_type": "stream",
     "text": [
      "+--------------+-------------+----+--------+-------+-----+\n",
      "|total_duration|usd_goal_real|name|category|country|state|\n",
      "+--------------+-------------+----+--------+-------+-----+\n",
      "|             0|            0|   0|       0|      0|    0|\n",
      "+--------------+-------------+----+--------+-------+-----+\n",
      "\n"
     ]
    }
   ],
   "source": [
    "# Checks for N/A\n",
    "processed_campaigns.select([count(when(isnan(c), c)).alias(c) for c in processed_campaigns.columns]).show()"
   ]
  },
  {
   "cell_type": "code",
   "execution_count": 22,
   "metadata": {
    "scrolled": true
   },
   "outputs": [
    {
     "name": "stdout",
     "output_type": "stream",
     "text": [
      "+----------+------+\n",
      "|     state| count|\n",
      "+----------+------+\n",
      "|    failed|237451|\n",
      "|successful|134609|\n",
      "+----------+------+\n",
      "\n"
     ]
    }
   ],
   "source": [
    "#Checks state column's content\n",
    "count_unique_instances(processed_campaigns, \"state\")"
   ]
  },
  {
   "cell_type": "code",
   "execution_count": 23,
   "metadata": {},
   "outputs": [
    {
     "name": "stdout",
     "output_type": "stream",
     "text": [
      "+----------------+-----+\n",
      "|        category|count|\n",
      "+----------------+-----+\n",
      "|  Product Design|22037|\n",
      "|     Documentary|16015|\n",
      "|  Tabletop Games|14058|\n",
      "|           Music|13195|\n",
      "|          Shorts|12234|\n",
      "|     Video Games|11733|\n",
      "|            Food|11436|\n",
      "|    Film & Video| 9132|\n",
      "|         Fiction| 9050|\n",
      "|         Fashion| 8503|\n",
      "|      Nonfiction| 8215|\n",
      "|             Art| 8170|\n",
      "|         Apparel| 7047|\n",
      "|         Theater| 6969|\n",
      "|      Technology| 6841|\n",
      "|            Rock| 6682|\n",
      "|Children's Books| 6656|\n",
      "|            Apps| 6259|\n",
      "|     Photography| 5726|\n",
      "|       Webseries| 5723|\n",
      "+----------------+-----+\n",
      "only showing top 20 rows\n",
      "\n"
     ]
    }
   ],
   "source": [
    "count_unique_instances(processed_campaigns, \"category\")"
   ]
  },
  {
   "cell_type": "code",
   "execution_count": 24,
   "metadata": {},
   "outputs": [
    {
     "name": "stdout",
     "output_type": "stream",
     "text": [
      "+-------+------+\n",
      "|country| count|\n",
      "+-------+------+\n",
      "|     US|289717|\n",
      "|     GB| 33350|\n",
      "|     CA| 14603|\n",
      "|     AU|  7754|\n",
      "|     DE|  4091|\n",
      "|     FR|  2879|\n",
      "|     NL|  2830|\n",
      "|     IT|  2794|\n",
      "|     ES|  2221|\n",
      "|     SE|  1736|\n",
      "|     MX|  1639|\n",
      "|     NZ|  1434|\n",
      "|     DK|  1096|\n",
      "|     IE|   799|\n",
      "|     CH|   745|\n",
      "|     NO|   699|\n",
      "|     BE|   605|\n",
      "|     HK|   583|\n",
      "|     AT|   582|\n",
      "|     SG|   526|\n",
      "+-------+------+\n",
      "only showing top 20 rows\n",
      "\n"
     ]
    }
   ],
   "source": [
    "count_unique_instances(processed_campaigns, \"country\")"
   ]
  },
  {
   "cell_type": "code",
   "execution_count": 25,
   "metadata": {},
   "outputs": [
    {
     "name": "stdout",
     "output_type": "stream",
     "text": [
      "+--------------+------+\n",
      "|total_duration| count|\n",
      "+--------------+------+\n",
      "|          30.0|165615|\n",
      "|          60.0| 32147|\n",
      "|          45.0| 17293|\n",
      "|          31.0| 13083|\n",
      "|          35.0|  9868|\n",
      "|          40.0|  9734|\n",
      "|          32.0|  7141|\n",
      "|          20.0|  6701|\n",
      "|          21.0|  6597|\n",
      "|          29.0|  6248|\n",
      "|          25.0|  6037|\n",
      "|          33.0|  5660|\n",
      "|          28.0|  5348|\n",
      "|          15.0|  5287|\n",
      "|          14.0|  4080|\n",
      "|          34.0|  3562|\n",
      "|          36.0|  3362|\n",
      "|          27.0|  2869|\n",
      "|          22.0|  2658|\n",
      "|          26.0|  2589|\n",
      "+--------------+------+\n",
      "only showing top 20 rows\n",
      "\n"
     ]
    }
   ],
   "source": [
    "count_unique_instances(processed_campaigns, \"total_duration\")"
   ]
  },
  {
   "cell_type": "markdown",
   "metadata": {},
   "source": [
    "### 6.2. Creating the dataset for Logistic Regression, Decision Tree, and Random Forest\n",
    "\n",
    "Our first three models will be:\n",
    "- Logistic Regression\n",
    "- Decision Tree\n",
    "- Random Forest\n",
    "\n",
    "To create our data pipeline, we will rely on indexing and assembling our data using the following stages:\n",
    "- **StringIndexer** for all categorical columns\n",
    "- **OneHotEncoder** for all categorical index columns\n",
    "- **Tokenizer** and **Word2Vec** for the \\<name\\> column\n",
    "- **VectorAssembler** for all feature columns to be assembled into one vector column"
   ]
  },
  {
   "cell_type": "code",
   "execution_count": 26,
   "metadata": {},
   "outputs": [],
   "source": [
    "# String-indexes the categorical feature columns\n",
    "categorical_feature_columns = processed_campaigns.columns[3:5]\n",
    "string_indexing_feature_columns = [\n",
    "    StringIndexer(inputCol=column, outputCol=\"strindexed_\" + column, handleInvalid=\"skip\")\n",
    "    for column in categorical_feature_columns\n",
    "]\n",
    "\n",
    "# String-indexes the label column\n",
    "string_indexing_label_column = [\n",
    "    StringIndexer(inputCol=\"state\", outputCol=\"label\", handleInvalid=\"skip\")\n",
    "]"
   ]
  },
  {
   "cell_type": "markdown",
   "metadata": {},
   "source": [
    "<span style=\"color:red\">**Note on pyspark 2.3 used on Google Cloud**:  OneHotEncoder and VectorAssembler do not have the \\<handleInvalid\\> attribute. The resulting effect is that pyspark can raise a null error during .fit() procedures despite no na exists in the dataset (see cell in previous part). A solution will be to pass dataset column as dataset.na.drop() later on.</span>"
   ]
  },
  {
   "cell_type": "code",
   "execution_count": 27,
   "metadata": {},
   "outputs": [],
   "source": [
    "# Creates pipeline stages to one-hot encode each categorical feature column\n",
    "if context == \"local\":\n",
    "    onehot_encoding_feature_columns = [\n",
    "        OneHotEncoder(inputCol = \"strindexed_\" + column, \n",
    "                      outputCol = \"onehot_\" + column,\n",
    "                      handleInvalid = \"keep\")\n",
    "        for column in categorical_feature_columns\n",
    "    ]\n",
    "else:\n",
    "    onehot_encoding_feature_columns = [\n",
    "        OneHotEncoder(inputCol = \"strindexed_\" + column, \n",
    "                      outputCol = \"onehot_\" + column) \n",
    "        for column in categorical_feature_columns\n",
    "    ]"
   ]
  },
  {
   "cell_type": "raw",
   "metadata": {},
   "source": [
    "scaler_duration = StandardScaler(inputCol=\"total_duration\", outputCol=\"scaled_duration\")\n",
    "scaler_pledge = StandardScaler(inputCol=\"usd_goal_real\", outputCol=\"scaled_pledge\")"
   ]
  },
  {
   "cell_type": "code",
   "execution_count": 28,
   "metadata": {},
   "outputs": [],
   "source": [
    "# Creates pipeline stages to vector assemble each categorical feature column\n",
    "processed_feature_columns = list(map(lambda col_name: \"onehot_\" + col_name, categorical_feature_columns))\n",
    "processed_feature_columns += [\"total_duration\", \"usd_goal_real\"]\n",
    "\n",
    "if context == \"local\":\n",
    "    vectorassembler_stage = VectorAssembler(inputCols=processed_feature_columns, \n",
    "                                            outputCol=\"features_1\",\n",
    "                                            handleInvalid=\"skip\")\n",
    "else:\n",
    "    vectorassembler_stage = VectorAssembler(inputCols=processed_feature_columns, \n",
    "                                            outputCol=\"features_1\")"
   ]
  },
  {
   "cell_type": "code",
   "execution_count": 29,
   "metadata": {},
   "outputs": [],
   "source": [
    "# Creates pipeline stages to vectorize the <name> column\n",
    "tokenizer = Tokenizer(inputCol=\"name\", outputCol=\"words\")\n",
    "word2Vec = Word2Vec(vectorSize=20, inputCol=tokenizer.getOutputCol(), outputCol=\"features_2\")"
   ]
  },
  {
   "cell_type": "code",
   "execution_count": 30,
   "metadata": {},
   "outputs": [],
   "source": [
    "# Merges the vectors resulting from the categorical feature pipeline and word2vec pipeline\n",
    "merge_features = VectorAssembler(inputCols=[\"features_1\", \"features_2\"], outputCol=\"features\")"
   ]
  },
  {
   "cell_type": "code",
   "execution_count": 31,
   "metadata": {
    "scrolled": true
   },
   "outputs": [],
   "source": [
    "scaler = StandardScaler(inputCol=\"features\", outputCol=\"scaled_features\")"
   ]
  },
  {
   "cell_type": "code",
   "execution_count": 32,
   "metadata": {},
   "outputs": [],
   "source": [
    "# Assembles the data processing pipeline\n",
    "data_processing_pipeline = Pipeline(\n",
    "    stages = string_indexing_feature_columns +\n",
    "    string_indexing_label_column + \n",
    "    onehot_encoding_feature_columns + \n",
    "#     [scaler_duration] +\n",
    "#     [scaler_pledge] +\n",
    "    [vectorassembler_stage] + \n",
    "    [tokenizer] + \n",
    "    [word2Vec] +\n",
    "    [merge_features] +\n",
    "    [scaler]\n",
    ")"
   ]
  },
  {
   "cell_type": "code",
   "execution_count": 33,
   "metadata": {},
   "outputs": [],
   "source": [
    "# Fits the data processing pipeline\n",
    "first_pipeline = data_processing_pipeline.fit(processed_campaigns.na.drop())\n",
    "first_processed_dataset = first_pipeline.transform(processed_campaigns)"
   ]
  },
  {
   "cell_type": "code",
   "execution_count": 34,
   "metadata": {},
   "outputs": [],
   "source": [
    "# Caches 20% of the dataset for the session for better time performance\n",
    "first_processed_dataset = first_processed_dataset.select(final_columns).sample(0.2).cache()"
   ]
  },
  {
   "cell_type": "code",
   "execution_count": 35,
   "metadata": {},
   "outputs": [
    {
     "name": "stdout",
     "output_type": "stream",
     "text": [
      "The dataset contains 73854 rows.\n",
      "+--------------------+-----+\n",
      "|     scaled_features|label|\n",
      "+--------------------+-----+\n",
      "|(203,[49,160,181,...|  0.0|\n",
      "|(203,[14,159,181,...|  1.0|\n",
      "|(203,[11,162,181,...|  1.0|\n",
      "|(203,[6,159,181,1...|  1.0|\n",
      "|(203,[0,176,181,1...|  0.0|\n",
      "+--------------------+-----+\n",
      "only showing top 5 rows\n",
      "\n"
     ]
    }
   ],
   "source": [
    "dataset_check(first_processed_dataset)"
   ]
  },
  {
   "cell_type": "markdown",
   "metadata": {},
   "source": [
    "### 6.2. Creating the dataset for Naive Bayes\n",
    "\n",
    "Our second batch of models will be:\n",
    "- Naive Bayes\n",
    "\n",
    "To create our data pipeline, we will rely on indexing and assembling our data using the following stages:\n",
    "- **StringIndexer** for all categorical columns\n",
    "- **OneHotEncoder** for all categorical index columns\n",
    "- **Tokenizer** and **HashingTF** for the \\<name\\> column\n",
    "- **VectorAssembler** for all feature columns to be assembled into one vector column\n",
    "\n",
    "We use HashingTF for our pipeline because Naive Bayes can only accept positive float values when Word2Vec can output vectors with negative elements."
   ]
  },
  {
   "cell_type": "code",
   "execution_count": 36,
   "metadata": {},
   "outputs": [],
   "source": [
    "# Creates pipeline stages to vectorize the <name> column\n",
    "tokenizer = Tokenizer(inputCol=\"name\", outputCol=\"words\")\n",
    "HashingTF = HashingTF(numFeatures=20, inputCol=tokenizer.getOutputCol(), outputCol=\"features_2\")"
   ]
  },
  {
   "cell_type": "code",
   "execution_count": 37,
   "metadata": {},
   "outputs": [],
   "source": [
    "# Assembles the data processing pipeline\n",
    "data_processing_pipeline = Pipeline(\n",
    "    stages = string_indexing_feature_columns +\n",
    "    string_indexing_label_column + \n",
    "    onehot_encoding_feature_columns + \n",
    "    [vectorassembler_stage] + \n",
    "    [tokenizer] + \n",
    "    [HashingTF] +\n",
    "    [merge_features] +\n",
    "    [scaler]\n",
    ")"
   ]
  },
  {
   "cell_type": "code",
   "execution_count": 38,
   "metadata": {},
   "outputs": [],
   "source": [
    "# Fits the data processing pipeline\n",
    "pipeline_naive_bayes = data_processing_pipeline.fit(processed_campaigns.na.drop())\n",
    "second_processed_dataset = pipeline_naive_bayes.transform(processed_campaigns)"
   ]
  },
  {
   "cell_type": "code",
   "execution_count": 39,
   "metadata": {
    "scrolled": false
   },
   "outputs": [],
   "source": [
    "# Caches 20% of the dataset for the session for better time performance\n",
    "second_processed_dataset = second_processed_dataset.select(final_columns).sample(0.2).cache()"
   ]
  },
  {
   "cell_type": "code",
   "execution_count": 40,
   "metadata": {
    "scrolled": true
   },
   "outputs": [
    {
     "name": "stdout",
     "output_type": "stream",
     "text": [
      "The dataset contains 74359 rows.\n",
      "+--------------------+-----+\n",
      "|     scaled_features|label|\n",
      "+--------------------+-----+\n",
      "|(203,[20,159,181,...|  1.0|\n",
      "|(203,[8,159,181,1...|  0.0|\n",
      "|(203,[49,159,181,...|  0.0|\n",
      "|(203,[13,159,181,...|  0.0|\n",
      "|(203,[25,159,181,...|  0.0|\n",
      "+--------------------+-----+\n",
      "only showing top 5 rows\n",
      "\n"
     ]
    }
   ],
   "source": [
    "dataset_check(second_processed_dataset)"
   ]
  },
  {
   "cell_type": "markdown",
   "metadata": {},
   "source": [
    "### 6.3. Creating the dataset for Deep Learning (discontinued)\n",
    "\n",
    "Our third batch of models will be:\n",
    "- Deep Learning\n",
    "\n",
    "Our data pipeline will be identical to that of the first three models. As such we will be reusing ``first_processed_dataset``.\n",
    "\n",
    "\n",
    "**Attempt 1:** [Elephas](http://maxpumperla.com/elephas/) library (not pursued as the library is not supported anymore)\n",
    "\n",
    "**Attempt 2:** [BigDL](https://bigdl-project.github.io/master/) library (not pursued as Google Cloud uses Python 2.7, which is not supported"
   ]
  },
  {
   "cell_type": "markdown",
   "metadata": {},
   "source": [
    "## 7. Running a Logistic Regression Pipeline\n",
    "\n",
    "### 7.1. Declaring model hyper-parameters"
   ]
  },
  {
   "cell_type": "code",
   "execution_count": 41,
   "metadata": {},
   "outputs": [],
   "source": [
    "# Declares hyperparameters\n",
    "training_size = 0.7\n",
    "test_size = 0.3\n",
    "reg_parameters = [0., 0.5, 1., 2.] # must be float values\n",
    "elastic_net_parameters = [0., 0.5, 1.] # must be float values"
   ]
  },
  {
   "cell_type": "code",
   "execution_count": 42,
   "metadata": {},
   "outputs": [],
   "source": [
    "# Declares useful functions\n",
    "def process_confusion_matrix(matrix):\n",
    "    \"\"\"\n",
    "    Produces the confusion matrix of a model based on its\n",
    "    binary classification output.\n",
    "    \"\"\"\n",
    "    items = []\n",
    "    for item in matrix: \n",
    "        items.append(item)\n",
    "        print(item, matrix[item])\n",
    "    if Row(label=0.0, prediction=0.0) in items: \n",
    "        true_negatives = float(matrix[Row(label=0.0, prediction=0.0)])\n",
    "    else: \n",
    "        true_negatives = 0.\n",
    "    if Row(label=1.0, prediction=0.0) in items: \n",
    "        false_negatives = float(matrix[Row(label=1.0, prediction=0.0)])\n",
    "    else: \n",
    "        false_negatives = 0.\n",
    "    if Row(label=0.0, prediction=1.0) in items: \n",
    "        false_positives = float(matrix[Row(label=0.0, prediction=1.0)])\n",
    "    else: \n",
    "        false_positives = 0.\n",
    "    if Row(label=1.0, prediction=1.0) in items: \n",
    "        true_positives = float(matrix[Row(label=1.0, prediction=1.0)])\n",
    "    else: \n",
    "        true_positives = 0.\n",
    "    precision = true_positives/(true_positives+false_positives)\n",
    "    recall = true_positives/(true_positives+false_negatives)\n",
    "    print(\"\\nPrecision score:\", precision)\n",
    "    print(\"Recall score:\", recall)\n",
    "    if precision+recall != 0.: \n",
    "        print(\"F1 score:\", 2*(precision*recall)/(precision+recall))\n",
    "        return precision, recall, 2*(precision*recall)/(precision+recall)\n",
    "    return precision, recall"
   ]
  },
  {
   "cell_type": "markdown",
   "metadata": {},
   "source": [
    "### 7.2. Creating a model pipeline using Cross-Validation\n",
    "\n",
    "#### 7.2.1. Building and fitting the model"
   ]
  },
  {
   "cell_type": "code",
   "execution_count": 43,
   "metadata": {
    "scrolled": false
   },
   "outputs": [],
   "source": [
    "lr = LogisticRegression(featuresCol=\"scaled_features\", labelCol=\"label\")"
   ]
  },
  {
   "cell_type": "code",
   "execution_count": 44,
   "metadata": {},
   "outputs": [],
   "source": [
    "# Builds a parameter grid\n",
    "lr_param_grid = ParamGridBuilder().\\\n",
    "    addGrid(lr.regParam, reg_parameters).\\\n",
    "    addGrid(lr.elasticNetParam, elastic_net_parameters).\\\n",
    "    build()"
   ]
  },
  {
   "cell_type": "code",
   "execution_count": 45,
   "metadata": {},
   "outputs": [],
   "source": [
    "# Builds the evaluator\n",
    "lr_evaluator = BinaryClassificationEvaluator(rawPredictionCol=\"rawPrediction\")"
   ]
  },
  {
   "cell_type": "code",
   "execution_count": 46,
   "metadata": {},
   "outputs": [],
   "source": [
    "# Builds the cross-validation model\n",
    "lr_cv = CrossValidator(estimator=lr, \n",
    "                       estimatorParamMaps=lr_param_grid, \n",
    "                       evaluator=lr_evaluator, \n",
    "                       numFolds=4)"
   ]
  },
  {
   "cell_type": "code",
   "execution_count": 47,
   "metadata": {},
   "outputs": [],
   "source": [
    "# Fits the cross-validation model\n",
    "lr_cv_model = lr_cv.fit(first_processed_dataset.na.drop())"
   ]
  },
  {
   "cell_type": "code",
   "execution_count": 48,
   "metadata": {
    "scrolled": false
   },
   "outputs": [
    {
     "name": "stdout",
     "output_type": "stream",
     "text": [
      "The model was fit using parameters: \n",
      "\n",
      "{Param(parent='CrossValidatorModel_703e9dada600', name='seed', doc='random seed.'): -8169736647285741487, Param(parent='CrossValidatorModel_703e9dada600', name='numFolds', doc='number of folds for cross validation'): 4, Param(parent='CrossValidatorModel_703e9dada600', name='estimator', doc='estimator to be cross-validated'): LogisticRegression_2c8faed857dc, Param(parent='CrossValidatorModel_703e9dada600', name='estimatorParamMaps', doc='estimator param maps'): [{Param(parent='LogisticRegression_2c8faed857dc', name='regParam', doc='regularization parameter (>= 0).'): 0.0, Param(parent='LogisticRegression_2c8faed857dc', name='elasticNetParam', doc='the ElasticNet mixing parameter, in range [0, 1]. For alpha = 0, the penalty is an L2 penalty. For alpha = 1, it is an L1 penalty.'): 0.0}, {Param(parent='LogisticRegression_2c8faed857dc', name='regParam', doc='regularization parameter (>= 0).'): 0.0, Param(parent='LogisticRegression_2c8faed857dc', name='elasticNetParam', doc='the ElasticNet mixing parameter, in range [0, 1]. For alpha = 0, the penalty is an L2 penalty. For alpha = 1, it is an L1 penalty.'): 0.5}, {Param(parent='LogisticRegression_2c8faed857dc', name='regParam', doc='regularization parameter (>= 0).'): 0.0, Param(parent='LogisticRegression_2c8faed857dc', name='elasticNetParam', doc='the ElasticNet mixing parameter, in range [0, 1]. For alpha = 0, the penalty is an L2 penalty. For alpha = 1, it is an L1 penalty.'): 1.0}, {Param(parent='LogisticRegression_2c8faed857dc', name='regParam', doc='regularization parameter (>= 0).'): 0.5, Param(parent='LogisticRegression_2c8faed857dc', name='elasticNetParam', doc='the ElasticNet mixing parameter, in range [0, 1]. For alpha = 0, the penalty is an L2 penalty. For alpha = 1, it is an L1 penalty.'): 0.0}, {Param(parent='LogisticRegression_2c8faed857dc', name='regParam', doc='regularization parameter (>= 0).'): 0.5, Param(parent='LogisticRegression_2c8faed857dc', name='elasticNetParam', doc='the ElasticNet mixing parameter, in range [0, 1]. For alpha = 0, the penalty is an L2 penalty. For alpha = 1, it is an L1 penalty.'): 0.5}, {Param(parent='LogisticRegression_2c8faed857dc', name='regParam', doc='regularization parameter (>= 0).'): 0.5, Param(parent='LogisticRegression_2c8faed857dc', name='elasticNetParam', doc='the ElasticNet mixing parameter, in range [0, 1]. For alpha = 0, the penalty is an L2 penalty. For alpha = 1, it is an L1 penalty.'): 1.0}, {Param(parent='LogisticRegression_2c8faed857dc', name='regParam', doc='regularization parameter (>= 0).'): 1.0, Param(parent='LogisticRegression_2c8faed857dc', name='elasticNetParam', doc='the ElasticNet mixing parameter, in range [0, 1]. For alpha = 0, the penalty is an L2 penalty. For alpha = 1, it is an L1 penalty.'): 0.0}, {Param(parent='LogisticRegression_2c8faed857dc', name='regParam', doc='regularization parameter (>= 0).'): 1.0, Param(parent='LogisticRegression_2c8faed857dc', name='elasticNetParam', doc='the ElasticNet mixing parameter, in range [0, 1]. For alpha = 0, the penalty is an L2 penalty. For alpha = 1, it is an L1 penalty.'): 0.5}, {Param(parent='LogisticRegression_2c8faed857dc', name='regParam', doc='regularization parameter (>= 0).'): 1.0, Param(parent='LogisticRegression_2c8faed857dc', name='elasticNetParam', doc='the ElasticNet mixing parameter, in range [0, 1]. For alpha = 0, the penalty is an L2 penalty. For alpha = 1, it is an L1 penalty.'): 1.0}, {Param(parent='LogisticRegression_2c8faed857dc', name='regParam', doc='regularization parameter (>= 0).'): 2.0, Param(parent='LogisticRegression_2c8faed857dc', name='elasticNetParam', doc='the ElasticNet mixing parameter, in range [0, 1]. For alpha = 0, the penalty is an L2 penalty. For alpha = 1, it is an L1 penalty.'): 0.0}, {Param(parent='LogisticRegression_2c8faed857dc', name='regParam', doc='regularization parameter (>= 0).'): 2.0, Param(parent='LogisticRegression_2c8faed857dc', name='elasticNetParam', doc='the ElasticNet mixing parameter, in range [0, 1]. For alpha = 0, the penalty is an L2 penalty. For alpha = 1, it is an L1 penalty.'): 0.5}, {Param(parent='LogisticRegression_2c8faed857dc', name='regParam', doc='regularization parameter (>= 0).'): 2.0, Param(parent='LogisticRegression_2c8faed857dc', name='elasticNetParam', doc='the ElasticNet mixing parameter, in range [0, 1]. For alpha = 0, the penalty is an L2 penalty. For alpha = 1, it is an L1 penalty.'): 1.0}], Param(parent='CrossValidatorModel_703e9dada600', name='evaluator', doc='evaluator used to select hyper-parameters that maximize the validator metric'): BinaryClassificationEvaluator_f39a6703cbf6}\n"
     ]
    }
   ],
   "source": [
    "print(\"The model was fit using parameters: \\n\")\n",
    "print(lr_cv_model.extractParamMap())"
   ]
  },
  {
   "cell_type": "markdown",
   "metadata": {},
   "source": [
    "#### 7.2.2. Evaluating the model"
   ]
  },
  {
   "cell_type": "code",
   "execution_count": 49,
   "metadata": {},
   "outputs": [
    {
     "name": "stdout",
     "output_type": "stream",
     "text": [
      "Row(label=0.0, prediction=0.0) 40613\n",
      "Row(label=1.0, prediction=0.0) 16077\n",
      "Row(label=0.0, prediction=1.0) 6551\n",
      "Row(label=1.0, prediction=1.0) 10613\n",
      "\n",
      "Precision score: 0.6183290608249825\n",
      "Recall score: 0.39763956538029227\n",
      "F1 score: 0.4840151411501802\n"
     ]
    }
   ],
   "source": [
    "# Provides a confusion matrix\n",
    "lr_label_and_pred = lr_cv_model.transform(first_processed_dataset).select(\"label\", \"prediction\")\n",
    "lr_confusion_matrix = lr_label_and_pred.rdd.zipWithIndex().countByKey()\n",
    "lr_results = process_confusion_matrix(lr_confusion_matrix)"
   ]
  },
  {
   "cell_type": "code",
   "execution_count": 50,
   "metadata": {},
   "outputs": [
    {
     "name": "stdout",
     "output_type": "stream",
     "text": [
      "Intercept: -0.42817864229119096\n",
      "coefficients: [0.07719453312998924,0.07248495145443348,0.21530939471133256,0.0949432108675933,0.12416856892992402,-0.04257675013083379,-0.00032745591193865793,0.030812264283895913,-0.07560776270956256,-0.057094763853380075,-0.031158476684941587,0.04502417585113296,-0.0954009287996341,0.1652421178045508,-0.026400891172675474,0.07074531817591644,0.006671935238633035,-0.2073547276441506,-0.0033356940609639194,-0.02452187576683622,0.12595499127795604,-0.012050697930446318,0.045293483233290195,-0.14155988512968085,0.05561223620690684,-0.043433581771845475,0.10186726107595936,0.014975475489519247,-0.12329254851521036,0.05798047919034182,0.03611972393894337,0.004834502174458384,-0.004465660327070553,0.060474779339648274,-0.02299933480198233,0.07514230781454251,-0.03871223724595302,0.02085798201842059,-0.03426962792255209,0.004339734646163748,0.07041540774221158,0.06014241274067728,0.10517221648404596,-0.008054168884282623,0.01297459466189809,-0.0009755659824273129,0.10289441866537428,0.0218746387682611,-0.013569449950189199,0.031271098017159785,0.03248312510461006,0.032078943242489596,0.005539867199235858,0.054629792770046995,0.06410639921983323,0.01716943204104606,0.004011709737068195,-0.08885681438775421,-0.012832668921618695,-0.058835298347230745,0.015383453148947386,0.06918331787004073,5.948280312613324e-05,-0.02699591638348268,-0.0031716923578395495,0.021193053577816107,-0.048280941295810696,0.02120551392280316,-0.03215607200688242,-0.0625722155245839,-0.015581322159536318,-0.037582791848615994,0.007924487189781854,-0.02623343118179898,0.002602113040845247,-0.02362162631158257,0.07767573801967818,0.003801489134347829,0.03220267548334253,0.00969199278780967,-0.02133257568366585,0.04485925818672793,0.04903288738948461,-0.039892367679072206,0.052447420876524264,0.02804468896879521,-0.023754032837428933,-0.038180444908200446,0.06354615327446034,0.002303928810390322,-0.009194822949416334,0.006983226879795161,-0.03862547094195435,-0.00934706198554764,-0.04611363874899196,-0.01897136068877375,0.006926160336691983,0.00811376222958574,0.026174423874127956,0.026622569318521763,0.03192972150936984,0.001905862319314619,-0.03252489953211227,0.026910445783744703,-0.0011068635597965995,-0.022299303959132932,0.024189498260894626,-0.018796137228922056,-0.04362920695286309,0.014067963283608905,-0.0309933604108282,-0.018584638282753353,-0.01750895531297349,0.03005032185682188,-0.004480258422757421,-0.022003188175055956,0.012851113602679777,-0.006476731231457664,-0.01612526337740726,0.025536507991767654,0.004849926097304278,0.017171936059084396,0.006666995533395068,0.016482110492791694,-0.00892789634750954,0.028981787437721986,0.0263368962944759,0.014227312788748676,-0.006140746444362324,-0.018728551520282723,0.011775682141259765,-0.015720213643754536,-0.0027177469030288397,0.007538133762625758,-0.022012432665878053,0.007734427284068715,0.004381270388930129,-0.031117733229404018,-0.006533947382999727,-0.014370835400490318,-0.01093140562076692,0.0028142057170176308,0.0058776914470730504,-0.03422723447011627,-0.02249241008647601,-0.01235215096521197,-0.010563596455039114,-0.01618218844944234,0.0009313445652158369,-0.023542645907079923,0.02010422086002781,0.01702439085744742,-0.007310890491923374,-0.005678584681486505,0.02267285618830275,1.2160883930684658,0.012326247164026706,0.016226015522895286,0.006860502083438038,0.2103996995125498,0.11769081777259449,0.043262305489457246,0.024098933175664604,0.017494893129615156,0.042802560968150216,-0.005261707507241494,-0.03938363858659127,-0.0036281768845721307,0.016418534173713983,-0.005073150117849324,0.005660440755189657,0.033999457402723546,0.01725484656265879,0.015986905343117974,-0.007004528587389637,0.00902483997165987,0.02020730191663235,-0.0018940499777712573,0.01738977113640981,0.006620576013043066,-0.0028962307652514053,-1.297648782476933,-18.113858974745153,0.10565232352688037,-0.05476031364776466,0.019868214626827453,0.076268400955192,0.022563210889727223,0.08666536800362788,0.08095479264996851,-0.05773979033736233,-0.0010612850203743265,-0.08073267879543337,0.006137183451245828,0.025975828611581906,-0.11902586006876538,0.012018600339346692,0.04413187943064749,0.08614416688650314,-0.12873382882154724,-0.07851701228394364,-0.02579966051419225,-0.019427776887334155]\n"
     ]
    }
   ],
   "source": [
    "# Intercept and Coefficients of the regresison model\n",
    "print(\"Intercept: \" + str(lr_cv_model.bestModel.intercept) + \"\\n\"\n",
    "      \"coefficients: \" + str(lr_cv_model.bestModel.coefficients))"
   ]
  },
  {
   "cell_type": "code",
   "execution_count": 51,
   "metadata": {},
   "outputs": [
    {
     "name": "stdout",
     "output_type": "stream",
     "text": [
      "The best RegParam is:  0.0 The best ElasticNetParam is: 0.0\n"
     ]
    }
   ],
   "source": [
    "# Parameters of the best model\n",
    "print(\"The best RegParam is: \", lr_cv_model.bestModel._java_obj.getRegParam(),\n",
    "     \"The best ElasticNetParam is:\", lr_cv_model.bestModel._java_obj.getElasticNetParam())"
   ]
  },
  {
   "cell_type": "markdown",
   "metadata": {},
   "source": [
    "## 8. Running a DecisionTreeClassifier Pipeline\n",
    "\n",
    "### 8.1. Declaring model hyper-parameters"
   ]
  },
  {
   "cell_type": "code",
   "execution_count": 52,
   "metadata": {},
   "outputs": [],
   "source": [
    "# Declares hyperparameters\n",
    "max_depth_grid = list(range(2,10))"
   ]
  },
  {
   "cell_type": "markdown",
   "metadata": {},
   "source": [
    "### 8.2. Creating a model pipeline using Cross-Validation\n",
    "\n",
    "#### 8.2.1. Building and fitting the model"
   ]
  },
  {
   "cell_type": "code",
   "execution_count": 53,
   "metadata": {},
   "outputs": [],
   "source": [
    "# Builds the estimator\n",
    "dt = DecisionTreeClassifier(featuresCol=\"scaled_features\", labelCol=\"label\")"
   ]
  },
  {
   "cell_type": "code",
   "execution_count": 54,
   "metadata": {},
   "outputs": [],
   "source": [
    "# Builds a parameter grid\n",
    "dt_param_grid = ParamGridBuilder().\\\n",
    "    addGrid(dt.maxDepth, max_depth_grid).\\\n",
    "    build()"
   ]
  },
  {
   "cell_type": "code",
   "execution_count": 55,
   "metadata": {},
   "outputs": [],
   "source": [
    "# Builds the evaluator\n",
    "dt_evaluator = BinaryClassificationEvaluator(rawPredictionCol=\"rawPrediction\", \n",
    "                                             metricName=\"areaUnderROC\")"
   ]
  },
  {
   "cell_type": "code",
   "execution_count": 56,
   "metadata": {},
   "outputs": [],
   "source": [
    "# Builds the cross-validation model\n",
    "dt_cv = CrossValidator(estimator=dt, \n",
    "                       estimatorParamMaps=dt_param_grid, \n",
    "                       evaluator=dt_evaluator, \n",
    "                       numFolds=4)"
   ]
  },
  {
   "cell_type": "code",
   "execution_count": 57,
   "metadata": {
    "scrolled": false
   },
   "outputs": [],
   "source": [
    "# Fits the cross-validation model\n",
    "dt_cv_model = dt_cv.fit(first_processed_dataset.na.drop())"
   ]
  },
  {
   "cell_type": "markdown",
   "metadata": {},
   "source": [
    "#### 8.2.2. Evaluating the model"
   ]
  },
  {
   "cell_type": "code",
   "execution_count": 58,
   "metadata": {},
   "outputs": [
    {
     "name": "stdout",
     "output_type": "stream",
     "text": [
      "Row(label=0.0, prediction=0.0) 43705\n",
      "Row(label=1.0, prediction=0.0) 22107\n",
      "Row(label=0.0, prediction=1.0) 3459\n",
      "Row(label=1.0, prediction=1.0) 4583\n",
      "\n",
      "Precision score: 0.5698831136533201\n",
      "Recall score: 0.17171225177969276\n",
      "F1 score: 0.26390648393412414\n"
     ]
    }
   ],
   "source": [
    "# Provides a confusion matrix\n",
    "dt_cv_label_and_pred = dt_cv_model.transform(first_processed_dataset).select(\"label\", \"prediction\")\n",
    "dt_cv_confusion_matrix = dt_cv_label_and_pred.rdd.zipWithIndex().countByKey()\n",
    "dt_cv_results = process_confusion_matrix(dt_cv_confusion_matrix)"
   ]
  },
  {
   "cell_type": "code",
   "execution_count": 59,
   "metadata": {
    "scrolled": true
   },
   "outputs": [
    {
     "name": "stdout",
     "output_type": "stream",
     "text": [
      "The best MaxDepth is: 3\n"
     ]
    }
   ],
   "source": [
    "print(\"The best MaxDepth is:\", dt_cv_model.bestModel._java_obj.getMaxDepth())"
   ]
  },
  {
   "cell_type": "code",
   "execution_count": 60,
   "metadata": {},
   "outputs": [
    {
     "name": "stdout",
     "output_type": "stream",
     "text": [
      "DecisionTreeClassificationModel: uid=DecisionTreeClassifier_e40b5de99210, depth=3, numNodes=7, numClasses=2, numFeatures=203\n"
     ]
    }
   ],
   "source": [
    "print(dt_cv_model.bestModel)"
   ]
  },
  {
   "cell_type": "markdown",
   "metadata": {},
   "source": [
    "### 8.3. Creating a model pipeline using Train-Test split\n",
    "\n",
    "#### 8.3.1. Building and fitting the model"
   ]
  },
  {
   "cell_type": "code",
   "execution_count": 61,
   "metadata": {},
   "outputs": [],
   "source": [
    "# Splits the dataset between training and validation sets\n",
    "training, test = first_processed_dataset.randomSplit([training_size, test_size], seed=0)"
   ]
  },
  {
   "cell_type": "code",
   "execution_count": 62,
   "metadata": {},
   "outputs": [],
   "source": [
    "# Builds the estimator\n",
    "dt = DecisionTreeClassifier(featuresCol=\"scaled_features\", labelCol=\"label\")"
   ]
  },
  {
   "cell_type": "code",
   "execution_count": 63,
   "metadata": {},
   "outputs": [],
   "source": [
    "# Builds the evaluator\n",
    "dt_tt_evaluator = BinaryClassificationEvaluator(rawPredictionCol=\"rawPrediction\", metricName=\"areaUnderROC\")"
   ]
  },
  {
   "cell_type": "code",
   "execution_count": 64,
   "metadata": {
    "scrolled": false
   },
   "outputs": [],
   "source": [
    "# Fits the cross-validation model\n",
    "dt_tt_model = dt.fit(training.na.drop())"
   ]
  },
  {
   "cell_type": "markdown",
   "metadata": {},
   "source": [
    "#### 8.3.2. Evaluating the model"
   ]
  },
  {
   "cell_type": "code",
   "execution_count": 65,
   "metadata": {
    "scrolled": false
   },
   "outputs": [
    {
     "name": "stdout",
     "output_type": "stream",
     "text": [
      "Row(label=0.0, prediction=0.0) 12578\n",
      "Row(label=1.0, prediction=0.0) 5640\n",
      "Row(label=1.0, prediction=1.0) 2219\n",
      "Row(label=0.0, prediction=1.0) 1724\n",
      "\n",
      "Precision score: 0.5627694648744611\n",
      "Recall score: 0.2823514442040972\n",
      "F1 score: 0.3760379596678529\n"
     ]
    }
   ],
   "source": [
    "# Predicts on training data\n",
    "pred_test = dt_tt_model.transform(test)\n",
    "\n",
    "# Provides a confusion matrix\n",
    "dt_tt_label_and_pred = pred_test.select(\"label\", \"prediction\")\n",
    "dt_tt_confusion_matrix = dt_tt_label_and_pred.rdd.zipWithIndex().countByKey()\n",
    "dt_tt_results = process_confusion_matrix(dt_tt_confusion_matrix)"
   ]
  },
  {
   "cell_type": "code",
   "execution_count": 66,
   "metadata": {},
   "outputs": [
    {
     "name": "stdout",
     "output_type": "stream",
     "text": [
      "The test error is 0.5075160976367333\n"
     ]
    }
   ],
   "source": [
    "accuracy = dt_tt_evaluator.evaluate(pred_test)\n",
    "print(\"The test error is\", 1.0 - accuracy)"
   ]
  },
  {
   "cell_type": "code",
   "execution_count": 67,
   "metadata": {},
   "outputs": [
    {
     "name": "stdout",
     "output_type": "stream",
     "text": [
      "DecisionTreeClassificationModel: uid=DecisionTreeClassifier_aada5d5c83ca, depth=5, numNodes=45, numClasses=2, numFeatures=203\n"
     ]
    }
   ],
   "source": [
    "print(dt_tt_model)"
   ]
  },
  {
   "cell_type": "markdown",
   "metadata": {},
   "source": [
    "## 9. Running a Random Forest Pipeline\n",
    "\n",
    "### 9.1. Declaring model hyper-parameters"
   ]
  },
  {
   "cell_type": "code",
   "execution_count": 68,
   "metadata": {},
   "outputs": [],
   "source": [
    "# Declares hyperparameters\n",
    "max_depth_grid = list(range(2,10))\n",
    "minimum_info_grain = [0.0, 0.1, 0.2, 0.3, 0.4, 0.5] # must be float values"
   ]
  },
  {
   "cell_type": "markdown",
   "metadata": {},
   "source": [
    "### 9.2. Creating a model pipeline using cross-validation\n",
    "\n",
    "#### 9.2.1. Building and fitting the model"
   ]
  },
  {
   "cell_type": "code",
   "execution_count": 69,
   "metadata": {},
   "outputs": [],
   "source": [
    "# Builds the estimator\n",
    "rf = RandomForestClassifier(featuresCol=\"scaled_features\", labelCol=\"label\")"
   ]
  },
  {
   "cell_type": "code",
   "execution_count": 70,
   "metadata": {},
   "outputs": [],
   "source": [
    "# Builds a parameter grid\n",
    "rf_param_grid = ParamGridBuilder().\\\n",
    "    addGrid(rf.maxDepth, max_depth_grid).\\\n",
    "    addGrid(rf.minInfoGain, minimum_info_grain).\\\n",
    "    build()"
   ]
  },
  {
   "cell_type": "code",
   "execution_count": 71,
   "metadata": {},
   "outputs": [],
   "source": [
    "# Builds the evaluator\n",
    "rf_evaluator = BinaryClassificationEvaluator()"
   ]
  },
  {
   "cell_type": "code",
   "execution_count": 72,
   "metadata": {},
   "outputs": [],
   "source": [
    "# Builds the cross-validation model\n",
    "rf_cv = CrossValidator(estimator=rf, \n",
    "                       estimatorParamMaps=rf_param_grid, \n",
    "                       evaluator=rf_evaluator)"
   ]
  },
  {
   "cell_type": "code",
   "execution_count": 73,
   "metadata": {
    "scrolled": false
   },
   "outputs": [],
   "source": [
    "# Fits the cross-validation model\n",
    "rf_cv_model = rf_cv.fit(first_processed_dataset.na.drop())"
   ]
  },
  {
   "cell_type": "markdown",
   "metadata": {},
   "source": [
    "#### 9.2.2. Evaluating the model"
   ]
  },
  {
   "cell_type": "code",
   "execution_count": 74,
   "metadata": {},
   "outputs": [
    {
     "name": "stdout",
     "output_type": "stream",
     "text": [
      "Row(label=0.0, prediction=0.0) 45722\n",
      "Row(label=1.0, prediction=0.0) 22583\n",
      "Row(label=1.0, prediction=1.0) 4107\n",
      "Row(label=0.0, prediction=1.0) 1442\n",
      "\n",
      "Precision score: 0.7401333573616868\n",
      "Recall score: 0.15387785687523417\n",
      "F1 score: 0.2547845776854121\n"
     ]
    }
   ],
   "source": [
    "# Provides a confusion matrix\n",
    "rf_label_and_pred = rf_cv_model.transform(first_processed_dataset).select(\"label\", \"prediction\")\n",
    "rf_confusion_matrix = rf_label_and_pred.rdd.zipWithIndex().countByKey()\n",
    "rf_results = process_confusion_matrix(rf_confusion_matrix)"
   ]
  },
  {
   "cell_type": "code",
   "execution_count": 75,
   "metadata": {},
   "outputs": [
    {
     "name": "stdout",
     "output_type": "stream",
     "text": [
      "RandomForestClassificationModel: uid=RandomForestClassifier_400512dd0ec5, numTrees=20, numClasses=2, numFeatures=203\n"
     ]
    }
   ],
   "source": [
    "print(rf_cv_model.bestModel)"
   ]
  },
  {
   "cell_type": "markdown",
   "metadata": {},
   "source": [
    "## 10. Running a Naive Bayes Pipeline\n",
    "\n",
    "### 10.1.  Declaring model hyper-parameters"
   ]
  },
  {
   "cell_type": "code",
   "execution_count": 76,
   "metadata": {},
   "outputs": [],
   "source": [
    "# Declares hyperparameters\n",
    "smoothing = map(float, list(range(0,10))) # must be float values"
   ]
  },
  {
   "cell_type": "markdown",
   "metadata": {},
   "source": [
    "### 10.2. Creating a model pipeline using cross-validation\n",
    "\n",
    "#### 10.2.1. Building and fitting the model"
   ]
  },
  {
   "cell_type": "code",
   "execution_count": 77,
   "metadata": {},
   "outputs": [],
   "source": [
    "# Builds the estimator\n",
    "nb = NaiveBayes(featuresCol=\"scaled_features\", labelCol=\"label\")"
   ]
  },
  {
   "cell_type": "code",
   "execution_count": 78,
   "metadata": {},
   "outputs": [],
   "source": [
    "# Builds a parameter grid\n",
    "nb_param_grid = ParamGridBuilder().\\\n",
    "    addGrid(nb.smoothing, smoothing).\\\n",
    "    build()"
   ]
  },
  {
   "cell_type": "code",
   "execution_count": 79,
   "metadata": {},
   "outputs": [],
   "source": [
    "# Builds the evaluator\n",
    "nb_evaluator = BinaryClassificationEvaluator(rawPredictionCol=\"rawPrediction\", metricName=\"areaUnderROC\")"
   ]
  },
  {
   "cell_type": "code",
   "execution_count": 80,
   "metadata": {},
   "outputs": [],
   "source": [
    "# Builds the cross-validation model\n",
    "nb_cv = CrossValidator(estimator = nb, \n",
    "                       estimatorParamMaps = nb_param_grid, \n",
    "                       evaluator = nb_evaluator)"
   ]
  },
  {
   "cell_type": "code",
   "execution_count": 81,
   "metadata": {
    "scrolled": false
   },
   "outputs": [],
   "source": [
    "# Fits the cross-validation model\n",
    "nb_cv_model = nb_cv.fit(second_processed_dataset.na.drop())"
   ]
  },
  {
   "cell_type": "markdown",
   "metadata": {},
   "source": [
    "#### 10.2.2. Evaluating the model"
   ]
  },
  {
   "cell_type": "code",
   "execution_count": 82,
   "metadata": {},
   "outputs": [
    {
     "name": "stdout",
     "output_type": "stream",
     "text": [
      "Row(label=1.0, prediction=1.0) 17054\n",
      "Row(label=0.0, prediction=0.0) 30018\n",
      "Row(label=0.0, prediction=1.0) 17641\n",
      "Row(label=1.0, prediction=0.0) 9646\n",
      "\n",
      "Precision score: 0.49154056780515926\n",
      "Recall score: 0.6387265917602997\n",
      "F1 score: 0.5555501262317778\n"
     ]
    }
   ],
   "source": [
    "# Provides a confusion matrix\n",
    "nb_label_and_pred = nb_cv_model.transform(second_processed_dataset).select(\"label\", \"prediction\")\n",
    "nb_confusion_matrix = nb_label_and_pred.rdd.zipWithIndex().countByKey()\n",
    "nb_results = process_confusion_matrix(nb_confusion_matrix)"
   ]
  },
  {
   "cell_type": "code",
   "execution_count": 83,
   "metadata": {
    "scrolled": true
   },
   "outputs": [
    {
     "name": "stdout",
     "output_type": "stream",
     "text": [
      "The parameter smoothing has best value: 0.0\n"
     ]
    }
   ],
   "source": [
    "print(\"The parameter smoothing has best value:\", nb_cv_model.bestModel._java_obj.getSmoothing())"
   ]
  },
  {
   "cell_type": "code",
   "execution_count": 84,
   "metadata": {
    "scrolled": true
   },
   "outputs": [
    {
     "name": "stdout",
     "output_type": "stream",
     "text": [
      "NaiveBayesModel: uid=NaiveBayes_77b62c70a34d, modelType=multinomial, numClasses=2, numFeatures=203\n"
     ]
    }
   ],
   "source": [
    "print(nb_cv_model.bestModel)"
   ]
  },
  {
   "cell_type": "markdown",
   "metadata": {},
   "source": [
    "## 11. Summarizing Results"
   ]
  },
  {
   "cell_type": "code",
   "execution_count": 85,
   "metadata": {},
   "outputs": [
    {
     "name": "stdout",
     "output_type": "stream",
     "text": [
      "(0.6183290608249825, 0.39763956538029227, 0.4840151411501802)\n",
      "(0.5698831136533201, 0.17171225177969276, 0.26390648393412414)\n",
      "(0.5627694648744611, 0.2823514442040972, 0.3760379596678529)\n",
      "(0.7401333573616868, 0.15387785687523417, 0.2547845776854121)\n",
      "(0.49154056780515926, 0.6387265917602997, 0.5555501262317778)\n"
     ]
    }
   ],
   "source": [
    "print(lr_results, dt_cv_results, dt_tt_results, rf_results, nb_results, sep=\"\\n\")"
   ]
  },
  {
   "cell_type": "code",
   "execution_count": 86,
   "metadata": {
    "scrolled": false
   },
   "outputs": [
    {
     "data": {
      "image/png": "[encoded data removed]",
      "text/plain": [
       "<Figure size 1440x720 with 1 Axes>"
      ]
     },
     "metadata": {
      "needs_background": "light"
     },
     "output_type": "display_data"
    }
   ],
   "source": [
    "import numpy as np\n",
    "import matplotlib.pyplot as plt\n",
    "\n",
    "# data to plot\n",
    "n_groups = 3\n",
    "\n",
    "# create plot\n",
    "fig, ax = plt.subplots(figsize=(20,10))\n",
    "index = np.arange(n_groups)\n",
    "bar_width = 0.15\n",
    "opacity = 0.8\n",
    "\n",
    "logreg = plt.bar(index - bar_width, lr_results, bar_width,\n",
    "alpha=opacity,\n",
    "color='r',\n",
    "label='Logistic Regression w/ CV')\n",
    "\n",
    "crosvaldt = plt.bar(index, dt_cv_results, bar_width,\n",
    "alpha=opacity,\n",
    "color='g',\n",
    "label='Decision Tree w/ CV')\n",
    "\n",
    "traintestdt = plt.bar(index + bar_width, dt_tt_results, bar_width,\n",
    "alpha=opacity,\n",
    "color='b',\n",
    "label='Decision Tree w/ train-test sets')\n",
    "\n",
    "randomfor = plt.bar(index + bar_width*2, rf_results, bar_width,\n",
    "alpha=opacity,\n",
    "color='pink',\n",
    "label='Random Forest w/ CV')\n",
    "\n",
    "naivebay = plt.bar(index + bar_width*3, nb_results, bar_width,\n",
    "alpha=opacity,\n",
    "color='purple',\n",
    "label='Naive Bayes w/ CV')\n",
    "\n",
    "plt.xlabel('Scores', fontsize=30)\n",
    "plt.ylabel('Value', fontsize=30)\n",
    "plt.title('Scores by Models', fontsize=35)\n",
    "plt.xticks(index + bar_width, ('Precision', 'Recall', 'F1'), fontsize=25)\n",
    "plt.yticks(fontsize=25)\n",
    "plt.legend(fontsize=25)\n",
    "plt.tight_layout()\n",
    "plt.show()"
   ]
  },
  {
   "cell_type": "markdown",
   "metadata": {},
   "source": [
    "<u>Conclusion</u>\n",
    "\n",
    "In conclusion, **our most precise mode is the Random Forest with cross-validation**. However, the model is precise at the cost of recall -- it implies that the model has a low level of false positive but a **high level of false negative**. However, we are looking at whether a campaign on kickstarter is successful or not. i.e. having some amount of false positives is **less important than reducing our amount of false negative (i.e. we want to increase our Recall**.\n",
    "\n",
    "As such, the F1 measure is important in this situation. As such, our **Naive Bayes with cross-validation** model has a **high recall** compared to other models, which is reflected in the model having the highest F1 score."
   ]
  },
  {
   "cell_type": "markdown",
   "metadata": {},
   "source": [
    "<hr>"
   ]
  },
  {
   "cell_type": "markdown",
   "metadata": {},
   "source": [
    "## Annex.1. Running a Deep Learning Model with BigDL\n",
    "\n",
    "<span style=\"color:red\">/!\\ Does not run on Google Cloud as the support for Python 2.7 is discontinued.</span>"
   ]
  },
  {
   "cell_type": "code",
   "execution_count": 89,
   "metadata": {},
   "outputs": [
    {
     "name": "stdout",
     "output_type": "stream",
     "text": [
      "Python 3.8.5\r\n"
     ]
    }
   ],
   "source": [
    "!python --version"
   ]
  },
  {
   "cell_type": "raw",
   "metadata": {},
   "source": [
    "import itertools\n",
    "import re\n",
    "from sklearn.metrics import confusion_matrix\n",
    "from sklearn.metrics import accuracy_score\n",
    "import matplotlib.pyplot as plt\n",
    "%matplotlib inline\n",
    "import seaborn as sn\n",
    "import pandas as pd\n",
    "import random as rd\n",
    "import datetime as dt"
   ]
  },
  {
   "cell_type": "raw",
   "metadata": {},
   "source": [
    "from bigdl.nn.layer import *\n",
    "from bigdl.nn.criterion import *\n",
    "from bigdl.optim.optimizer import *\n",
    "from bigdl.util.common import *\n",
    "from bigdl.util.common import Sample"
   ]
  },
  {
   "cell_type": "raw",
   "metadata": {},
   "source": [
    "first_processed_dataset.limit(5).toPandas()"
   ]
  },
  {
   "cell_type": "raw",
   "metadata": {},
   "source": [
    "learning_rate = 0.2\n",
    "training_epochs = 15\n",
    "batch_size = 2048\n",
    "training_size = 0.8\n",
    "test_size = 1 - training_size"
   ]
  },
  {
   "cell_type": "raw",
   "metadata": {},
   "source": [
    "# Splits the dataset between training and validation sets\n",
    "training, test = first_processed_dataset.randomSplit([training_size, test_size], seed=0)"
   ]
  },
  {
   "cell_type": "raw",
   "metadata": {},
   "source": [
    "# Counts the number of classes\n",
    "nb_classes = first_processed_dataset.select(\"label\").distinct().count()"
   ]
  },
  {
   "cell_type": "raw",
   "metadata": {},
   "source": [
    "# Counts the input dimension size\n",
    "input_dimension = len(first_processed_dataset.select(\"scaled_features\").first()[0])"
   ]
  },
  {
   "cell_type": "raw",
   "metadata": {},
   "source": [
    "# Define the logistic_regression model\n",
    "def logistic_regression_DL(n_input=input_dimension, \n",
    "                           n_classes=nb_classes):\n",
    "    # Initialize a sequential container\n",
    "    model = Sequential()\n",
    " \n",
    "    model.add(Reshape([embedding_dim, 1]))\n",
    "    model.add(Linear(128, 64).set_name('fc1'))\n",
    "    model.add(Linear(64, 16).set_name('fc2'))\n",
    "    model.add(Linear(16, n_classes)).set_name('fc3')\n",
    "    model.add(LogSoftMax())\n",
    "    \n",
    "    return model\n",
    "\n",
    "model = logistic_regression_DL()"
   ]
  },
  {
   "cell_type": "raw",
   "metadata": {},
   "source": [
    "# Create an Optimizer\n",
    "\n",
    "optimizer = Optimizer(\n",
    "    model=model,\n",
    "    training_rdd=training,\n",
    "    criterion=ClassNLLCriterion(),\n",
    "    optim_method=SGD(learningrate=learning_rate),\n",
    "    end_trigger=MaxEpoch(training_epochs),\n",
    "    batch_size=batch_size)"
   ]
  },
  {
   "cell_type": "raw",
   "metadata": {},
   "source": [
    "%%time\n",
    "# Start to train\n",
    "trained_model = optimizer.optimize()\n",
    "print(\"Optimization Done.\")"
   ]
  },
  {
   "cell_type": "raw",
   "metadata": {},
   "source": [
    "def map_predict_label(l):\n",
    "    return l.argmax()\n",
    "def map_groundtruth_label(l):\n",
    "    return int(l[0] - 1)"
   ]
  },
  {
   "cell_type": "raw",
   "metadata": {},
   "source": [
    "# Prediction\n",
    "predictions = trained_model.predict(test)"
   ]
  },
  {
   "cell_type": "markdown",
   "metadata": {},
   "source": [
    "## Annex.2. Running a Deep Learning Model with Elephas\n",
    "\n",
    "<span style=\"color:red\">/!\\ Does not run on Google Cloud as the available tensorflow versions are below the required 2.2 one.</span>\n",
    "\n",
    "### Annex.2.1.  Transforming the dataset & declaring model hyper-parameters\n",
    "\n",
    "We will be reusing the first dataset we processed."
   ]
  },
  {
   "cell_type": "raw",
   "metadata": {},
   "source": [
    "first_processed_dataset.limit(5).toPandas()"
   ]
  },
  {
   "cell_type": "raw",
   "metadata": {},
   "source": [
    "# Splits the dataset between training and validation sets\n",
    "training, test = first_processed_dataset.randomSplit([training_size, test_size], seed=0)"
   ]
  },
  {
   "cell_type": "raw",
   "metadata": {},
   "source": [
    "# Counts the number of classes\n",
    "nb_classes = first_processed_dataset.select(\"label\").distinct().count()"
   ]
  },
  {
   "cell_type": "raw",
   "metadata": {},
   "source": [
    "# Counts the input dimension size\n",
    "input_dimension = len(first_processed_dataset.select(\"scaled_features\").first()[0])"
   ]
  },
  {
   "cell_type": "raw",
   "metadata": {},
   "source": [
    "# Declares hyperparameters\n",
    "dense_layer_neurons = 256\n",
    "dropout_rate = 0.3\n",
    "regularizer_rate = 0.01"
   ]
  },
  {
   "cell_type": "markdown",
   "metadata": {},
   "source": [
    "### Annex.2.2. Creating a model pipeline using Train-Test split\n",
    "\n",
    "#### Annex.2.2.1. Building the model"
   ]
  },
  {
   "cell_type": "raw",
   "metadata": {},
   "source": [
    "from tensorflow.keras import optimizers, regularizers\n",
    "from keras.layers.core import Dense, Dropout, Activation\n",
    "from keras.models import Sequential\n",
    "from keras.optimizers import Adam\n",
    "\n",
    "from elephas.ml_model import ElephasEstimator\n",
    "\n",
    "from pyspark.mllib.evaluation import MulticlassMetrics"
   ]
  },
  {
   "cell_type": "raw",
   "metadata": {},
   "source": [
    "# Builds a Deep Learning model\n",
    "model = Sequential()\n",
    "model.add(Dense(dense_layer_neurons, \n",
    "                input_shape=(input_dimension,), \n",
    "                activity_regularizer=regularizers.l2(regularizer_rate)))\n",
    "model.add(Activation(\"relu\"))\n",
    "model.add(Dropout(rate=dropout_rate))\n",
    "model.add(Dense(dense_layer_neurons, \n",
    "                activity_regularizer=regularizers.l2(regularizer_rate)))\n",
    "model.add(Activation(\"relu\"))\n",
    "model.add(Dropout(rate=dropout_rate))\n",
    "model.add(Dense(nb_classes))\n",
    "model.add(Activation(\"sigmoid\"))\n",
    "model.compile(loss=\"binary_crossentropy\", optimizer=\"Adam\")\n",
    "\n",
    "model.summary()"
   ]
  },
  {
   "cell_type": "raw",
   "metadata": {},
   "source": [
    "# Builds a distributed deep learning pipeline for our model\n",
    "\n",
    "# Sets and serializes the optimizer\n",
    "optimizer_configuration = optimizers.Adam(lr=0.01)\n",
    "opt_conf = optimizers.serialize(optimizer_configuration)\n",
    "\n",
    "# Initializes the sparkML estimator\n",
    "estimator = ElephasEstimator(labelCol='label', featuresCol='scaled_features')\n",
    "estimator.set_keras_model_config(model.to_yaml())\n",
    "estimator.set_categorical_labels(True)\n",
    "estimator.set_nb_classes(nb_classes)\n",
    "estimator.set_num_workers(1)\n",
    "estimator.set_epochs(25)\n",
    "estimator.set_batch_size(64)\n",
    "estimator.set_verbosity(1)\n",
    "estimator.set_validation_split(0.10)\n",
    "estimator.set_optimizer_config(opt_conf)\n",
    "estimator.set_mode(\"synchronous\")\n",
    "estimator.set_loss(\"binary_crossentropy\")\n",
    "estimator.set_metrics([\"acc\"])"
   ]
  },
  {
   "cell_type": "raw",
   "metadata": {},
   "source": [
    "# Sets the pipeline\n",
    "\n",
    "dl_pipeline = Pipeline(stages=[estimator])"
   ]
  },
  {
   "cell_type": "markdown",
   "metadata": {},
   "source": [
    "#### Annex.2.2.2. Fitting and Evaluating the model"
   ]
  },
  {
   "cell_type": "raw",
   "metadata": {},
   "source": [
    "# Fits and predicts\n",
    "fit_dl_pipeline = dl_pipeline.fit(training)\n",
    "pred_training = fit_dl_pipeline.transform(training)\n",
    "pred_test = fit_dl_pipeline.transform(test)"
   ]
  },
  {
   "cell_type": "raw",
   "metadata": {},
   "source": [
    "# Retrieves results\n",
    "results_training = pred_train.select(\"label\", \"prediction\")\n",
    "results_test = pred_test.select(\"label\", \"prediction\")"
   ]
  },
  {
   "cell_type": "raw",
   "metadata": {},
   "source": [
    "# Builds the metrics\n",
    "pred_and_label_training = results_training.rdd.map(lambda row: (row[\"label\"], row[\"prediction\"]))\n",
    "pred_and_label_test = results_test.rdd.map(lambda row: (row[\"label\"], row[\"prediction\"]))\n",
    "\n",
    "metrics_training = MulticlassMetrics(pred_and_label_training)\n",
    "metrics_test = MulticlassMetrics(pred_and_label_test)"
   ]
  },
  {
   "cell_type": "raw",
   "metadata": {},
   "source": [
    "# Prints the results\n",
    "print(\"Training Data Accuracy {}\".format(round(metrics_training.precision(),4)))\n",
    "print(\"Training Data Confusion Matrix\")\n",
    "print(results_training.crosstab(\"label\", \"prediction\").toPandas())\n",
    "\n",
    "print(\"\\nTest Data Accuracy {}\".format(round(metrics_test.precision(),4)))\n",
    "print(\"Test Data Confusion Matrix\")\n",
    "print(results_test.crosstab(\"label\", \"prediction\").toPandas())"
   ]
  }
 ],
 "metadata": {
  "kernelspec": {
   "display_name": "Python 3",
   "language": "python",
   "name": "python3"
  },
  "language_info": {
   "codemirror_mode": {
    "name": "ipython",
    "version": 3
   },
   "file_extension": ".py",
   "mimetype": "text/x-python",
   "name": "python",
   "nbconvert_exporter": "python",
   "pygments_lexer": "ipython3",
   "version": "3.8.5"
  }
 },
 "nbformat": 4,
 "nbformat_minor": 4
}
