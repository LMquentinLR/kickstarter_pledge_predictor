{
 "cells": [
  {
   "cell_type": "markdown",
   "metadata": {},
   "source": [
    "# Spark Pipeline on Kickstarter Pledge Dataset RAN ON GOOGLE CLOUD\n",
    "\n",
    "## 0. Table of Content\n",
    "\n",
    "| Sections | Subsections |\n",
    "| :--- | :--- | \n",
    "| **1 Overview** | 1.1 Instructions |\n",
    "|  | 1.2 Dataset Used |\n",
    "|  | 1.3  Goal of the Project & Target Variable |\n",
    "| **2 Environment Set-Up** |  |\n",
    "| **3 Dataset Download** | 3.1 Setting Up the Kaggle Environment With kaggle.json |\n",
    "|  | 3.2 Downloading The Dataset |\n",
    "|  | 3.3 Uploading To HDFS On Google Cloud |\n",
    "| **4 Library Imports & Setting Spark/Global Environment Variables** |  |\n",
    "| **5 Loading the Kickstarter Dataset to Spark** |  |\n",
    "| **6 Dataset Pre-Processing & Spark Processing Pipeline** | 6.1 Column Pre-Processing |\n",
    "|  | 6.2 Exploring The Pre-Processed Campaigns |\n",
    "|  | 6.3 Creating the data processing pipeline to format the dataset for Logistic Regression, Decision Tree, and Random Forest |\n",
    "|  | 6.4 Creating the data processing pipeline to format the dataset for Naive Bayes |\n",
    "|  | 6.5 Creating the data processing pipeline to format the dataset for Deep Learning (<span style=\"color:red\">Discontinued</span>) |\n",
    "| **7 Running a Logistic Regression Model Pipeline** | 7.1 Declaring Model Hyperparameters |\n",
    "|  | 7.2 Creating, Training, Evaluating a Model Pipeline using Cross-Validation |\n",
    "| **8 Running a Decision Tree Classifier Model Pipeline** | 8.1 Declaring Model Hyperparameters |\n",
    "|  | 8.2 Creating, Training, Evaluating a Model Pipeline using Cross-Validation |\n",
    "|  | 8.3 Creating, Training, Evaluating a Model Pipeline using Train-Test Splits |\n",
    "| **9 Running a Random Forest Model Pipeline** | 9.1 Declaring Model Hyperparameters |\n",
    "|  | 9.2 Creating, Training, Evaluating a Model Pipeline using Cross-Validation |\n",
    "| **10 Running a Naive Bayes Model Pipeline** | 10.1 Declaring Model Hyperparameters |\n",
    "|  | 10.2 Creating, Training, Evaluating a Model Pipeline using Cross-Validation |\n",
    "| **11. Summarizing Results/Conclusion** |  |\n",
    "| **Annex 1** | Running a Deep Learning Model with BigDL (<span style=\"color:red\">Discontinued</span>) |\n",
    "| **Annex 2** | Running a Deep Learning Model with Elephas (<span style=\"color:red\">Discontinued</span>) |\n",
    "\n",
    "## 1. Overview\n",
    "\n",
    "### 1.1. Instructions\n",
    "\n",
    "- **Choosing any sufficiently large open dataset** (less than 100000 lines are not allowed)\n",
    "\n",
    "\n",
    "- **Choosing one variable to predict**\n",
    "\n",
    "\n",
    "- **Implementing at least two supervised learning models**: classification, regression, recommender system, etc. Unsupervised tasks (e.g. clusterisation, associative rules, etc.) are not allowed\n",
    "\n",
    "\n",
    "- **Mandatory use of Apache Spark** (e.g. on Google Cloud as we did during our lab sessions)\n",
    "\n",
    "\n",
    "- A **full machine learning pipeline must be implemented**, which include:\n",
    "    - Reading the data\n",
    "    - Transforming data (extracting features, dealing with missing values if any, etc.)\n",
    "    - Building models (build at least two models to compare)\n",
    "    - Evaluating quality (use cross-validation or train/test split)\n",
    "\n",
    "### 1.2. Dataset Used\n",
    "\n",
    "We will be using the [Kickstarter Projects](https://www.kaggle.com/kemical/kickstarter-projects) Kaggle dataset. It contains two .csv files dated December 2016 and January 2018 which contains lists of kickstarter campaigns, explicited with the following data fields:\n",
    "\n",
    "- ID\n",
    "- name\n",
    "- category\n",
    "- main_category\n",
    "- currency\n",
    "- deadline\n",
    "- goal\n",
    "- launched\n",
    "- pledged\n",
    "- state\n",
    "- backers\n",
    "- country\n",
    "- usd_pledged: conversion in US dollars of the pledged column \n",
    "- usd_pledged_real: conversion in US dollars of the pledged column\n",
    "- usd_goal_real: conversion in US dollars of the goal column\n",
    "\n",
    "\n",
    "### 1.3. Goal of the Project & Target Variable\n",
    "\n",
    "Kickstarter is a crowdfunding platform where people, companies, etc. can create a campaign where people can pledge money in exchange for a future product (those people are called backers). Being able to predict the success of a campaign has important application in marketing, as such:\n",
    "\n",
    "> Our goal will be to predict the **state** value of campaigns based on any number other columns (our features), excluding *usd_pledged* and *usd_pledged_real*.\n",
    "\n",
    "The notebook was also ran locally using the installation steps for Spark described [here](https://sparkbyexamples.com/spark/spark-installation-on-linux-ubuntu/).\n",
    "\n",
    "## 2. Environment Set-Up\n",
    "\n",
    "We need the following libraries installed to set up the environment:\n",
    "\n",
    "- kaggle (see documentation [here](https://github.com/Kaggle/kaggle-api#datasets))\n",
    "- pyspark (see documentation [here](https://spark.apache.org/docs/latest/api/python/index.html))"
   ]
  },
  {
   "cell_type": "code",
   "execution_count": 1,
   "metadata": {},
   "outputs": [
    {
     "name": "stdout",
     "output_type": "stream",
     "text": [
      "Collecting kaggle\n",
      "  Downloading https://files.pythonhosted.org/packages/99/33/365c0d13f07a2a54744d027fe20b60dacdfdfb33bc04746db6ad0b79340b/kaggle-1.5.10.tar.gz (59kB)\n",
      "\u001b[K    100% |████████████████████████████████| 61kB 5.7MB/s eta 0:00:01\n",
      "\u001b[?25hRequirement already satisfied: six>=1.10 in /opt/conda/anaconda/lib/python2.7/site-packages (from kaggle)\n",
      "Requirement already satisfied: certifi in /opt/conda/anaconda/lib/python2.7/site-packages (from kaggle)\n",
      "Requirement already satisfied: python-dateutil in /opt/conda/anaconda/lib/python2.7/site-packages (from kaggle)\n",
      "Requirement already satisfied: requests in /opt/conda/anaconda/lib/python2.7/site-packages (from kaggle)\n",
      "Collecting tqdm (from kaggle)\n",
      "  Downloading https://files.pythonhosted.org/packages/80/02/8f8880a4fd6625461833abcf679d4c12a44c76f9925f92bf212bb6cefaad/tqdm-4.56.0-py2.py3-none-any.whl (72kB)\n",
      "\u001b[K    100% |████████████████████████████████| 81kB 5.1MB/s ta 0:00:011\n",
      "\u001b[?25hCollecting python-slugify (from kaggle)\n",
      "  Downloading https://files.pythonhosted.org/packages/9f/42/e336f96a8b6007428df772d0d159b8eee9b2f1811593a4931150660402c0/python-slugify-4.0.1.tar.gz\n",
      "Requirement already satisfied: urllib3 in /opt/conda/anaconda/lib/python2.7/site-packages (from kaggle)\n",
      "Requirement already satisfied: chardet<3.1.0,>=3.0.2 in /opt/conda/anaconda/lib/python2.7/site-packages (from requests->kaggle)\n",
      "Requirement already satisfied: idna<2.7,>=2.5 in /opt/conda/anaconda/lib/python2.7/site-packages (from requests->kaggle)\n",
      "Collecting text-unidecode>=1.3 (from python-slugify->kaggle)\n",
      "  Downloading https://files.pythonhosted.org/packages/a6/a5/c0b6468d3824fe3fde30dbb5e1f687b291608f9473681bbf7dabbf5a87d7/text_unidecode-1.3-py2.py3-none-any.whl (78kB)\n",
      "\u001b[K    100% |████████████████████████████████| 81kB 7.1MB/s eta 0:00:01\n",
      "\u001b[?25hBuilding wheels for collected packages: kaggle, python-slugify\n",
      "  Running setup.py bdist_wheel for kaggle ... \u001b[?25ldone\n",
      "\u001b[?25h  Stored in directory: /root/.cache/pip/wheels/3a/d1/7e/6ce09b72b770149802c653a02783821629146983ee5a360f10\n",
      "  Running setup.py bdist_wheel for python-slugify ... \u001b[?25ldone\n",
      "\u001b[?25h  Stored in directory: /root/.cache/pip/wheels/67/b8/ba/041548f30a6fc058c9b3f79a5b7b6aea925a15dd1e5c4992a4\n",
      "Successfully built kaggle python-slugify\n",
      "Installing collected packages: tqdm, text-unidecode, python-slugify, kaggle\n",
      "Successfully installed kaggle-1.5.10 python-slugify-4.0.1 text-unidecode-1.3 tqdm-4.56.0\n",
      "\u001b[33mYou are using pip version 9.0.1, however version 20.3.3 is available.\n",
      "You should consider upgrading via the 'pip install --upgrade pip' command.\u001b[0m\n",
      "Requirement already satisfied: pyspark in /usr/lib/spark/python\n",
      "Requirement already satisfied: py4j==0.10.7 in /opt/conda/anaconda/lib/python2.7/site-packages (from pyspark)\n",
      "\u001b[33mYou are using pip version 9.0.1, however version 20.3.3 is available.\n",
      "You should consider upgrading via the 'pip install --upgrade pip' command.\u001b[0m\n"
     ]
    }
   ],
   "source": [
    "# Installs the kaggle and pyspark module on the machine\n",
    "!pip install kaggle\n",
    "!pip install pyspark"
   ]
  },
  {
   "cell_type": "markdown",
   "metadata": {},
   "source": [
    "## 3. Dataset Download\n",
    "\n",
    "The following step downloads the set from the Kaggle database."
   ]
  },
  {
   "cell_type": "code",
   "execution_count": 2,
   "metadata": {},
   "outputs": [],
   "source": [
    "# Removes previously existing files\n",
    "!rm -f kickstarter-projects.zip\n",
    "!rm -f ks-projects-201612.csv ks-projects-201801.csv"
   ]
  },
  {
   "cell_type": "markdown",
   "metadata": {},
   "source": [
    "### 3.1. Setting up the Kaggle Environment with kaggle.json\n",
    "\n",
    "#### 3.1.2. On Google Cloud\n",
    "\n",
    "<span style=\"color:red\">To download the kaggle dataset, we must first upload our account's **kaggle.json file** in the **/root/.kaggle/ folder**.</span>\n",
    "    \n",
    "<span style=\"color:red\">The kaggle.json file can be downloaded here:</span>\n",
    "\n",
    "> ``https://www.kaggle.com/<username>/account``\n",
    "    \n",
    "<span style=\"color:red\">**/!\\** It is assumed we created a **/home/\\<user\\>/ folder** where this Jupyter Notebook and the kaggle.json file have been uploaded</span>."
   ]
  },
  {
   "cell_type": "code",
   "execution_count": 3,
   "metadata": {},
   "outputs": [],
   "source": [
    "############## WARNING ###########\n",
    "# RUN ONLY WHEN USING GOOGLE CLOUD\n",
    "##################################\n",
    "\n",
    "# Given this notebook and the kaggle.json file are set in the folder /home/<user>/\n",
    "# Moves the kaggle.json file from the user folder to the root folder\n",
    "!mkdir /root/.kaggle/\n",
    "!mv /home/qlr/kaggle.json /root/.kaggle/kaggle.json"
   ]
  },
  {
   "cell_type": "markdown",
   "metadata": {},
   "source": [
    "#### 3.1.2. On a local machine\n",
    "    \n",
    "<span style=\"color:red\">Download and move the kaggle.json file to the local /root/.kaggle/ folder.</span>\n",
    "\n",
    "### 3.2. Downloading the dataset\n",
    "\n",
    "We only keep 'ks-projects-201801.csv', the most recent dataset available."
   ]
  },
  {
   "cell_type": "code",
   "execution_count": 4,
   "metadata": {},
   "outputs": [
    {
     "name": "stdout",
     "output_type": "stream",
     "text": [
      "Warning: Your Kaggle API key is readable by other users on this system! To fix this, you can run 'chmod 600 /root/.kaggle/kaggle.json'\n",
      "Downloading kickstarter-projects.zip to /\n",
      " 73%|███████████████████████████▉          | 27.0M/36.8M [00:00<00:00, 40.3MB/s]\n",
      "100%|██████████████████████████████████████| 36.8M/36.8M [00:00<00:00, 53.6MB/s]\n"
     ]
    }
   ],
   "source": [
    "# Dowloads the raw dataset from the kaggle source\n",
    "!kaggle datasets download -d kemical/kickstarter-projects"
   ]
  },
  {
   "cell_type": "code",
   "execution_count": 5,
   "metadata": {},
   "outputs": [
    {
     "name": "stdout",
     "output_type": "stream",
     "text": [
      "Archive:  kickstarter-projects.zip\n",
      "  inflating: ks-projects-201612.csv  \n",
      "  inflating: ks-projects-201801.csv  \n"
     ]
    }
   ],
   "source": [
    "# Unzips the raw dataset and keeps only the most recent instance\n",
    "!unzip kickstarter-projects.zip\n",
    "!rm -f ks-projects-201612.csv kickstarter-projects.zip"
   ]
  },
  {
   "cell_type": "raw",
   "metadata": {},
   "source": [
    "# Zips the raw dataset once instantiated in memory\n",
    "# Useful for git push as Github gives a warning when pushing a file > 50Mb\n",
    "!zip ks-projects-201801.zip ks-projects-201801.csv\n",
    "!rm -f ks-projects-201801.csv\n",
    "!ls"
   ]
  },
  {
   "cell_type": "markdown",
   "metadata": {},
   "source": [
    "### 3.3. Uploading to HDFS on Google Cloud"
   ]
  },
  {
   "cell_type": "code",
   "execution_count": 6,
   "metadata": {},
   "outputs": [
    {
     "name": "stdout",
     "output_type": "stream",
     "text": [
      "rm: `/user/qlr/ks-projects-201801.csv': No such file or directory\n",
      "Found 1 items\n",
      "-rw-r--r--   2 root hadoop   58030359 2021-01-16 17:39 /user/qlr/ks-projects-201801.csv\n"
     ]
    }
   ],
   "source": [
    "############## WARNING ###########\n",
    "# RUN ONLY WHEN USING GOOGLE CLOUD\n",
    "##################################\n",
    "\n",
    "# Uploads the dataset to HDFS when on Google Cloud\n",
    "!hdfs dfs -mkdir /user/qlr\n",
    "!hdfs dfs -rm /user/qlr/ks-projects-201801.csv\n",
    "!hdfs dfs -put ks-projects-201801.csv /user/qlr\n",
    "!hdfs dfs -ls /user/qlr"
   ]
  },
  {
   "cell_type": "markdown",
   "metadata": {},
   "source": [
    "## 4. Library Imports & Setting Spark/Global Environment Variables"
   ]
  },
  {
   "cell_type": "code",
   "execution_count": 7,
   "metadata": {},
   "outputs": [],
   "source": [
    "# Loads the needed modules\n",
    "import matplotlib.pyplot as plt\n",
    "import numpy as np\n",
    "\n",
    "from pyspark.context import SparkContext\n",
    "\n",
    "from pyspark.ml import Pipeline\n",
    "from pyspark.ml.evaluation import BinaryClassificationEvaluator\n",
    "from pyspark.ml.feature import StringIndexer, OneHotEncoder, VectorAssembler, StandardScaler \n",
    "from pyspark.ml.feature import Word2Vec, Tokenizer, HashingTF\n",
    "from pyspark.ml.classification import DecisionTreeClassifier\n",
    "from pyspark.ml.classification import NaiveBayes\n",
    "from pyspark.ml.classification import RandomForestClassifier\n",
    "from pyspark.ml.classification import LogisticRegression\n",
    "from pyspark.ml.tuning import CrossValidator, ParamGridBuilder\n",
    "\n",
    "from pyspark.sql import Row\n",
    "from pyspark.sql.functions import unix_timestamp, ceil, isnan, when, count, col\n",
    "from pyspark.sql.session import SparkSession\n",
    "from pyspark.sql.types import DoubleType"
   ]
  },
  {
   "cell_type": "raw",
   "metadata": {},
   "source": [
    "############## WARNING ###########\n",
    "# RUN ONLY WHEN ON A LOCAL MACHINE\n",
    "##################################\n",
    "\n",
    "dataset_path = \"ks-projects-201801.csv\"\n",
    "dataset_format = \"csv\"\n",
    "context = \"local\"\n",
    "\n",
    "# Instantiates a local Spark Session\n",
    "spark = SparkSession.builder \\\n",
    "    .master(\"local[*]\") \\\n",
    "    .config(\"spark.driver.memory\", \"12g\") \\\n",
    "    .appName(\"distributed-database-assignment\") \\\n",
    "    .getOrCreate()"
   ]
  },
  {
   "cell_type": "code",
   "execution_count": 8,
   "metadata": {},
   "outputs": [],
   "source": [
    "############## WARNING ###########\n",
    "# RUN ONLY WHEN USING GOOGLE CLOUD\n",
    "##################################\n",
    "\n",
    "dataset_path = \"/user/qlr/ks-projects-201801.csv\"\n",
    "dataset_format = \"csv\"\n",
    "context = \"cloud\""
   ]
  },
  {
   "cell_type": "markdown",
   "metadata": {},
   "source": [
    "## 5. Loading the Kickstarter Dataset to Spark"
   ]
  },
  {
   "cell_type": "code",
   "execution_count": 9,
   "metadata": {
    "scrolled": true
   },
   "outputs": [
    {
     "data": {
      "text/html": [
       "\n",
       "            <div>\n",
       "                <p><b>SparkSession - hive</b></p>\n",
       "                \n",
       "        <div>\n",
       "            <p><b>SparkContext</b></p>\n",
       "\n",
       "            <p><a href=\"http://cluster-282d-m.europe-west1-d.c.rising-timing-296017.internal:4040\">Spark UI</a></p>\n",
       "\n",
       "            <dl>\n",
       "              <dt>Version</dt>\n",
       "                <dd><code>v2.3.4</code></dd>\n",
       "              <dt>Master</dt>\n",
       "                <dd><code>yarn</code></dd>\n",
       "              <dt>AppName</dt>\n",
       "                <dd><code>PySparkShell</code></dd>\n",
       "            </dl>\n",
       "        </div>\n",
       "        \n",
       "            </div>\n",
       "        "
      ],
      "text/plain": [
       "<pyspark.sql.session.SparkSession at 0x7f0277254810>"
      ]
     },
     "execution_count": 9,
     "metadata": {},
     "output_type": "execute_result"
    }
   ],
   "source": [
    "#Spark UI on Google Cloud should return \n",
    "# when using the GCloud Image Type 1.3-debian10\n",
    "\n",
    "#   v2.3.4 (version)\n",
    "#   yarn (Master)\n",
    "#   PySparkShell (AppName)\n",
    "\n",
    "spark"
   ]
  },
  {
   "cell_type": "code",
   "execution_count": 10,
   "metadata": {},
   "outputs": [],
   "source": [
    "# Loads the dataset\n",
    "campaigns = (spark\n",
    "             .read\n",
    "             .format(dataset_format)\n",
    "             .options(header=True)\n",
    "             .load(dataset_path))"
   ]
  },
  {
   "cell_type": "markdown",
   "metadata": {},
   "source": [
    "## 6. Dataset Pre-Processing & Spark Processing Pipeline\n",
    "\n",
    "### 6.1. Column Pre-processing"
   ]
  },
  {
   "cell_type": "code",
   "execution_count": 11,
   "metadata": {},
   "outputs": [],
   "source": [
    "# Declares variables for pre-processing the dataset\n",
    "kept_raw_columns = [\n",
    "    \"ID\",\"name\",\"category\",\"deadline\",\"launched\",\"country\",\"usd_goal_real\", #features\n",
    "    \"state\" # target\n",
    "]\n",
    "\n",
    "remove_date_columns = [\n",
    "    \"ID\",\"name\",\"category\",\"total_duration\",\"country\",\"usd_goal_real\", #features\n",
    "    \"state\" # target\n",
    "]\n",
    "\n",
    "kept_columns_for_modelization = [\n",
    "    \"total_duration\",\"usd_goal_real\",\"name\",\"category\",\"country\", #features\n",
    "    \"state\" # target\n",
    "]\n",
    "\n",
    "deadline_format = \"yyyy-MM-dd\"\n",
    "launched_format = \"yyyy-MM-dd HH:mm:ss\"\n",
    "\n",
    "final_columns = [\"scaled_features\", \"label\"]"
   ]
  },
  {
   "cell_type": "code",
   "execution_count": 12,
   "metadata": {},
   "outputs": [],
   "source": [
    "# Declares useful functions\n",
    "def dataset_check(db):\n",
    "    print(\"The dataset contains \" + str(db.count()) + \" rows.\")\n",
    "    db.show(n=5)\n",
    "    \n",
    "def count_unique_instances(df, column_name):\n",
    "    \"\"\"\n",
    "    Prints the count of each unique instance in a column in descending order\n",
    "    \"\"\"\n",
    "    df.select(column_name).groupBy(column_name).count().orderBy(col(\"count\").desc()).show()"
   ]
  },
  {
   "cell_type": "code",
   "execution_count": 13,
   "metadata": {},
   "outputs": [
    {
     "name": "stdout",
     "output_type": "stream",
     "text": [
      "root\n",
      " |-- ID: string (nullable = true)\n",
      " |-- name: string (nullable = true)\n",
      " |-- category: string (nullable = true)\n",
      " |-- main_category: string (nullable = true)\n",
      " |-- currency: string (nullable = true)\n",
      " |-- deadline: string (nullable = true)\n",
      " |-- goal: string (nullable = true)\n",
      " |-- launched: string (nullable = true)\n",
      " |-- pledged: string (nullable = true)\n",
      " |-- state: string (nullable = true)\n",
      " |-- backers: string (nullable = true)\n",
      " |-- country: string (nullable = true)\n",
      " |-- usd pledged: string (nullable = true)\n",
      " |-- usd_pledged_real: string (nullable = true)\n",
      " |-- usd_goal_real: string (nullable = true)\n",
      "\n"
     ]
    }
   ],
   "source": [
    "# Checks the type of the dataset columns\n",
    "campaigns.printSchema()"
   ]
  },
  {
   "cell_type": "code",
   "execution_count": 14,
   "metadata": {
    "scrolled": false
   },
   "outputs": [],
   "source": [
    "# Drops NAs, Nulls, and Duplicates \n",
    "campaigns = campaigns.dropna()\n",
    "campaigns = campaigns.dropDuplicates()\n",
    "for column in campaigns.columns:\n",
    "    campaigns = campaigns.where(col(column).isNotNull())"
   ]
  },
  {
   "cell_type": "code",
   "execution_count": 15,
   "metadata": {},
   "outputs": [],
   "source": [
    "# Prunes the non-relevant columns\n",
    "campaigns = campaigns.select(kept_raw_columns)"
   ]
  },
  {
   "cell_type": "code",
   "execution_count": 16,
   "metadata": {
    "scrolled": false
   },
   "outputs": [],
   "source": [
    "# Computes a duration time (in day) between the launch and deadline features\n",
    "launch_times = unix_timestamp(\"launched\", format = launched_format)\n",
    "deadline_times = unix_timestamp(\"deadline\", format = deadline_format)\n",
    "time_difference = deadline_times - launch_times\n",
    "campaigns = campaigns.withColumn(\"total_duration\",ceil(time_difference/(3600*24)))\n",
    "\n",
    "# Removes the launch and deadline feature columns\n",
    "campaigns = campaigns.select(remove_date_columns)"
   ]
  },
  {
   "cell_type": "code",
   "execution_count": 17,
   "metadata": {},
   "outputs": [],
   "source": [
    "# Cleans the target labels:\n",
    "#   - 'undefined', 'live' -> dropped\n",
    "for condition in ['state!=\"undefined\"', 'state!=\"live\"']:\n",
    "    campaigns = campaigns.where(condition)\n",
    "\n",
    "#   - 'suspended', 'cancelled' -> renamed to 'failed' \n",
    "campaigns = campaigns.\\\n",
    "    withColumn(\"state\",when(col(\"state\") == \"canceled\", \"failed\").\\\n",
    "    when(col(\"state\") == \"suspended\", \"failed\").\\\n",
    "    when(col(\"state\") == \"failed\", \"failed\").\\\n",
    "    otherwise(\"successful\"))"
   ]
  },
  {
   "cell_type": "code",
   "execution_count": 18,
   "metadata": {},
   "outputs": [],
   "source": [
    "# Casts the relevant column(s) to their end types\n",
    "for column in [\"total_duration\", \"usd_goal_real\"]:\n",
    "    campaigns = campaigns.withColumn(column,col(column).cast(DoubleType()))"
   ]
  },
  {
   "cell_type": "code",
   "execution_count": 19,
   "metadata": {
    "scrolled": true
   },
   "outputs": [],
   "source": [
    "# finishes clean-up\n",
    "processed_campaigns = campaigns.select(kept_columns_for_modelization)"
   ]
  },
  {
   "cell_type": "markdown",
   "metadata": {},
   "source": [
    "With the preprocessed campaigns, we can both explore the data better and build our Spark pipelines."
   ]
  },
  {
   "cell_type": "markdown",
   "metadata": {},
   "source": [
    "### 6.2. Exploring the pre-processed campaigns"
   ]
  },
  {
   "cell_type": "code",
   "execution_count": 20,
   "metadata": {},
   "outputs": [
    {
     "name": "stdout",
     "output_type": "stream",
     "text": [
      "The dataset contains 372060 rows.\n",
      "+--------------+-------------+--------------------+--------------+-------+----------+\n",
      "|total_duration|usd_goal_real|                name|      category|country|     state|\n",
      "+--------------+-------------+--------------------+--------------+-------+----------+\n",
      "|          43.0|      4926.39|             Borders|         Drama|     GB|    failed|\n",
      "|          21.0|      2240.39|Spiele für iOS un...|  Mobile Games|     DE|    failed|\n",
      "|          30.0|        700.0|Odyssey Skateboar...|Graphic Design|     US|    failed|\n",
      "|          30.0|       5500.0|Debut EP Album Pr...|           R&B|     US|    failed|\n",
      "|          16.0|       1200.0|GBS Detroit Prese...|    Indie Rock|     US|successful|\n",
      "+--------------+-------------+--------------------+--------------+-------+----------+\n",
      "only showing top 5 rows\n",
      "\n"
     ]
    }
   ],
   "source": [
    "# Checks dataset structure\n",
    "dataset_check(processed_campaigns)"
   ]
  },
  {
   "cell_type": "code",
   "execution_count": 21,
   "metadata": {},
   "outputs": [
    {
     "data": {
      "text/plain": [
       "[('total_duration', 'double'),\n",
       " ('usd_goal_real', 'double'),\n",
       " ('name', 'string'),\n",
       " ('category', 'string'),\n",
       " ('country', 'string'),\n",
       " ('state', 'string')]"
      ]
     },
     "execution_count": 21,
     "metadata": {},
     "output_type": "execute_result"
    }
   ],
   "source": [
    "processed_campaigns.dtypes"
   ]
  },
  {
   "cell_type": "code",
   "execution_count": 22,
   "metadata": {
    "scrolled": true
   },
   "outputs": [
    {
     "name": "stdout",
     "output_type": "stream",
     "text": [
      "+--------------+-------------+----+--------+-------+-----+\n",
      "|total_duration|usd_goal_real|name|category|country|state|\n",
      "+--------------+-------------+----+--------+-------+-----+\n",
      "|             0|            0|   0|       0|      0|    0|\n",
      "+--------------+-------------+----+--------+-------+-----+\n",
      "\n"
     ]
    }
   ],
   "source": [
    "# Checks for N/A\n",
    "processed_campaigns.select([count(when(isnan(c), c)).alias(c) for c in processed_campaigns.columns]).show()"
   ]
  },
  {
   "cell_type": "code",
   "execution_count": 23,
   "metadata": {
    "scrolled": true
   },
   "outputs": [
    {
     "name": "stdout",
     "output_type": "stream",
     "text": [
      "+----------+------+\n",
      "|     state| count|\n",
      "+----------+------+\n",
      "|    failed|237451|\n",
      "|successful|134609|\n",
      "+----------+------+\n",
      "\n"
     ]
    }
   ],
   "source": [
    "#Checks state column's content\n",
    "count_unique_instances(processed_campaigns, \"state\")"
   ]
  },
  {
   "cell_type": "code",
   "execution_count": 24,
   "metadata": {},
   "outputs": [
    {
     "name": "stdout",
     "output_type": "stream",
     "text": [
      "+----------------+-----+\n",
      "|        category|count|\n",
      "+----------------+-----+\n",
      "|  Product Design|22037|\n",
      "|     Documentary|16015|\n",
      "|  Tabletop Games|14058|\n",
      "|           Music|13195|\n",
      "|          Shorts|12234|\n",
      "|     Video Games|11733|\n",
      "|            Food|11436|\n",
      "|    Film & Video| 9132|\n",
      "|         Fiction| 9050|\n",
      "|         Fashion| 8503|\n",
      "|      Nonfiction| 8215|\n",
      "|             Art| 8170|\n",
      "|         Apparel| 7047|\n",
      "|         Theater| 6969|\n",
      "|      Technology| 6841|\n",
      "|            Rock| 6682|\n",
      "|Children's Books| 6656|\n",
      "|            Apps| 6259|\n",
      "|     Photography| 5726|\n",
      "|       Webseries| 5723|\n",
      "+----------------+-----+\n",
      "only showing top 20 rows\n",
      "\n"
     ]
    }
   ],
   "source": [
    "count_unique_instances(processed_campaigns, \"category\")"
   ]
  },
  {
   "cell_type": "code",
   "execution_count": 25,
   "metadata": {},
   "outputs": [
    {
     "name": "stdout",
     "output_type": "stream",
     "text": [
      "+-------+------+\n",
      "|country| count|\n",
      "+-------+------+\n",
      "|     US|289717|\n",
      "|     GB| 33350|\n",
      "|     CA| 14603|\n",
      "|     AU|  7754|\n",
      "|     DE|  4091|\n",
      "|     FR|  2879|\n",
      "|     NL|  2830|\n",
      "|     IT|  2794|\n",
      "|     ES|  2221|\n",
      "|     SE|  1736|\n",
      "|     MX|  1639|\n",
      "|     NZ|  1434|\n",
      "|     DK|  1096|\n",
      "|     IE|   799|\n",
      "|     CH|   745|\n",
      "|     NO|   699|\n",
      "|     BE|   605|\n",
      "|     HK|   583|\n",
      "|     AT|   582|\n",
      "|     SG|   526|\n",
      "+-------+------+\n",
      "only showing top 20 rows\n",
      "\n"
     ]
    }
   ],
   "source": [
    "count_unique_instances(processed_campaigns, \"country\")"
   ]
  },
  {
   "cell_type": "code",
   "execution_count": 26,
   "metadata": {},
   "outputs": [
    {
     "name": "stdout",
     "output_type": "stream",
     "text": [
      "+--------------+------+\n",
      "|total_duration| count|\n",
      "+--------------+------+\n",
      "|          30.0|165842|\n",
      "|          60.0| 32588|\n",
      "|          45.0| 17387|\n",
      "|          31.0| 12992|\n",
      "|          35.0|  9896|\n",
      "|          40.0|  9784|\n",
      "|          32.0|  7153|\n",
      "|          20.0|  6698|\n",
      "|          21.0|  6593|\n",
      "|          29.0|  6076|\n",
      "|          25.0|  6037|\n",
      "|          33.0|  5680|\n",
      "|          28.0|  5362|\n",
      "|          15.0|  5278|\n",
      "|          14.0|  4089|\n",
      "|          34.0|  3534|\n",
      "|          36.0|  3355|\n",
      "|          27.0|  2883|\n",
      "|          22.0|  2653|\n",
      "|          26.0|  2574|\n",
      "+--------------+------+\n",
      "only showing top 20 rows\n",
      "\n"
     ]
    }
   ],
   "source": [
    "count_unique_instances(processed_campaigns, \"total_duration\")"
   ]
  },
  {
   "cell_type": "markdown",
   "metadata": {},
   "source": [
    "### 6.3. Creating the data processing pipeline to format the dataset for Logistic Regression, Decision Tree, and Random Forest\n",
    "\n",
    "Our first three models will be:\n",
    "- Logistic Regression\n",
    "- Decision Tree\n",
    "- Random Forest\n",
    "\n",
    "To create our data pipeline, we will rely on indexing and assembling our data using the following stages:\n",
    "- **StringIndexer** for all categorical columns\n",
    "- **OneHotEncoder** for all categorical index columns\n",
    "- **Tokenizer** and **Word2Vec** for the \\<name\\> column\n",
    "- **VectorAssembler** for all feature columns to be assembled into one vector column"
   ]
  },
  {
   "cell_type": "code",
   "execution_count": 27,
   "metadata": {},
   "outputs": [],
   "source": [
    "# String-indexes the categorical feature columns\n",
    "categorical_feature_columns = processed_campaigns.columns[3:5]\n",
    "string_indexing_feature_columns = [\n",
    "    StringIndexer(inputCol=column, outputCol=\"strindexed_\" + column, handleInvalid=\"skip\")\n",
    "    for column in categorical_feature_columns\n",
    "]\n",
    "\n",
    "# String-indexes the label column\n",
    "string_indexing_label_column = [\n",
    "    StringIndexer(inputCol=\"state\", outputCol=\"label\", handleInvalid=\"skip\")\n",
    "]"
   ]
  },
  {
   "cell_type": "markdown",
   "metadata": {},
   "source": [
    "<span style=\"color:red\">**Note on pyspark 2.3 used on Google Cloud (Image Type 1.3-debian10 used during the lectures)**:  OneHotEncoder and VectorAssembler do not have the \\<handleInvalid\\> attribute. The resulting effect is that pyspark can raise a null error during .fit() procedures despite that no N/A exists in the dataset . A solution will be to pass dataset column as dataset.na.drop() later on.</span>"
   ]
  },
  {
   "cell_type": "code",
   "execution_count": 28,
   "metadata": {},
   "outputs": [],
   "source": [
    "# Creates pipeline stages to one-hot encode each categorical feature column\n",
    "if context == \"local\":\n",
    "    onehot_encoding_feature_columns = [\n",
    "        OneHotEncoder(inputCol = \"strindexed_\" + column, \n",
    "                      outputCol = \"onehot_\" + column,\n",
    "                      handleInvalid = \"keep\")\n",
    "        for column in categorical_feature_columns\n",
    "    ]\n",
    "else:\n",
    "    onehot_encoding_feature_columns = [\n",
    "        OneHotEncoder(inputCol = \"strindexed_\" + column, \n",
    "                      outputCol = \"onehot_\" + column) \n",
    "        for column in categorical_feature_columns\n",
    "    ]"
   ]
  },
  {
   "cell_type": "code",
   "execution_count": 29,
   "metadata": {},
   "outputs": [],
   "source": [
    "# Creates pipeline stages to vector assemble each categorical feature column\n",
    "processed_feature_columns = list(map(lambda col_name: \"onehot_\" + col_name, categorical_feature_columns))\n",
    "processed_feature_columns += [\"total_duration\", \"usd_goal_real\"]\n",
    "\n",
    "if context == \"local\":\n",
    "    vectorassembler_stage = VectorAssembler(inputCols=processed_feature_columns, \n",
    "                                            outputCol=\"features_1\",\n",
    "                                            handleInvalid=\"skip\")\n",
    "else:\n",
    "    vectorassembler_stage = VectorAssembler(inputCols=processed_feature_columns, \n",
    "                                            outputCol=\"features_1\")"
   ]
  },
  {
   "cell_type": "code",
   "execution_count": 30,
   "metadata": {},
   "outputs": [],
   "source": [
    "# Creates pipeline stages to vectorize the <name> column\n",
    "tokenizer = Tokenizer(inputCol=\"name\", outputCol=\"words\")\n",
    "word2Vec = Word2Vec(vectorSize=20, inputCol=tokenizer.getOutputCol(), outputCol=\"features_2\")"
   ]
  },
  {
   "cell_type": "code",
   "execution_count": 31,
   "metadata": {},
   "outputs": [],
   "source": [
    "# Merges the vectors resulting from the categorical feature pipeline and word2vec pipeline\n",
    "merge_features = VectorAssembler(inputCols=[\"features_1\", \"features_2\"], outputCol=\"features\")"
   ]
  },
  {
   "cell_type": "code",
   "execution_count": 32,
   "metadata": {
    "scrolled": true
   },
   "outputs": [],
   "source": [
    "scaler = StandardScaler(inputCol=\"features\", outputCol=\"scaled_features\")"
   ]
  },
  {
   "cell_type": "code",
   "execution_count": 33,
   "metadata": {},
   "outputs": [],
   "source": [
    "# Assembles the data processing pipeline\n",
    "data_processing_pipeline = Pipeline(\n",
    "    stages = string_indexing_feature_columns +\n",
    "    string_indexing_label_column + \n",
    "    onehot_encoding_feature_columns + \n",
    "    [vectorassembler_stage] + \n",
    "    [tokenizer] + \n",
    "    [word2Vec] +\n",
    "    [merge_features] +\n",
    "    [scaler]\n",
    ")"
   ]
  },
  {
   "cell_type": "code",
   "execution_count": 34,
   "metadata": {},
   "outputs": [],
   "source": [
    "# Fits the data processing pipeline\n",
    "first_pipeline = data_processing_pipeline.fit(processed_campaigns.na.drop())\n",
    "first_processed_dataset = first_pipeline.transform(processed_campaigns)"
   ]
  },
  {
   "cell_type": "markdown",
   "metadata": {},
   "source": [
    "<span style=\"color:red\">We limited our dataset to 20% of the total when running the model locally, we commented this line out while using Google Cloud</span>"
   ]
  },
  {
   "cell_type": "raw",
   "metadata": {},
   "source": [
    "# Caches 20% of the dataset for the session for better time performance\n",
    "first_processed_dataset = first_processed_dataset.select(final_columns).sample(0.2).cache()"
   ]
  },
  {
   "cell_type": "code",
   "execution_count": 35,
   "metadata": {},
   "outputs": [
    {
     "name": "stdout",
     "output_type": "stream",
     "text": [
      "The dataset contains 370775 rows.\n",
      "+--------------------+-----+\n",
      "|     scaled_features|label|\n",
      "+--------------------+-----+\n",
      "|(201,[30,158,179,...|  0.0|\n",
      "|(201,[41,158,179,...|  1.0|\n",
      "|(201,[8,158,179,1...|  1.0|\n",
      "|(201,[14,158,179,...|  0.0|\n",
      "|(201,[54,158,179,...|  0.0|\n",
      "+--------------------+-----+\n",
      "only showing top 5 rows\n",
      "\n"
     ]
    }
   ],
   "source": [
    "first_processed_dataset = first_processed_dataset.select(final_columns).cache()\n",
    "dataset_check(first_processed_dataset)"
   ]
  },
  {
   "cell_type": "markdown",
   "metadata": {},
   "source": [
    "### 6.4. Creating the data processing pipeline to format the dataset for Naive Bayes\n",
    "\n",
    "Our second batch of models will be:\n",
    "- Naive Bayes\n",
    "\n",
    "To create our data pipeline, we will rely on indexing and assembling our data using the following stages:\n",
    "- **StringIndexer** for all categorical columns\n",
    "- **OneHotEncoder** for all categorical index columns\n",
    "- **Tokenizer** and **HashingTF** for the \\<name\\> column (<span style=\"color:red\">the difference with the previous pipeline is the use of HashingTF instead of Word2Vec</span>)\n",
    "- **VectorAssembler** for all feature columns to be assembled into one vector column\n",
    "\n",
    "We use HashingTF for our pipeline because Naive Bayes can only accept positive float values when Word2Vec can output vectors with negative elements."
   ]
  },
  {
   "cell_type": "code",
   "execution_count": 36,
   "metadata": {},
   "outputs": [],
   "source": [
    "# Creates pipeline stages to vectorize the <name> column\n",
    "tokenizer = Tokenizer(inputCol=\"name\", outputCol=\"words\")\n",
    "HashingTF = HashingTF(numFeatures=20, inputCol=tokenizer.getOutputCol(), outputCol=\"features_2\")"
   ]
  },
  {
   "cell_type": "code",
   "execution_count": 37,
   "metadata": {},
   "outputs": [],
   "source": [
    "# Assembles the data processing pipeline\n",
    "data_processing_pipeline = Pipeline(\n",
    "    stages = string_indexing_feature_columns +\n",
    "    string_indexing_label_column + \n",
    "    onehot_encoding_feature_columns + \n",
    "    [vectorassembler_stage] + \n",
    "    [tokenizer] + \n",
    "    [HashingTF] +\n",
    "    [merge_features] +\n",
    "    [scaler]\n",
    ")"
   ]
  },
  {
   "cell_type": "code",
   "execution_count": 38,
   "metadata": {},
   "outputs": [],
   "source": [
    "# Fits the data processing pipeline\n",
    "pipeline_naive_bayes = data_processing_pipeline.fit(processed_campaigns.na.drop())\n",
    "second_processed_dataset = pipeline_naive_bayes.transform(processed_campaigns)"
   ]
  },
  {
   "cell_type": "markdown",
   "metadata": {},
   "source": [
    "<span style=\"color:red\">We limited our dataset to 20% of the total when running the model locally, we commented this line out while using Google Cloud</span>"
   ]
  },
  {
   "cell_type": "raw",
   "metadata": {
    "scrolled": false
   },
   "source": [
    "# Caches 20% of the dataset for the session for better time performance\n",
    "second_processed_dataset = second_processed_dataset.select(final_columns).sample(0.2).cache()"
   ]
  },
  {
   "cell_type": "code",
   "execution_count": 39,
   "metadata": {
    "scrolled": true
   },
   "outputs": [
    {
     "name": "stdout",
     "output_type": "stream",
     "text": [
      "The dataset contains 370775 rows.\n",
      "+--------------------+-----+\n",
      "|     scaled_features|label|\n",
      "+--------------------+-----+\n",
      "|(201,[49,159,179,...|  0.0|\n",
      "|(201,[57,162,179,...|  0.0|\n",
      "|(201,[52,158,179,...|  0.0|\n",
      "|(201,[107,158,179...|  0.0|\n",
      "|(201,[20,158,179,...|  1.0|\n",
      "+--------------------+-----+\n",
      "only showing top 5 rows\n",
      "\n"
     ]
    }
   ],
   "source": [
    "second_processed_dataset = second_processed_dataset.select(final_columns).cache()\n",
    "dataset_check(second_processed_dataset)"
   ]
  },
  {
   "cell_type": "markdown",
   "metadata": {},
   "source": [
    "### 6.5. Creating the data processing pipeline to format the dataset for Deep Learning (<span style=\"color:red\">Discontinued</span>)\n",
    "\n",
    "<span style=\"color:red\">The goal of this third batch was trying to create a pipeline for deep learning. The issue was not the pipeline but the implementation of a DL model using the Google Cloud image used during class</span>:\n",
    "\n",
    "- **Attempt 1:** [Elephas](http://maxpumperla.com/elephas/) library (not pursued as the library is not supported anymore)\n",
    "\n",
    "- **Attempt 2:** [BigDL](https://bigdl-project.github.io/master/) library (not pursued as Google Cloud uses Python 2.7, which is not supported)\n",
    "\n",
    "Our data pipeline would have been be identical to that of the first three models."
   ]
  },
  {
   "cell_type": "markdown",
   "metadata": {},
   "source": [
    "## 7. Running a Logistic Regression Model Pipeline\n",
    "\n",
    "### 7.1. Declaring model hyper-parameters"
   ]
  },
  {
   "cell_type": "code",
   "execution_count": 40,
   "metadata": {},
   "outputs": [],
   "source": [
    "# Declares hyperparameters\n",
    "training_size = 0.7\n",
    "test_size = 0.3\n",
    "reg_parameters = [0., 0.5, 1., 2.] # must be float values\n",
    "elastic_net_parameters = [0., 0.5, 1.] # must be float values"
   ]
  },
  {
   "cell_type": "code",
   "execution_count": 41,
   "metadata": {},
   "outputs": [],
   "source": [
    "# Declares useful functions\n",
    "def process_confusion_matrix(matrix):\n",
    "    \"\"\"\n",
    "    Produces the confusion matrix of a model based on its\n",
    "    binary classification output.\n",
    "    \"\"\"\n",
    "    items = []\n",
    "    for item in matrix: \n",
    "        items.append(item)\n",
    "        print(item, matrix[item])\n",
    "    if Row(label=0.0, prediction=0.0) in items: \n",
    "        true_negatives = float(matrix[Row(label=0.0, prediction=0.0)])\n",
    "    else: \n",
    "        true_negatives = 0.\n",
    "    if Row(label=1.0, prediction=0.0) in items: \n",
    "        false_negatives = float(matrix[Row(label=1.0, prediction=0.0)])\n",
    "    else: \n",
    "        false_negatives = 0.\n",
    "    if Row(label=0.0, prediction=1.0) in items: \n",
    "        false_positives = float(matrix[Row(label=0.0, prediction=1.0)])\n",
    "    else: \n",
    "        false_positives = 0.\n",
    "    if Row(label=1.0, prediction=1.0) in items: \n",
    "        true_positives = float(matrix[Row(label=1.0, prediction=1.0)])\n",
    "    else: \n",
    "        true_positives = 0.\n",
    "    precision = true_positives/(true_positives+false_positives)\n",
    "    recall = true_positives/(true_positives+false_negatives)\n",
    "    print(\"\\nPrecision score:\", precision)\n",
    "    print(\"Recall score:\", recall)\n",
    "    if precision+recall != 0.: \n",
    "        print(\"F1 score:\", 2*(precision*recall)/(precision+recall))\n",
    "        return precision, recall, 2*(precision*recall)/(precision+recall)\n",
    "    return precision, recall"
   ]
  },
  {
   "cell_type": "markdown",
   "metadata": {},
   "source": [
    "### 7.2. Creating, Training, Evaluating a Model Pipeline using Cross-Validation\n",
    "\n",
    "#### 7.2.1. Building and fitting the model"
   ]
  },
  {
   "cell_type": "code",
   "execution_count": 42,
   "metadata": {
    "scrolled": false
   },
   "outputs": [],
   "source": [
    "lr = LogisticRegression(featuresCol=\"scaled_features\", labelCol=\"label\")"
   ]
  },
  {
   "cell_type": "code",
   "execution_count": 43,
   "metadata": {},
   "outputs": [],
   "source": [
    "# Builds a parameter grid\n",
    "lr_param_grid = ParamGridBuilder().\\\n",
    "    addGrid(lr.regParam, reg_parameters).\\\n",
    "    addGrid(lr.elasticNetParam, elastic_net_parameters).\\\n",
    "    build()"
   ]
  },
  {
   "cell_type": "code",
   "execution_count": 44,
   "metadata": {},
   "outputs": [],
   "source": [
    "# Builds the evaluator\n",
    "lr_evaluator = BinaryClassificationEvaluator(rawPredictionCol=\"rawPrediction\")"
   ]
  },
  {
   "cell_type": "code",
   "execution_count": null,
   "metadata": {},
   "outputs": [],
   "source": [
    "# Builds the cross-validation model\n",
    "lr_cv = CrossValidator(estimator=lr, \n",
    "                       estimatorParamMaps=lr_param_grid, \n",
    "                       evaluator=lr_evaluator, \n",
    "                       numFolds=4)"
   ]
  },
  {
   "cell_type": "code",
   "execution_count": null,
   "metadata": {},
   "outputs": [],
   "source": [
    "# Fits the cross-validation model\n",
    "lr_cv_model = lr_cv.fit(first_processed_dataset.na.drop())"
   ]
  },
  {
   "cell_type": "code",
   "execution_count": null,
   "metadata": {
    "scrolled": false
   },
   "outputs": [
    {
     "name": "stdout",
     "output_type": "stream",
     "text": [
      "The model was fit using parameters: \n",
      "\n",
      "{Param(parent=u'CrossValidatorModel_4c4696fcafb8dd4d4426', name='estimatorParamMaps', doc='estimator param maps'): [{Param(parent=u'LogisticRegression_4ca6a34be69b30ffffec', name='regParam', doc='regularization parameter (>= 0).'): 0.0, Param(parent=u'LogisticRegression_4ca6a34be69b30ffffec', name='elasticNetParam', doc='the ElasticNet mixing parameter, in range [0, 1]. For alpha = 0, the penalty is an L2 penalty. For alpha = 1, it is an L1 penalty.'): 0.0}, {Param(parent=u'LogisticRegression_4ca6a34be69b30ffffec', name='regParam', doc='regularization parameter (>= 0).'): 0.0, Param(parent=u'LogisticRegression_4ca6a34be69b30ffffec', name='elasticNetParam', doc='the ElasticNet mixing parameter, in range [0, 1]. For alpha = 0, the penalty is an L2 penalty. For alpha = 1, it is an L1 penalty.'): 0.5}, {Param(parent=u'LogisticRegression_4ca6a34be69b30ffffec', name='regParam', doc='regularization parameter (>= 0).'): 0.0, Param(parent=u'LogisticRegression_4ca6a34be69b30ffffec', name='elasticNetParam', doc='the ElasticNet mixing parameter, in range [0, 1]. For alpha = 0, the penalty is an L2 penalty. For alpha = 1, it is an L1 penalty.'): 1.0}, {Param(parent=u'LogisticRegression_4ca6a34be69b30ffffec', name='regParam', doc='regularization parameter (>= 0).'): 0.5, Param(parent=u'LogisticRegression_4ca6a34be69b30ffffec', name='elasticNetParam', doc='the ElasticNet mixing parameter, in range [0, 1]. For alpha = 0, the penalty is an L2 penalty. For alpha = 1, it is an L1 penalty.'): 0.0}, {Param(parent=u'LogisticRegression_4ca6a34be69b30ffffec', name='regParam', doc='regularization parameter (>= 0).'): 0.5, Param(parent=u'LogisticRegression_4ca6a34be69b30ffffec', name='elasticNetParam', doc='the ElasticNet mixing parameter, in range [0, 1]. For alpha = 0, the penalty is an L2 penalty. For alpha = 1, it is an L1 penalty.'): 0.5}, {Param(parent=u'LogisticRegression_4ca6a34be69b30ffffec', name='regParam', doc='regularization parameter (>= 0).'): 0.5, Param(parent=u'LogisticRegression_4ca6a34be69b30ffffec', name='elasticNetParam', doc='the ElasticNet mixing parameter, in range [0, 1]. For alpha = 0, the penalty is an L2 penalty. For alpha = 1, it is an L1 penalty.'): 1.0}, {Param(parent=u'LogisticRegression_4ca6a34be69b30ffffec', name='regParam', doc='regularization parameter (>= 0).'): 1.0, Param(parent=u'LogisticRegression_4ca6a34be69b30ffffec', name='elasticNetParam', doc='the ElasticNet mixing parameter, in range [0, 1]. For alpha = 0, the penalty is an L2 penalty. For alpha = 1, it is an L1 penalty.'): 0.0}, {Param(parent=u'LogisticRegression_4ca6a34be69b30ffffec', name='regParam', doc='regularization parameter (>= 0).'): 1.0, Param(parent=u'LogisticRegression_4ca6a34be69b30ffffec', name='elasticNetParam', doc='the ElasticNet mixing parameter, in range [0, 1]. For alpha = 0, the penalty is an L2 penalty. For alpha = 1, it is an L1 penalty.'): 0.5}, {Param(parent=u'LogisticRegression_4ca6a34be69b30ffffec', name='regParam', doc='regularization parameter (>= 0).'): 1.0, Param(parent=u'LogisticRegression_4ca6a34be69b30ffffec', name='elasticNetParam', doc='the ElasticNet mixing parameter, in range [0, 1]. For alpha = 0, the penalty is an L2 penalty. For alpha = 1, it is an L1 penalty.'): 1.0}, {Param(parent=u'LogisticRegression_4ca6a34be69b30ffffec', name='regParam', doc='regularization parameter (>= 0).'): 2.0, Param(parent=u'LogisticRegression_4ca6a34be69b30ffffec', name='elasticNetParam', doc='the ElasticNet mixing parameter, in range [0, 1]. For alpha = 0, the penalty is an L2 penalty. For alpha = 1, it is an L1 penalty.'): 0.0}, {Param(parent=u'LogisticRegression_4ca6a34be69b30ffffec', name='regParam', doc='regularization parameter (>= 0).'): 2.0, Param(parent=u'LogisticRegression_4ca6a34be69b30ffffec', name='elasticNetParam', doc='the ElasticNet mixing parameter, in range [0, 1]. For alpha = 0, the penalty is an L2 penalty. For alpha = 1, it is an L1 penalty.'): 0.5}, {Param(parent=u'LogisticRegression_4ca6a34be69b30ffffec', name='regParam', doc='regularization parameter (>= 0).'): 2.0, Param(parent=u'LogisticRegression_4ca6a34be69b30ffffec', name='elasticNetParam', doc='the ElasticNet mixing parameter, in range [0, 1]. For alpha = 0, the penalty is an L2 penalty. For alpha = 1, it is an L1 penalty.'): 1.0}], Param(parent=u'CrossValidatorModel_4c4696fcafb8dd4d4426', name='seed', doc='random seed.'): -4372709618522015412, Param(parent=u'CrossValidatorModel_4c4696fcafb8dd4d4426', name='evaluator', doc='evaluator used to select hyper-parameters that maximize the validator metric'): BinaryClassificationEvaluator_43ef8d62054855697ebb, Param(parent=u'CrossValidatorModel_4c4696fcafb8dd4d4426', name='estimator', doc='estimator to be cross-validated'): LogisticRegression_4ca6a34be69b30ffffec}\n"
     ]
    }
   ],
   "source": [
    "print(\"The model was fit using parameters: \\n\")\n",
    "print(lr_cv_model.extractParamMap())"
   ]
  },
  {
   "cell_type": "markdown",
   "metadata": {},
   "source": [
    "#### 7.2.2. Evaluating the model"
   ]
  },
  {
   "cell_type": "code",
   "execution_count": null,
   "metadata": {},
   "outputs": [
    {
     "name": "stdout",
     "output_type": "stream",
     "text": [
      "(Row(label=0.0, prediction=1.0), 32407)\n",
      "(Row(label=1.0, prediction=0.0), 80746)\n",
      "(Row(label=0.0, prediction=0.0), 205044)\n",
      "(Row(label=1.0, prediction=1.0), 52578)\n",
      "('\\nPrecision score:', 0.6186738836265223)\n",
      "('Recall score:', 0.3943626053823768)\n",
      "('F1 score:', 0.48168421824111685)\n"
     ]
    }
   ],
   "source": [
    "# Provides a confusion matrix\n",
    "lr_label_and_pred = lr_cv_model.transform(first_processed_dataset).select(\"label\", \"prediction\")\n",
    "lr_confusion_matrix = lr_label_and_pred.rdd.zipWithIndex().countByKey()\n",
    "lr_results = process_confusion_matrix(lr_confusion_matrix)"
   ]
  },
  {
   "cell_type": "code",
   "execution_count": null,
   "metadata": {},
   "outputs": [
    {
     "name": "stdout",
     "output_type": "stream",
     "text": [
      "Intercept: -0.455104389753\n",
      "coefficients: [0.06189903555327598,0.0658780942381934,0.21194606124674514,0.08744510434373236,0.11190856951735166,-0.05171606530002419,-0.013115143064727962,0.01655038967614213,-0.08598700459294831,-0.06822739091453468,-0.0425229182615086,0.04290739327593138,-0.1010781903726357,0.158434000296626,-0.03747545649824085,0.07098760604908466,0.0024493793176930344,-0.20074891432515696,-0.009902831849775992,-0.019274748358687893,0.12350480200145719,-0.011582807240498275,0.040640170046302514,-0.15198242854106622,0.06745266467733478,-0.061274535817489886,0.1037316633521216,0.011306946154429492,-0.11516226070630171,0.05352023890764426,0.0355964632393645,0.00022428027784055236,-0.016168145635202327,0.05225712988149603,-0.021836944258521562,0.06798093235767948,-0.07327157025718525,0.013114974596861645,-0.038620673745210284,-0.00030347996828630785,0.07416114146041533,0.05947487912891487,0.09780516994340277,-0.012740125780873626,0.023493403096709452,-0.016228817186680528,0.10372660575169403,0.01887684103851041,-0.013702356855364497,0.01384194985160985,0.02944974880424959,0.029895034261160552,0.004937903184155746,0.05484098055714125,0.06457207546028376,0.013952675072102355,-0.00869708729502338,-0.09289307200803344,-0.012603894548987532,-0.06625768206967683,0.020451423984774803,0.05947838822795085,-0.0013214712473010506,-0.018820746281543625,-0.010870031289194322,0.020393381724156785,-0.03673557920910613,0.024098715614477847,-0.030827796884572097,-0.05750681702582814,-0.01625042371230904,-0.03307744757570312,0.009180385381155612,-0.028481917593786366,0.0022582495099148694,-0.03633080904258008,0.05900288044914797,0.001483091909271274,0.020323002145428468,0.010313466230379544,-0.02292023148811374,0.03608054759055592,0.03731306572731207,-0.041793714504975925,0.037453810216052576,0.02026813634281236,-0.02907489665850412,-0.030281316469301205,0.06049887951949754,0.0002506328282470845,-0.0006885937262780347,0.010391223336966269,-0.04494120326700497,-0.015202389232176292,-0.043349287730623215,-0.021542213480561474,0.0016851484340385785,0.003778974684198406,0.02568293127657289,0.03342813351925193,0.032425455169151914,0.003532746364469604,-0.035852831751013586,0.030586959515554606,-0.013001732421425712,-0.026011041399934973,0.026049813510290447,-0.022872778934307104,-0.048295865232099715,-0.004009550041627993,-0.039272325071019375,-0.01362721391795485,-0.025444414480246924,0.03157115330630486,-0.008274370561535724,-0.015172819485232138,0.016404999603657888,-8.378722096265672e-06,-0.014866962616211524,0.02528372841443085,0.0023133513705619656,0.01949270404348926,0.010054639699946523,0.011479266371289615,-0.007478980629212734,0.014872467217433238,0.013349747406269517,0.016361412688832747,-0.00843643363617416,-0.026566177366671325,0.0077904729421505985,-0.011757649508198336,0.004060174701495949,0.00941088956628475,-0.018023785981227274,0.0010730807096197275,0.0074134994455691975,-0.018570581485830014,0.0001722411544117867,-0.02118764383179103,-0.006716947408153815,-0.003248808649485862,0.010929389727782597,-0.014455290204210764,-0.00037099491674928286,-0.004110315320827376,-0.006794670425496309,-0.006920119665924229,-0.004818569597559625,-0.017144804400449812,0.020627749628554213,0.009329320648139468,-0.003185703446386094,-0.007848084490189674,0.023259726103334547,0.014325292349985357,0.017911917899007073,0.009300061630635424,0.22152549507864472,0.127445902867537,0.0437631614014737,0.024065397433902503,0.006966779769330364,0.0471721263804874,0.0033786420362734108,-0.03555776463853986,-0.005369663761855779,0.02117337868522001,-0.00901257618526917,0.021435844086694737,0.02504891211211995,0.0049895212735072214,0.015392740094940086,0.001978748289761834,0.01010877839486214,0.01767440655971115,-0.005937402221565472,0.013355700692442213,0.006506037316983293,-1.2250257504922144,-17.3365529537925,-0.009608671571305285,-0.17823822756481367,-0.016804448427932075,0.010808386068284331,-0.02865748147109489,-0.025741879853784465,-0.05732839303263828,0.018146715246604612,0.08544532624275293,-0.029831162477980466,-0.018360925989654043,-0.045520300425367095,-0.0820894296943361,-0.15549751159161285,-0.034728471854031384,-0.020895996953995754,-0.0472348194781908,-0.012443243914363137,0.04435378121593348,0.09147246627721446]\n"
     ]
    }
   ],
   "source": [
    "# Intercept and Coefficients of the regresison model\n",
    "print(\"Intercept: \" + str(lr_cv_model.bestModel.intercept) + \"\\n\"\n",
    "      \"coefficients: \" + str(lr_cv_model.bestModel.coefficients))"
   ]
  },
  {
   "cell_type": "code",
   "execution_count": null,
   "metadata": {},
   "outputs": [
    {
     "name": "stdout",
     "output_type": "stream",
     "text": [
      "('The best RegParam is: ', 0.0, 'The best ElasticNetParam is:', 0.5)\n"
     ]
    }
   ],
   "source": [
    "# Parameters of the best model\n",
    "print(\"The best RegParam is: \", lr_cv_model.bestModel._java_obj.getRegParam(),\n",
    "     \"The best ElasticNetParam is:\", lr_cv_model.bestModel._java_obj.getElasticNetParam())"
   ]
  },
  {
   "cell_type": "markdown",
   "metadata": {},
   "source": [
    "## 8. Running a Decision Tree Classifier Model Pipeline\n",
    "\n",
    "### 8.1. Declaring model hyper-parameters"
   ]
  },
  {
   "cell_type": "code",
   "execution_count": null,
   "metadata": {},
   "outputs": [],
   "source": [
    "# Declares hyperparameters\n",
    "max_depth_grid = list(range(2,10))"
   ]
  },
  {
   "cell_type": "markdown",
   "metadata": {},
   "source": [
    "### 8.2. Creating, Training, Evaluating a Model Pipeline using Cross-Validation\n",
    "\n",
    "#### 8.2.1. Building and fitting the model"
   ]
  },
  {
   "cell_type": "code",
   "execution_count": null,
   "metadata": {},
   "outputs": [],
   "source": [
    "# Builds the estimator\n",
    "dt = DecisionTreeClassifier(featuresCol=\"scaled_features\", labelCol=\"label\")"
   ]
  },
  {
   "cell_type": "code",
   "execution_count": null,
   "metadata": {},
   "outputs": [],
   "source": [
    "# Builds a parameter grid\n",
    "dt_param_grid = ParamGridBuilder().\\\n",
    "    addGrid(dt.maxDepth, max_depth_grid).\\\n",
    "    build()"
   ]
  },
  {
   "cell_type": "code",
   "execution_count": null,
   "metadata": {},
   "outputs": [],
   "source": [
    "# Builds the evaluator\n",
    "dt_evaluator = BinaryClassificationEvaluator(rawPredictionCol=\"rawPrediction\", \n",
    "                                             metricName=\"areaUnderROC\")"
   ]
  },
  {
   "cell_type": "code",
   "execution_count": null,
   "metadata": {},
   "outputs": [],
   "source": [
    "# Builds the cross-validation model\n",
    "dt_cv = CrossValidator(estimator=dt, \n",
    "                       estimatorParamMaps=dt_param_grid, \n",
    "                       evaluator=dt_evaluator, \n",
    "                       numFolds=4)"
   ]
  },
  {
   "cell_type": "code",
   "execution_count": null,
   "metadata": {
    "scrolled": false
   },
   "outputs": [],
   "source": [
    "# Fits the cross-validation model\n",
    "dt_cv_model = dt_cv.fit(first_processed_dataset.na.drop())"
   ]
  },
  {
   "cell_type": "markdown",
   "metadata": {},
   "source": [
    "#### 8.2.2. Evaluating the model"
   ]
  },
  {
   "cell_type": "code",
   "execution_count": null,
   "metadata": {},
   "outputs": [
    {
     "name": "stdout",
     "output_type": "stream",
     "text": [
      "(Row(label=0.0, prediction=1.0), 24460)\n",
      "(Row(label=1.0, prediction=0.0), 104968)\n",
      "(Row(label=0.0, prediction=0.0), 212991)\n",
      "(Row(label=1.0, prediction=1.0), 28356)\n",
      "('\\nPrecision score:', 0.5368827627991518)\n",
      "('Recall score:', 0.21268488794215595)\n",
      "('F1 score:', 0.3046739013645643)\n"
     ]
    }
   ],
   "source": [
    "# Provides a confusion matrix\n",
    "dt_cv_label_and_pred = dt_cv_model.transform(first_processed_dataset).select(\"label\", \"prediction\")\n",
    "dt_cv_confusion_matrix = dt_cv_label_and_pred.rdd.zipWithIndex().countByKey()\n",
    "dt_cv_results = process_confusion_matrix(dt_cv_confusion_matrix)"
   ]
  },
  {
   "cell_type": "code",
   "execution_count": null,
   "metadata": {
    "scrolled": true
   },
   "outputs": [
    {
     "name": "stdout",
     "output_type": "stream",
     "text": [
      "('The best MaxDepth is:', 2)\n"
     ]
    }
   ],
   "source": [
    "print(\"The best MaxDepth is:\", dt_cv_model.bestModel._java_obj.getMaxDepth())"
   ]
  },
  {
   "cell_type": "code",
   "execution_count": null,
   "metadata": {},
   "outputs": [
    {
     "name": "stdout",
     "output_type": "stream",
     "text": [
      "DecisionTreeClassificationModel (uid=DecisionTreeClassifier_4f01893f4ce7faf4934e) of depth 2 with 7 nodes\n"
     ]
    }
   ],
   "source": [
    "print(dt_cv_model.bestModel)"
   ]
  },
  {
   "cell_type": "markdown",
   "metadata": {},
   "source": [
    "### 8.3. Creating, Training, Evaluating a Model Pipeline using Train-Test Splits\n",
    "\n",
    "#### 8.3.1. Building and fitting the model"
   ]
  },
  {
   "cell_type": "code",
   "execution_count": null,
   "metadata": {},
   "outputs": [],
   "source": [
    "# Splits the dataset between training and validation sets\n",
    "training, test = first_processed_dataset.randomSplit([training_size, test_size], seed=0)"
   ]
  },
  {
   "cell_type": "code",
   "execution_count": null,
   "metadata": {},
   "outputs": [],
   "source": [
    "# Builds the estimator\n",
    "dt = DecisionTreeClassifier(featuresCol=\"scaled_features\", labelCol=\"label\")"
   ]
  },
  {
   "cell_type": "code",
   "execution_count": null,
   "metadata": {},
   "outputs": [],
   "source": [
    "# Builds the evaluator\n",
    "dt_tt_evaluator = BinaryClassificationEvaluator(rawPredictionCol=\"rawPrediction\", metricName=\"areaUnderROC\")"
   ]
  },
  {
   "cell_type": "code",
   "execution_count": null,
   "metadata": {
    "scrolled": false
   },
   "outputs": [],
   "source": [
    "# Fits the cross-validation model\n",
    "dt_tt_model = dt.fit(training.na.drop())"
   ]
  },
  {
   "cell_type": "markdown",
   "metadata": {},
   "source": [
    "#### 8.3.2. Evaluating the model"
   ]
  },
  {
   "cell_type": "code",
   "execution_count": null,
   "metadata": {
    "scrolled": false
   },
   "outputs": [
    {
     "name": "stdout",
     "output_type": "stream",
     "text": [
      "(Row(label=0.0, prediction=1.0), 8742)\n",
      "(Row(label=1.0, prediction=0.0), 28677)\n",
      "(Row(label=0.0, prediction=0.0), 62278)\n",
      "(Row(label=1.0, prediction=1.0), 11499)\n",
      "('\\nPrecision score:', 0.5681043426708167)\n",
      "('Recall score:', 0.28621565113500597)\n",
      "('F1 score:', 0.38065445156164657)\n"
     ]
    }
   ],
   "source": [
    "# Predicts on training data\n",
    "pred_test = dt_tt_model.transform(test)\n",
    "\n",
    "# Provides a confusion matrix\n",
    "dt_tt_label_and_pred = pred_test.select(\"label\", \"prediction\")\n",
    "dt_tt_confusion_matrix = dt_tt_label_and_pred.rdd.zipWithIndex().countByKey()\n",
    "dt_tt_results = process_confusion_matrix(dt_tt_confusion_matrix)"
   ]
  },
  {
   "cell_type": "code",
   "execution_count": null,
   "metadata": {},
   "outputs": [
    {
     "name": "stdout",
     "output_type": "stream",
     "text": [
      "('The test error is', 0.4605613835101334)\n"
     ]
    }
   ],
   "source": [
    "accuracy = dt_tt_evaluator.evaluate(pred_test)\n",
    "print(\"The test error is\", 1.0 - accuracy)"
   ]
  },
  {
   "cell_type": "code",
   "execution_count": null,
   "metadata": {},
   "outputs": [
    {
     "name": "stdout",
     "output_type": "stream",
     "text": [
      "DecisionTreeClassificationModel (uid=DecisionTreeClassifier_4dac9fe4035baef52ac5) of depth 5 with 63 nodes\n"
     ]
    }
   ],
   "source": [
    "print(dt_tt_model)"
   ]
  },
  {
   "cell_type": "markdown",
   "metadata": {},
   "source": [
    "## 9. Running a Random Forest Model Pipeline\n",
    "\n",
    "### 9.1. Declaring model hyper-parameters"
   ]
  },
  {
   "cell_type": "code",
   "execution_count": null,
   "metadata": {},
   "outputs": [],
   "source": [
    "# Declares hyperparameters\n",
    "max_depth_grid = list(range(2,10))\n",
    "minimum_info_grain = [0.0, 0.1, 0.2, 0.3, 0.4, 0.5] # must be float values"
   ]
  },
  {
   "cell_type": "markdown",
   "metadata": {},
   "source": [
    "### 9.2. Creating a model pipeline using cross-validation\n",
    "\n",
    "#### 9.2.1. Building and fitting the model"
   ]
  },
  {
   "cell_type": "code",
   "execution_count": null,
   "metadata": {},
   "outputs": [],
   "source": [
    "# Builds the estimator\n",
    "rf = RandomForestClassifier(featuresCol=\"scaled_features\", labelCol=\"label\")"
   ]
  },
  {
   "cell_type": "code",
   "execution_count": null,
   "metadata": {},
   "outputs": [],
   "source": [
    "# Builds a parameter grid\n",
    "rf_param_grid = ParamGridBuilder().\\\n",
    "    addGrid(rf.maxDepth, max_depth_grid).\\\n",
    "    addGrid(rf.minInfoGain, minimum_info_grain).\\\n",
    "    build()"
   ]
  },
  {
   "cell_type": "code",
   "execution_count": null,
   "metadata": {},
   "outputs": [],
   "source": [
    "# Builds the evaluator\n",
    "rf_evaluator = BinaryClassificationEvaluator()"
   ]
  },
  {
   "cell_type": "code",
   "execution_count": null,
   "metadata": {},
   "outputs": [],
   "source": [
    "# Builds the cross-validation model\n",
    "rf_cv = CrossValidator(estimator=rf, \n",
    "                       estimatorParamMaps=rf_param_grid, \n",
    "                       evaluator=rf_evaluator)"
   ]
  },
  {
   "cell_type": "code",
   "execution_count": null,
   "metadata": {
    "scrolled": false
   },
   "outputs": [],
   "source": [
    "# Fits the cross-validation model\n",
    "rf_cv_model = rf_cv.fit(first_processed_dataset.na.drop())"
   ]
  },
  {
   "cell_type": "markdown",
   "metadata": {},
   "source": [
    "#### 9.2.2. Evaluating the model"
   ]
  },
  {
   "cell_type": "code",
   "execution_count": null,
   "metadata": {},
   "outputs": [
    {
     "name": "stdout",
     "output_type": "stream",
     "text": [
      "(Row(label=0.0, prediction=1.0), 7990)\n",
      "(Row(label=1.0, prediction=0.0), 113856)\n",
      "(Row(label=0.0, prediction=0.0), 229461)\n",
      "(Row(label=1.0, prediction=1.0), 19468)\n",
      "('\\nPrecision score:', 0.709010124553864)\n",
      "('Recall score:', 0.14602022141549909)\n",
      "('F1 score:', 0.2421664116629971)\n"
     ]
    }
   ],
   "source": [
    "# Provides a confusion matrix\n",
    "rf_label_and_pred = rf_cv_model.transform(first_processed_dataset).select(\"label\", \"prediction\")\n",
    "rf_confusion_matrix = rf_label_and_pred.rdd.zipWithIndex().countByKey()\n",
    "rf_results = process_confusion_matrix(rf_confusion_matrix)"
   ]
  },
  {
   "cell_type": "code",
   "execution_count": null,
   "metadata": {},
   "outputs": [
    {
     "name": "stdout",
     "output_type": "stream",
     "text": [
      "RandomForestClassificationModel (uid=RandomForestClassifier_43a483c1111086787d2b) with 20 trees\n"
     ]
    }
   ],
   "source": [
    "print(rf_cv_model.bestModel)"
   ]
  },
  {
   "cell_type": "markdown",
   "metadata": {},
   "source": [
    "## 10. Running a Naive Bayes Model Pipeline\n",
    "\n",
    "### 10.1.  Declaring model hyper-parameters"
   ]
  },
  {
   "cell_type": "code",
   "execution_count": null,
   "metadata": {},
   "outputs": [],
   "source": [
    "# Declares hyperparameters\n",
    "smoothing = map(float, list(range(0,10))) # must be float values"
   ]
  },
  {
   "cell_type": "markdown",
   "metadata": {},
   "source": [
    "### 10.2. Creating a model pipeline using cross-validation\n",
    "\n",
    "#### 10.2.1. Building and fitting the model"
   ]
  },
  {
   "cell_type": "code",
   "execution_count": null,
   "metadata": {},
   "outputs": [],
   "source": [
    "# Builds the estimator\n",
    "nb = NaiveBayes(featuresCol=\"scaled_features\", labelCol=\"label\")"
   ]
  },
  {
   "cell_type": "code",
   "execution_count": null,
   "metadata": {},
   "outputs": [],
   "source": [
    "# Builds a parameter grid\n",
    "nb_param_grid = ParamGridBuilder().\\\n",
    "    addGrid(nb.smoothing, smoothing).\\\n",
    "    build()"
   ]
  },
  {
   "cell_type": "code",
   "execution_count": null,
   "metadata": {},
   "outputs": [],
   "source": [
    "# Builds the evaluator\n",
    "nb_evaluator = BinaryClassificationEvaluator(rawPredictionCol=\"rawPrediction\", metricName=\"areaUnderROC\")"
   ]
  },
  {
   "cell_type": "code",
   "execution_count": null,
   "metadata": {},
   "outputs": [],
   "source": [
    "# Builds the cross-validation model\n",
    "nb_cv = CrossValidator(estimator = nb, \n",
    "                       estimatorParamMaps = nb_param_grid, \n",
    "                       evaluator = nb_evaluator)"
   ]
  },
  {
   "cell_type": "code",
   "execution_count": null,
   "metadata": {
    "scrolled": false
   },
   "outputs": [],
   "source": [
    "# Fits the cross-validation model\n",
    "nb_cv_model = nb_cv.fit(second_processed_dataset.na.drop())"
   ]
  },
  {
   "cell_type": "markdown",
   "metadata": {},
   "source": [
    "#### 10.2.2. Evaluating the model"
   ]
  },
  {
   "cell_type": "code",
   "execution_count": null,
   "metadata": {},
   "outputs": [
    {
     "name": "stdout",
     "output_type": "stream",
     "text": [
      "(Row(label=0.0, prediction=1.0), 87655)\n",
      "(Row(label=1.0, prediction=0.0), 48518)\n",
      "(Row(label=0.0, prediction=0.0), 149796)\n",
      "(Row(label=1.0, prediction=1.0), 84806)\n",
      "('\\nPrecision score:', 0.4917401615437693)\n",
      "('Recall score:', 0.6360895262668387)\n",
      "('F1 score:', 0.5546773059502591)\n"
     ]
    }
   ],
   "source": [
    "# Provides a confusion matrix\n",
    "nb_label_and_pred = nb_cv_model.transform(second_processed_dataset).select(\"label\", \"prediction\")\n",
    "nb_confusion_matrix = nb_label_and_pred.rdd.zipWithIndex().countByKey()\n",
    "nb_results = process_confusion_matrix(nb_confusion_matrix)"
   ]
  },
  {
   "cell_type": "code",
   "execution_count": null,
   "metadata": {
    "scrolled": true
   },
   "outputs": [
    {
     "name": "stdout",
     "output_type": "stream",
     "text": [
      "('The parameter smoothing has best value:', 0.0)\n"
     ]
    }
   ],
   "source": [
    "print(\"The parameter smoothing has best value:\", nb_cv_model.bestModel._java_obj.getSmoothing())"
   ]
  },
  {
   "cell_type": "code",
   "execution_count": null,
   "metadata": {
    "scrolled": true
   },
   "outputs": [
    {
     "name": "stdout",
     "output_type": "stream",
     "text": [
      "NaiveBayes_4d2f8b31a37a9ddd2f4d\n"
     ]
    }
   ],
   "source": [
    "print(nb_cv_model.bestModel)"
   ]
  },
  {
   "cell_type": "markdown",
   "metadata": {},
   "source": [
    "## 11. Summarizing Results/Conclusion"
   ]
  },
  {
   "cell_type": "code",
   "execution_count": null,
   "metadata": {},
   "outputs": [
    {
     "name": "stdout",
     "output_type": "stream",
     "text": [
      "(0.6186738836265223, 0.3943626053823768, 0.48168421824111685)\n",
      "(0.5368827627991518, 0.21268488794215595, 0.3046739013645643)\n",
      "(0.5681043426708167, 0.28621565113500597, 0.38065445156164657)\n",
      "(0.709010124553864, 0.14602022141549909, 0.2421664116629971)\n",
      "(0.4917401615437693, 0.6360895262668387, 0.5546773059502591)\n"
     ]
    }
   ],
   "source": [
    "for results in [lr_results, dt_cv_results, dt_tt_results, rf_results, nb_results]:\n",
    "    print(results)"
   ]
  },
  {
   "cell_type": "code",
   "execution_count": 86,
   "metadata": {
    "scrolled": false
   },
   "outputs": [
    {
     "data": {
      "image/png": "[encoded data removed]",
      "text/plain": [
       "<matplotlib.figure.Figure at 0x7f02201bd910>"
      ]
     },
     "metadata": {},
     "output_type": "display_data"
    }
   ],
   "source": [
    "# data to plot\n",
    "n_groups = 3\n",
    "\n",
    "# create plot\n",
    "fig, ax = plt.subplots(figsize=(20,10))\n",
    "index = np.arange(n_groups)\n",
    "bar_width = 0.15\n",
    "opacity = 0.8\n",
    "\n",
    "logreg = plt.bar(index - bar_width, lr_results, bar_width,\n",
    "alpha=opacity,\n",
    "color='r',\n",
    "label='Logistic Regression w/ CV')\n",
    "\n",
    "crosvaldt = plt.bar(index, dt_cv_results, bar_width,\n",
    "alpha=opacity,\n",
    "color='g',\n",
    "label='Decision Tree w/ CV')\n",
    "\n",
    "traintestdt = plt.bar(index + bar_width, dt_tt_results, bar_width,\n",
    "alpha=opacity,\n",
    "color='b',\n",
    "label='Decision Tree w/ train-test sets')\n",
    "\n",
    "randomfor = plt.bar(index + bar_width*2, rf_results, bar_width,\n",
    "alpha=opacity,\n",
    "color='pink',\n",
    "label='Random Forest w/ CV')\n",
    "\n",
    "naivebay = plt.bar(index + bar_width*3, nb_results, bar_width,\n",
    "alpha=opacity,\n",
    "color='purple',\n",
    "label='Naive Bayes w/ CV')\n",
    "\n",
    "plt.xlabel('Scores', fontsize=30)\n",
    "plt.ylabel('Value', fontsize=30)\n",
    "plt.title('Scores by Models', fontsize=35)\n",
    "plt.xticks(index + bar_width, ('Precision', 'Recall', 'F1'), fontsize=25)\n",
    "plt.yticks(fontsize=25)\n",
    "plt.legend(fontsize=25)\n",
    "plt.tight_layout()\n",
    "plt.show()"
   ]
  },
  {
   "cell_type": "markdown",
   "metadata": {},
   "source": [
    "<u>Conclusion</u>\n",
    "\n",
    "**Our most *precise* model is the Random Forest with cross-validation**. However, the model is precise *at the cost of recall* -- it implies that the model has a low level of false positives but a high level of false negatives (incidentally the most out of all the models tried out in this project).\n",
    "\n",
    "Still, our goal is to look at whether a campaign on Kickstarter is successful or not. We want to identify the successful ones the most. Taking this into consideration, having some amount of false positives is **less important than reducing our amount of false negatives (i.e. we want to increase our Recall)**. \n",
    "\n",
    "If we are looking at ***recall* alone**, **Naive Bayes becomes the most interesting model**. But we need to go one step further. Our dataset is somewhat imbalanced and thus we should prefer a more generic metrics than just precision or recall. \n",
    "\n",
    "**Reminder:**\n",
    "\n",
    "$$precision = \\frac{True Positives}{True Positives+False Positives}\\quad recall = \\frac{True Positives}{True Positives + False Negatives}$$\n",
    "\n",
    "That's where the F1 score comes into play.\n",
    "\n",
    "$$F1 = 2*\\frac{Precision * Recall}{Precision + Recall}$$\n",
    "\n",
    "\n",
    "The F1 score is a type of mean between precision and recall. It is a generic measure of accuracy. And here we find that, indeed, our **Naive Bayes with cross-validation model has a the highest accuracy** out of all the models we tried out with the following final scores:\n",
    "\n",
    "| Metrics | Score | \n",
    "| :--- | :--- |\n",
    "| Precision | 0.492 | \n",
    "| Recall | 0.636 | \n",
    "| F1 | 0.555 | "
   ]
  },
  {
   "cell_type": "markdown",
   "metadata": {},
   "source": [
    "<hr>"
   ]
  },
  {
   "cell_type": "markdown",
   "metadata": {},
   "source": [
    "## Annex.1. Running a Deep Learning Model with BigDL  (<span style=\"color:red\">Discontinued</span>)\n",
    "\n",
    "<span style=\"color:red\">/!\\ Does not run on Google Cloud as the support for Python 2.7 is discontinued.</span>"
   ]
  },
  {
   "cell_type": "raw",
   "metadata": {},
   "source": [
    "import itertools\n",
    "import re\n",
    "from sklearn.metrics import confusion_matrix\n",
    "from sklearn.metrics import accuracy_score\n",
    "import matplotlib.pyplot as plt\n",
    "%matplotlib inline\n",
    "import seaborn as sn\n",
    "import pandas as pd\n",
    "import random as rd\n",
    "import datetime as dt"
   ]
  },
  {
   "cell_type": "raw",
   "metadata": {},
   "source": [
    "from bigdl.nn.layer import *\n",
    "from bigdl.nn.criterion import *\n",
    "from bigdl.optim.optimizer import *\n",
    "from bigdl.util.common import *\n",
    "from bigdl.util.common import Sample"
   ]
  },
  {
   "cell_type": "raw",
   "metadata": {
    "scrolled": true
   },
   "source": [
    "first_processed_dataset.limit(5).toPandas()"
   ]
  },
  {
   "cell_type": "raw",
   "metadata": {},
   "source": [
    "learning_rate = 0.2\n",
    "training_epochs = 15\n",
    "batch_size = 2048\n",
    "training_size = 0.8\n",
    "test_size = 1 - training_size"
   ]
  },
  {
   "cell_type": "raw",
   "metadata": {},
   "source": [
    "# Splits the dataset between training and validation sets\n",
    "training, test = first_processed_dataset.randomSplit([training_size, test_size], seed=0)"
   ]
  },
  {
   "cell_type": "raw",
   "metadata": {},
   "source": [
    "# Counts the number of classes\n",
    "nb_classes = first_processed_dataset.select(\"label\").distinct().count()"
   ]
  },
  {
   "cell_type": "raw",
   "metadata": {},
   "source": [
    "# Counts the input dimension size\n",
    "input_dimension = len(first_processed_dataset.select(\"scaled_features\").first()[0])"
   ]
  },
  {
   "cell_type": "raw",
   "metadata": {},
   "source": [
    "# Define the logistic_regression model\n",
    "def logistic_regression_DL(n_input=input_dimension, \n",
    "                           n_classes=nb_classes):\n",
    "    # Initialize a sequential container\n",
    "    model = Sequential()\n",
    " \n",
    "    model.add(Reshape([embedding_dim, 1]))\n",
    "    model.add(Linear(128, 64).set_name('fc1'))\n",
    "    model.add(Linear(64, 16).set_name('fc2'))\n",
    "    model.add(Linear(16, n_classes)).set_name('fc3')\n",
    "    model.add(LogSoftMax())\n",
    "    \n",
    "    return model\n",
    "\n",
    "model = logistic_regression_DL()"
   ]
  },
  {
   "cell_type": "raw",
   "metadata": {},
   "source": [
    "# Create an Optimizer\n",
    "\n",
    "optimizer = Optimizer(\n",
    "    model=model,\n",
    "    training_rdd=training,\n",
    "    criterion=ClassNLLCriterion(),\n",
    "    optim_method=SGD(learningrate=learning_rate),\n",
    "    end_trigger=MaxEpoch(training_epochs),\n",
    "    batch_size=batch_size)"
   ]
  },
  {
   "cell_type": "raw",
   "metadata": {},
   "source": [
    "%%time\n",
    "# Start to train\n",
    "trained_model = optimizer.optimize()\n",
    "print(\"Optimization Done.\")"
   ]
  },
  {
   "cell_type": "raw",
   "metadata": {},
   "source": [
    "def map_predict_label(l):\n",
    "    return l.argmax()\n",
    "def map_groundtruth_label(l):\n",
    "    return int(l[0] - 1)"
   ]
  },
  {
   "cell_type": "raw",
   "metadata": {},
   "source": [
    "# Prediction\n",
    "predictions = trained_model.predict(test)"
   ]
  },
  {
   "cell_type": "markdown",
   "metadata": {},
   "source": [
    "## Annex.2. Running a Deep Learning Model with Elephas  (<span style=\"color:red\">Discontinued</span>)\n",
    "\n",
    "<span style=\"color:red\">/!\\ Does not run on Google Cloud as the available tensorflow versions are below the required 2.2 one.</span>\n",
    "\n",
    "### Annex.2.1.  Transforming the dataset & declaring model hyper-parameters\n",
    "\n",
    "We will be reusing the first dataset we processed."
   ]
  },
  {
   "cell_type": "raw",
   "metadata": {},
   "source": [
    "first_processed_dataset.limit(5).toPandas()"
   ]
  },
  {
   "cell_type": "raw",
   "metadata": {},
   "source": [
    "# Splits the dataset between training and validation sets\n",
    "training, test = first_processed_dataset.randomSplit([training_size, test_size], seed=0)"
   ]
  },
  {
   "cell_type": "raw",
   "metadata": {},
   "source": [
    "# Counts the number of classes\n",
    "nb_classes = first_processed_dataset.select(\"label\").distinct().count()"
   ]
  },
  {
   "cell_type": "raw",
   "metadata": {},
   "source": [
    "# Counts the input dimension size\n",
    "input_dimension = len(first_processed_dataset.select(\"scaled_features\").first()[0])"
   ]
  },
  {
   "cell_type": "raw",
   "metadata": {},
   "source": [
    "# Declares hyperparameters\n",
    "dense_layer_neurons = 256\n",
    "dropout_rate = 0.3\n",
    "regularizer_rate = 0.01"
   ]
  },
  {
   "cell_type": "markdown",
   "metadata": {},
   "source": [
    "### Annex.2.2. Creating a model pipeline using Train-Test split\n",
    "\n",
    "#### Annex.2.2.1. Building the model"
   ]
  },
  {
   "cell_type": "raw",
   "metadata": {},
   "source": [
    "from tensorflow.keras import optimizers, regularizers\n",
    "from keras.layers.core import Dense, Dropout, Activation\n",
    "from keras.models import Sequential\n",
    "from keras.optimizers import Adam\n",
    "\n",
    "from elephas.ml_model import ElephasEstimator\n",
    "\n",
    "from pyspark.mllib.evaluation import MulticlassMetrics"
   ]
  },
  {
   "cell_type": "raw",
   "metadata": {},
   "source": [
    "# Builds a Deep Learning model\n",
    "model = Sequential()\n",
    "model.add(Dense(dense_layer_neurons, \n",
    "                input_shape=(input_dimension,), \n",
    "                activity_regularizer=regularizers.l2(regularizer_rate)))\n",
    "model.add(Activation(\"relu\"))\n",
    "model.add(Dropout(rate=dropout_rate))\n",
    "model.add(Dense(dense_layer_neurons, \n",
    "                activity_regularizer=regularizers.l2(regularizer_rate)))\n",
    "model.add(Activation(\"relu\"))\n",
    "model.add(Dropout(rate=dropout_rate))\n",
    "model.add(Dense(nb_classes))\n",
    "model.add(Activation(\"sigmoid\"))\n",
    "model.compile(loss=\"binary_crossentropy\", optimizer=\"Adam\")\n",
    "\n",
    "model.summary()"
   ]
  },
  {
   "cell_type": "raw",
   "metadata": {},
   "source": [
    "# Builds a distributed deep learning pipeline for our model\n",
    "\n",
    "# Sets and serializes the optimizer\n",
    "optimizer_configuration = optimizers.Adam(lr=0.01)\n",
    "opt_conf = optimizers.serialize(optimizer_configuration)\n",
    "\n",
    "# Initializes the sparkML estimator\n",
    "estimator = ElephasEstimator(labelCol='label', featuresCol='scaled_features')\n",
    "estimator.set_keras_model_config(model.to_yaml())\n",
    "estimator.set_categorical_labels(True)\n",
    "estimator.set_nb_classes(nb_classes)\n",
    "estimator.set_num_workers(1)\n",
    "estimator.set_epochs(25)\n",
    "estimator.set_batch_size(64)\n",
    "estimator.set_verbosity(1)\n",
    "estimator.set_validation_split(0.10)\n",
    "estimator.set_optimizer_config(opt_conf)\n",
    "estimator.set_mode(\"synchronous\")\n",
    "estimator.set_loss(\"binary_crossentropy\")\n",
    "estimator.set_metrics([\"acc\"])"
   ]
  },
  {
   "cell_type": "raw",
   "metadata": {},
   "source": [
    "# Sets the pipeline\n",
    "\n",
    "dl_pipeline = Pipeline(stages=[estimator])"
   ]
  },
  {
   "cell_type": "markdown",
   "metadata": {},
   "source": [
    "#### Annex.2.2.2. Fitting and Evaluating the model"
   ]
  },
  {
   "cell_type": "raw",
   "metadata": {},
   "source": [
    "# Fits and predicts\n",
    "fit_dl_pipeline = dl_pipeline.fit(training)\n",
    "pred_training = fit_dl_pipeline.transform(training)\n",
    "pred_test = fit_dl_pipeline.transform(test)"
   ]
  },
  {
   "cell_type": "raw",
   "metadata": {},
   "source": [
    "# Retrieves results\n",
    "results_training = pred_train.select(\"label\", \"prediction\")\n",
    "results_test = pred_test.select(\"label\", \"prediction\")"
   ]
  },
  {
   "cell_type": "raw",
   "metadata": {},
   "source": [
    "# Builds the metrics\n",
    "pred_and_label_training = results_training.rdd.map(lambda row: (row[\"label\"], row[\"prediction\"]))\n",
    "pred_and_label_test = results_test.rdd.map(lambda row: (row[\"label\"], row[\"prediction\"]))\n",
    "\n",
    "metrics_training = MulticlassMetrics(pred_and_label_training)\n",
    "metrics_test = MulticlassMetrics(pred_and_label_test)"
   ]
  },
  {
   "cell_type": "raw",
   "metadata": {},
   "source": [
    "# Prints the results\n",
    "print(\"Training Data Accuracy {}\".format(round(metrics_training.precision(),4)))\n",
    "print(\"Training Data Confusion Matrix\")\n",
    "print(results_training.crosstab(\"label\", \"prediction\").toPandas())\n",
    "\n",
    "print(\"\\nTest Data Accuracy {}\".format(round(metrics_test.precision(),4)))\n",
    "print(\"Test Data Confusion Matrix\")\n",
    "print(results_test.crosstab(\"label\", \"prediction\").toPandas())"
   ]
  }
 ],
 "metadata": {
  "kernelspec": {
   "display_name": "Python 3",
   "language": "python",
   "name": "python3"
  },
  "language_info": {
   "codemirror_mode": {
    "name": "ipython",
    "version": 3
   },
   "file_extension": ".py",
   "mimetype": "text/x-python",
   "name": "python",
   "nbconvert_exporter": "python",
   "pygments_lexer": "ipython3",
   "version": "3.8.5"
  }
 },
 "nbformat": 4,
 "nbformat_minor": 4
}
